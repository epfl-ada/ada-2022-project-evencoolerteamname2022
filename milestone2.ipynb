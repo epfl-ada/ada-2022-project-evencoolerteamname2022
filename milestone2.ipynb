{
 "cells": [
  {
   "cell_type": "markdown",
   "metadata": {},
   "source": [
    "# Project Milestone 2"
   ]
  },
  {
   "cell_type": "code",
   "execution_count": null,
   "metadata": {},
   "outputs": [],
   "source": []
  }
 ],
 "metadata": {
  "kernelspec": {
   "display_name": "Python 3.9.13 ('ada')",
   "language": "python",
   "name": "python3"
  },
  "language_info": {
   "name": "python",
   "version": "3.9.13"
  },
  "orig_nbformat": 4,
  "vscode": {
   "interpreter": {
    "hash": "582c6bb8b587186429e5f1395d70e92ef827e273adcf94cfc6fc3982bf631991"
   }
  }
 },
 "nbformat": 4,
 "nbformat_minor": 2
}
