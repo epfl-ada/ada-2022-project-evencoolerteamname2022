{
 "cells": [
  {
   "cell_type": "markdown",
   "id": "3affd2d7",
   "metadata": {},
   "source": [
    "Smurfette principle derivation, analysis of movie summaries, women are more often than not mentioned with a male character.\n",
    "\n",
    "Process the summary, and count how many times each character is mentioned, use n-grams (2-3 ?) to see when they are mentioned together.\n",
    "\n",
    "Maybe measure throughout the years ?\n",
    "\n",
    "Or measure with different n for n-grams, interactive plot ? (possible to do both yearly + variable n too)"
   ]
  },
  {
   "cell_type": "code",
   "execution_count": 3,
   "id": "03a7f934",
   "metadata": {},
   "outputs": [],
   "source": [
    "import pandas as pd\n",
    "import json"
   ]
  },
  {
   "cell_type": "code",
   "execution_count": 10,
   "id": "c93256f6",
   "metadata": {},
   "outputs": [
    {
     "name": "stdout",
     "output_type": "stream",
     "text": [
      "Number of characters: 450669\n"
     ]
    },
    {
     "data": {
      "text/html": [
       "<div>\n",
       "<style scoped>\n",
       "    .dataframe tbody tr th:only-of-type {\n",
       "        vertical-align: middle;\n",
       "    }\n",
       "\n",
       "    .dataframe tbody tr th {\n",
       "        vertical-align: top;\n",
       "    }\n",
       "\n",
       "    .dataframe thead th {\n",
       "        text-align: right;\n",
       "    }\n",
       "</style>\n",
       "<table border=\"1\" class=\"dataframe\">\n",
       "  <thead>\n",
       "    <tr style=\"text-align: right;\">\n",
       "      <th></th>\n",
       "      <th>Wikipedia movie ID</th>\n",
       "      <th>Freebase movie ID</th>\n",
       "      <th>Movie release date</th>\n",
       "      <th>Character name</th>\n",
       "      <th>Actor date of birth</th>\n",
       "      <th>Actor gender</th>\n",
       "      <th>Actor height (in meters)</th>\n",
       "      <th>Actor ethnicity (Freebase ID)</th>\n",
       "      <th>Actor name</th>\n",
       "      <th>Actor age at movie release</th>\n",
       "      <th>Freebase character/actor map ID</th>\n",
       "      <th>Freebase character ID</th>\n",
       "      <th>Freebase actor ID</th>\n",
       "    </tr>\n",
       "  </thead>\n",
       "  <tbody>\n",
       "    <tr>\n",
       "      <th>0</th>\n",
       "      <td>975900</td>\n",
       "      <td>/m/03vyhn</td>\n",
       "      <td>2001-08-24</td>\n",
       "      <td>Akooshay</td>\n",
       "      <td>1958-08-26</td>\n",
       "      <td>F</td>\n",
       "      <td>1.62</td>\n",
       "      <td>NaN</td>\n",
       "      <td>Wanda De Jesus</td>\n",
       "      <td>42.0</td>\n",
       "      <td>/m/0bgchxw</td>\n",
       "      <td>/m/0bgcj3x</td>\n",
       "      <td>/m/03wcfv7</td>\n",
       "    </tr>\n",
       "    <tr>\n",
       "      <th>1</th>\n",
       "      <td>975900</td>\n",
       "      <td>/m/03vyhn</td>\n",
       "      <td>2001-08-24</td>\n",
       "      <td>Lieutenant Melanie Ballard</td>\n",
       "      <td>1974-08-15</td>\n",
       "      <td>F</td>\n",
       "      <td>1.78</td>\n",
       "      <td>/m/044038p</td>\n",
       "      <td>Natasha Henstridge</td>\n",
       "      <td>27.0</td>\n",
       "      <td>/m/0jys3m</td>\n",
       "      <td>/m/0bgchn4</td>\n",
       "      <td>/m/0346l4</td>\n",
       "    </tr>\n",
       "  </tbody>\n",
       "</table>\n",
       "</div>"
      ],
      "text/plain": [
       "   Wikipedia movie ID Freebase movie ID Movie release date  \\\n",
       "0              975900         /m/03vyhn         2001-08-24   \n",
       "1              975900         /m/03vyhn         2001-08-24   \n",
       "\n",
       "               Character name Actor date of birth Actor gender  \\\n",
       "0                    Akooshay          1958-08-26            F   \n",
       "1  Lieutenant Melanie Ballard          1974-08-15            F   \n",
       "\n",
       "   Actor height (in meters) Actor ethnicity (Freebase ID)          Actor name  \\\n",
       "0                      1.62                           NaN      Wanda De Jesus   \n",
       "1                      1.78                    /m/044038p  Natasha Henstridge   \n",
       "\n",
       "   Actor age at movie release Freebase character/actor map ID  \\\n",
       "0                        42.0                      /m/0bgchxw   \n",
       "1                        27.0                       /m/0jys3m   \n",
       "\n",
       "  Freebase character ID Freebase actor ID  \n",
       "0            /m/0bgcj3x        /m/03wcfv7  \n",
       "1            /m/0bgchn4         /m/0346l4  "
      ]
     },
     "execution_count": 10,
     "metadata": {},
     "output_type": "execute_result"
    }
   ],
   "source": [
    "# Character metadata\n",
    "char_md_cols = ['Wikipedia movie ID',\n",
    "'Freebase movie ID',\n",
    "'Movie release date',\n",
    "'Character name',\n",
    "'Actor date of birth',\n",
    "'Actor gender',\n",
    "'Actor height (in meters)',\n",
    "'Actor ethnicity (Freebase ID)',\n",
    "'Actor name',\n",
    "'Actor age at movie release',\n",
    "'Freebase character/actor map ID',\n",
    "'Freebase character ID',\n",
    "'Freebase actor ID',\n",
    "]\n",
    "char_md = pd.read_csv('data/character.metadata.tsv', sep='\\t', names=char_md_cols)\n",
    "print('Number of characters:', char_md.shape[0])\n",
    "char_md.head(2)"
   ]
  },
  {
   "cell_type": "code",
   "execution_count": 18,
   "id": "035ddcf6",
   "metadata": {},
   "outputs": [],
   "source": [
    "wikipedia_movie_IDS = list(summaries.keys())"
   ]
  },
  {
   "cell_type": "code",
   "execution_count": 60,
   "id": "1e373177",
   "metadata": {},
   "outputs": [],
   "source": [
    "import gzip\n",
    "from xml.dom.minidom import parse, parseString\n",
    "\n",
    "\n",
    "def open_parse_summary(wiki_id):\n",
    "    # open and read gzipped xml file\n",
    "    xml_file = gzip.open(\"./data/corenlp_plot_summaries/\" + str(wiki_id) + \".xml.gz\")\n",
    "    document = parseString(xml_file.read())\n",
    "    \n",
    "    #Read all words\n",
    "    words = dom.getElementsByTagName('word')\n",
    "    #lemmas = dom.getElementsByTagName('lemma')\n",
    "    \n",
    "    #Looks for the desired node type and extracts their values\n",
    "    words_list = [word.childNodes[0].nodeValue for word in words]\n",
    "    #lemmas_list = [lemma.childNodes[0].nodeValue for lemma in lemmas]\n",
    "    \n",
    "    return words_list#, lemmas_list"
   ]
  },
  {
   "cell_type": "code",
   "execution_count": null,
   "id": "b0547b76",
   "metadata": {
    "scrolled": false
   },
   "outputs": [],
   "source": [
    "#TODO: RERUN THIS ON DESKTOP TO PROCESS ALL THE SUMMARIES\n",
    "#i = 0\n",
    "#tot = len(wikipedia_movie_IDS)\n",
    "#\n",
    "#for wiki_id in wikipedia_movie_IDS:\n",
    "#    summary = list(open_parse_summary(wiki_id))[0]\n",
    "#    with open(\"./data/corenlp_summaries_words/\"+ wiki_id + \".txt\", 'w') as fp:\n",
    "#        for item in summary:\n",
    "#            # write each item on a new line\n",
    "#            fp.write(\"%s\\n\" % item)\n",
    "#    i += 1\n",
    "#    print(str(i) + \"/\" + str(tot))"
   ]
  },
  {
   "cell_type": "code",
   "execution_count": null,
   "id": "9abc3af5",
   "metadata": {},
   "outputs": [],
   "source": []
  }
 ],
 "metadata": {
  "kernelspec": {
   "display_name": "Python 3 (ipykernel)",
   "language": "python",
   "name": "python3"
  },
  "language_info": {
   "codemirror_mode": {
    "name": "ipython",
    "version": 3
   },
   "file_extension": ".py",
   "mimetype": "text/x-python",
   "name": "python",
   "nbconvert_exporter": "python",
   "pygments_lexer": "ipython3",
   "version": "3.9.12"
  }
 },
 "nbformat": 4,
 "nbformat_minor": 5
}
