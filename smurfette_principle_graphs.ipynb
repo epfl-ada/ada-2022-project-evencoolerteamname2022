{
 "cells": [
  {
   "cell_type": "code",
   "execution_count": 35,
   "id": "2c0b46e5",
   "metadata": {
    "scrolled": true
   },
   "outputs": [],
   "source": [
    "import pandas as pd\n",
    "import numpy as np\n",
    "import plotly.express as px\n",
    "import json\n",
    "import plotly.graph_objects as go"
   ]
  },
  {
   "cell_type": "code",
   "execution_count": 2,
   "id": "2a796814",
   "metadata": {
    "scrolled": false
   },
   "outputs": [
    {
     "name": "stderr",
     "output_type": "stream",
     "text": [
      "/tmp/ipykernel_8663/2533052815.py:1: DtypeWarning: Columns (0) have mixed types. Specify dtype option on import or set low_memory=False.\n",
      "  m_f_counts = pd.read_csv('data/movie_MF_data_2_10.csv')\n"
     ]
    }
   ],
   "source": [
    "m_f_counts = pd.read_csv('data/movie_MF_data_2_10.csv')  "
   ]
  },
  {
   "cell_type": "code",
   "execution_count": 3,
   "id": "546102a8",
   "metadata": {
    "scrolled": true
   },
   "outputs": [],
   "source": [
    "means = m_f_counts[m_f_counts['wiki_id'] == 'means']"
   ]
  },
  {
   "cell_type": "code",
   "execution_count": 4,
   "id": "eea76039",
   "metadata": {
    "scrolled": true
   },
   "outputs": [
    {
     "data": {
      "text/html": [
       "<div>\n",
       "<style scoped>\n",
       "    .dataframe tbody tr th:only-of-type {\n",
       "        vertical-align: middle;\n",
       "    }\n",
       "\n",
       "    .dataframe tbody tr th {\n",
       "        vertical-align: top;\n",
       "    }\n",
       "\n",
       "    .dataframe thead th {\n",
       "        text-align: right;\n",
       "    }\n",
       "</style>\n",
       "<table border=\"1\" class=\"dataframe\">\n",
       "  <thead>\n",
       "    <tr style=\"text-align: right;\">\n",
       "      <th></th>\n",
       "      <th>wiki_id</th>\n",
       "      <th>total_M_2</th>\n",
       "      <th>total_F_2</th>\n",
       "      <th>c_o_M_2</th>\n",
       "      <th>c_o_F_2</th>\n",
       "      <th>pure_M_2</th>\n",
       "      <th>pure_F_2</th>\n",
       "      <th>total_M_3</th>\n",
       "      <th>total_F_3</th>\n",
       "      <th>c_o_M_3</th>\n",
       "      <th>...</th>\n",
       "      <th>c_o_M_10</th>\n",
       "      <th>c_o_F_10</th>\n",
       "      <th>pure_M_10</th>\n",
       "      <th>pure_F_10</th>\n",
       "      <th>total_M_sent</th>\n",
       "      <th>total_F_sent</th>\n",
       "      <th>c_o_M_sent</th>\n",
       "      <th>c_o_F_sent</th>\n",
       "      <th>pure_M_sent</th>\n",
       "      <th>pure_F_sent</th>\n",
       "    </tr>\n",
       "  </thead>\n",
       "  <tbody>\n",
       "    <tr>\n",
       "      <th>22756</th>\n",
       "      <td>means</td>\n",
       "      <td>10.582484</td>\n",
       "      <td>5.293417</td>\n",
       "      <td>0.785156</td>\n",
       "      <td>0.762788</td>\n",
       "      <td>9.797328</td>\n",
       "      <td>4.530629</td>\n",
       "      <td>10.582484</td>\n",
       "      <td>5.293417</td>\n",
       "      <td>1.037704</td>\n",
       "      <td>...</td>\n",
       "      <td>2.271313</td>\n",
       "      <td>2.023422</td>\n",
       "      <td>8.311171</td>\n",
       "      <td>3.269995</td>\n",
       "      <td>10.582484</td>\n",
       "      <td>5.293417</td>\n",
       "      <td>2.987783</td>\n",
       "      <td>2.510371</td>\n",
       "      <td>7.5947</td>\n",
       "      <td>2.783046</td>\n",
       "    </tr>\n",
       "  </tbody>\n",
       "</table>\n",
       "<p>1 rows × 61 columns</p>\n",
       "</div>"
      ],
      "text/plain": [
       "      wiki_id  total_M_2  total_F_2   c_o_M_2   c_o_F_2  pure_M_2  pure_F_2  \\\n",
       "22756   means  10.582484   5.293417  0.785156  0.762788  9.797328  4.530629   \n",
       "\n",
       "       total_M_3  total_F_3   c_o_M_3  ...  c_o_M_10  c_o_F_10  pure_M_10  \\\n",
       "22756  10.582484   5.293417  1.037704  ...  2.271313  2.023422   8.311171   \n",
       "\n",
       "       pure_F_10  total_M_sent  total_F_sent  c_o_M_sent  c_o_F_sent  \\\n",
       "22756   3.269995     10.582484      5.293417    2.987783    2.510371   \n",
       "\n",
       "       pure_M_sent  pure_F_sent  \n",
       "22756       7.5947     2.783046  \n",
       "\n",
       "[1 rows x 61 columns]"
      ]
     },
     "execution_count": 4,
     "metadata": {},
     "output_type": "execute_result"
    }
   ],
   "source": [
    "means"
   ]
  },
  {
   "cell_type": "code",
   "execution_count": 5,
   "id": "a3715fb4",
   "metadata": {},
   "outputs": [
    {
     "name": "stderr",
     "output_type": "stream",
     "text": [
      "/tmp/ipykernel_8663/3540181487.py:14: FutureWarning: The frame.append method is deprecated and will be removed from pandas in a future version. Use pandas.concat instead.\n",
      "  df_barplot_means = df_barplot_means.append(row, ignore_index=True)\n",
      "/tmp/ipykernel_8663/3540181487.py:14: FutureWarning: The frame.append method is deprecated and will be removed from pandas in a future version. Use pandas.concat instead.\n",
      "  df_barplot_means = df_barplot_means.append(row, ignore_index=True)\n",
      "/tmp/ipykernel_8663/3540181487.py:14: FutureWarning: The frame.append method is deprecated and will be removed from pandas in a future version. Use pandas.concat instead.\n",
      "  df_barplot_means = df_barplot_means.append(row, ignore_index=True)\n",
      "/tmp/ipykernel_8663/3540181487.py:14: FutureWarning: The frame.append method is deprecated and will be removed from pandas in a future version. Use pandas.concat instead.\n",
      "  df_barplot_means = df_barplot_means.append(row, ignore_index=True)\n",
      "/tmp/ipykernel_8663/3540181487.py:14: FutureWarning: The frame.append method is deprecated and will be removed from pandas in a future version. Use pandas.concat instead.\n",
      "  df_barplot_means = df_barplot_means.append(row, ignore_index=True)\n",
      "/tmp/ipykernel_8663/3540181487.py:14: FutureWarning: The frame.append method is deprecated and will be removed from pandas in a future version. Use pandas.concat instead.\n",
      "  df_barplot_means = df_barplot_means.append(row, ignore_index=True)\n",
      "/tmp/ipykernel_8663/3540181487.py:14: FutureWarning: The frame.append method is deprecated and will be removed from pandas in a future version. Use pandas.concat instead.\n",
      "  df_barplot_means = df_barplot_means.append(row, ignore_index=True)\n",
      "/tmp/ipykernel_8663/3540181487.py:14: FutureWarning: The frame.append method is deprecated and will be removed from pandas in a future version. Use pandas.concat instead.\n",
      "  df_barplot_means = df_barplot_means.append(row, ignore_index=True)\n",
      "/tmp/ipykernel_8663/3540181487.py:14: FutureWarning: The frame.append method is deprecated and will be removed from pandas in a future version. Use pandas.concat instead.\n",
      "  df_barplot_means = df_barplot_means.append(row, ignore_index=True)\n",
      "/tmp/ipykernel_8663/3540181487.py:14: FutureWarning: The frame.append method is deprecated and will be removed from pandas in a future version. Use pandas.concat instead.\n",
      "  df_barplot_means = df_barplot_means.append(row, ignore_index=True)\n",
      "/tmp/ipykernel_8663/3540181487.py:14: FutureWarning: The frame.append method is deprecated and will be removed from pandas in a future version. Use pandas.concat instead.\n",
      "  df_barplot_means = df_barplot_means.append(row, ignore_index=True)\n",
      "/tmp/ipykernel_8663/3540181487.py:14: FutureWarning: The frame.append method is deprecated and will be removed from pandas in a future version. Use pandas.concat instead.\n",
      "  df_barplot_means = df_barplot_means.append(row, ignore_index=True)\n",
      "/tmp/ipykernel_8663/3540181487.py:14: FutureWarning: The frame.append method is deprecated and will be removed from pandas in a future version. Use pandas.concat instead.\n",
      "  df_barplot_means = df_barplot_means.append(row, ignore_index=True)\n",
      "/tmp/ipykernel_8663/3540181487.py:14: FutureWarning: The frame.append method is deprecated and will be removed from pandas in a future version. Use pandas.concat instead.\n",
      "  df_barplot_means = df_barplot_means.append(row, ignore_index=True)\n",
      "/tmp/ipykernel_8663/3540181487.py:14: FutureWarning: The frame.append method is deprecated and will be removed from pandas in a future version. Use pandas.concat instead.\n",
      "  df_barplot_means = df_barplot_means.append(row, ignore_index=True)\n",
      "/tmp/ipykernel_8663/3540181487.py:14: FutureWarning: The frame.append method is deprecated and will be removed from pandas in a future version. Use pandas.concat instead.\n",
      "  df_barplot_means = df_barplot_means.append(row, ignore_index=True)\n",
      "/tmp/ipykernel_8663/3540181487.py:14: FutureWarning: The frame.append method is deprecated and will be removed from pandas in a future version. Use pandas.concat instead.\n",
      "  df_barplot_means = df_barplot_means.append(row, ignore_index=True)\n",
      "/tmp/ipykernel_8663/3540181487.py:14: FutureWarning: The frame.append method is deprecated and will be removed from pandas in a future version. Use pandas.concat instead.\n",
      "  df_barplot_means = df_barplot_means.append(row, ignore_index=True)\n",
      "/tmp/ipykernel_8663/3540181487.py:14: FutureWarning: The frame.append method is deprecated and will be removed from pandas in a future version. Use pandas.concat instead.\n",
      "  df_barplot_means = df_barplot_means.append(row, ignore_index=True)\n",
      "/tmp/ipykernel_8663/3540181487.py:14: FutureWarning: The frame.append method is deprecated and will be removed from pandas in a future version. Use pandas.concat instead.\n",
      "  df_barplot_means = df_barplot_means.append(row, ignore_index=True)\n",
      "/tmp/ipykernel_8663/3540181487.py:14: FutureWarning: The frame.append method is deprecated and will be removed from pandas in a future version. Use pandas.concat instead.\n",
      "  df_barplot_means = df_barplot_means.append(row, ignore_index=True)\n",
      "/tmp/ipykernel_8663/3540181487.py:14: FutureWarning: The frame.append method is deprecated and will be removed from pandas in a future version. Use pandas.concat instead.\n",
      "  df_barplot_means = df_barplot_means.append(row, ignore_index=True)\n",
      "/tmp/ipykernel_8663/3540181487.py:14: FutureWarning: The frame.append method is deprecated and will be removed from pandas in a future version. Use pandas.concat instead.\n",
      "  df_barplot_means = df_barplot_means.append(row, ignore_index=True)\n",
      "/tmp/ipykernel_8663/3540181487.py:14: FutureWarning: The frame.append method is deprecated and will be removed from pandas in a future version. Use pandas.concat instead.\n",
      "  df_barplot_means = df_barplot_means.append(row, ignore_index=True)\n",
      "/tmp/ipykernel_8663/3540181487.py:14: FutureWarning: The frame.append method is deprecated and will be removed from pandas in a future version. Use pandas.concat instead.\n",
      "  df_barplot_means = df_barplot_means.append(row, ignore_index=True)\n",
      "/tmp/ipykernel_8663/3540181487.py:14: FutureWarning: The frame.append method is deprecated and will be removed from pandas in a future version. Use pandas.concat instead.\n",
      "  df_barplot_means = df_barplot_means.append(row, ignore_index=True)\n",
      "/tmp/ipykernel_8663/3540181487.py:14: FutureWarning: The frame.append method is deprecated and will be removed from pandas in a future version. Use pandas.concat instead.\n",
      "  df_barplot_means = df_barplot_means.append(row, ignore_index=True)\n",
      "/tmp/ipykernel_8663/3540181487.py:14: FutureWarning: The frame.append method is deprecated and will be removed from pandas in a future version. Use pandas.concat instead.\n",
      "  df_barplot_means = df_barplot_means.append(row, ignore_index=True)\n",
      "/tmp/ipykernel_8663/3540181487.py:14: FutureWarning: The frame.append method is deprecated and will be removed from pandas in a future version. Use pandas.concat instead.\n",
      "  df_barplot_means = df_barplot_means.append(row, ignore_index=True)\n",
      "/tmp/ipykernel_8663/3540181487.py:14: FutureWarning: The frame.append method is deprecated and will be removed from pandas in a future version. Use pandas.concat instead.\n",
      "  df_barplot_means = df_barplot_means.append(row, ignore_index=True)\n",
      "/tmp/ipykernel_8663/3540181487.py:14: FutureWarning: The frame.append method is deprecated and will be removed from pandas in a future version. Use pandas.concat instead.\n",
      "  df_barplot_means = df_barplot_means.append(row, ignore_index=True)\n",
      "/tmp/ipykernel_8663/3540181487.py:14: FutureWarning: The frame.append method is deprecated and will be removed from pandas in a future version. Use pandas.concat instead.\n",
      "  df_barplot_means = df_barplot_means.append(row, ignore_index=True)\n",
      "/tmp/ipykernel_8663/3540181487.py:14: FutureWarning: The frame.append method is deprecated and will be removed from pandas in a future version. Use pandas.concat instead.\n",
      "  df_barplot_means = df_barplot_means.append(row, ignore_index=True)\n",
      "/tmp/ipykernel_8663/3540181487.py:14: FutureWarning: The frame.append method is deprecated and will be removed from pandas in a future version. Use pandas.concat instead.\n",
      "  df_barplot_means = df_barplot_means.append(row, ignore_index=True)\n",
      "/tmp/ipykernel_8663/3540181487.py:14: FutureWarning: The frame.append method is deprecated and will be removed from pandas in a future version. Use pandas.concat instead.\n",
      "  df_barplot_means = df_barplot_means.append(row, ignore_index=True)\n",
      "/tmp/ipykernel_8663/3540181487.py:14: FutureWarning: The frame.append method is deprecated and will be removed from pandas in a future version. Use pandas.concat instead.\n",
      "  df_barplot_means = df_barplot_means.append(row, ignore_index=True)\n",
      "/tmp/ipykernel_8663/3540181487.py:24: FutureWarning: The frame.append method is deprecated and will be removed from pandas in a future version. Use pandas.concat instead.\n",
      "  df_barplot_means = df_barplot_means.append(row, ignore_index=True)\n",
      "/tmp/ipykernel_8663/3540181487.py:24: FutureWarning: The frame.append method is deprecated and will be removed from pandas in a future version. Use pandas.concat instead.\n",
      "  df_barplot_means = df_barplot_means.append(row, ignore_index=True)\n",
      "/tmp/ipykernel_8663/3540181487.py:24: FutureWarning: The frame.append method is deprecated and will be removed from pandas in a future version. Use pandas.concat instead.\n",
      "  df_barplot_means = df_barplot_means.append(row, ignore_index=True)\n",
      "/tmp/ipykernel_8663/3540181487.py:24: FutureWarning: The frame.append method is deprecated and will be removed from pandas in a future version. Use pandas.concat instead.\n",
      "  df_barplot_means = df_barplot_means.append(row, ignore_index=True)\n"
     ]
    }
   ],
   "source": [
    "df_barplot_means = pd.DataFrame()\n",
    "\n",
    "for i in range(2, 11):\n",
    "    co_m = 'c_o_M_'+str(i)\n",
    "    co_f = 'c_o_F_'+str(i)\n",
    "    pure_m = 'pure_M_'+str(i)\n",
    "    pure_f = 'pure_F_'+str(i)\n",
    "    rows = []\n",
    "    rows.append({'n': i, 'type': 'M without F', 'count':means.iloc[0][pure_m], 'sex':'M'})\n",
    "    rows.append({'n': i, 'type': 'F without M', 'count':means.iloc[0][pure_f], 'sex':'F'})\n",
    "    rows.append({'n': i, 'type': 'M with F', 'count':means.iloc[0][co_m], 'sex':'M'})\n",
    "    rows.append({'n': i, 'type': 'F with M', 'count':means.iloc[0][co_f], 'sex':'F'})\n",
    "    for row in rows:\n",
    "        df_barplot_means = df_barplot_means.append(row, ignore_index=True)\n",
    "\n",
    "rows_sent = []\n",
    "\n",
    "rows_sent.append({'n': 1000, 'type': 'M without F', 'count':means.iloc[0]['pure_M_sent'], 'sex':'M'})\n",
    "rows_sent.append({'n': 1000, 'type': 'F without M', 'count':means.iloc[0]['pure_F_sent'], 'sex':'F'})\n",
    "rows_sent.append({'n': 1000, 'type': 'M with F', 'count':means.iloc[0]['c_o_M_sent'], 'sex':'M'})\n",
    "rows_sent.append({'n': 1000, 'type': 'F with M', 'count':means.iloc[0]['c_o_F_sent'], 'sex':'F'})\n",
    "\n",
    "for row in rows_sent:\n",
    "    df_barplot_means = df_barplot_means.append(row, ignore_index=True)"
   ]
  },
  {
   "cell_type": "code",
   "execution_count": 6,
   "id": "297a34bb",
   "metadata": {},
   "outputs": [
    {
     "data": {
      "text/html": [
       "<div>\n",
       "<style scoped>\n",
       "    .dataframe tbody tr th:only-of-type {\n",
       "        vertical-align: middle;\n",
       "    }\n",
       "\n",
       "    .dataframe tbody tr th {\n",
       "        vertical-align: top;\n",
       "    }\n",
       "\n",
       "    .dataframe thead th {\n",
       "        text-align: right;\n",
       "    }\n",
       "</style>\n",
       "<table border=\"1\" class=\"dataframe\">\n",
       "  <thead>\n",
       "    <tr style=\"text-align: right;\">\n",
       "      <th></th>\n",
       "      <th>n</th>\n",
       "      <th>type</th>\n",
       "      <th>count</th>\n",
       "      <th>sex</th>\n",
       "    </tr>\n",
       "  </thead>\n",
       "  <tbody>\n",
       "    <tr>\n",
       "      <th>0</th>\n",
       "      <td>2</td>\n",
       "      <td>M without F</td>\n",
       "      <td>9.797328</td>\n",
       "      <td>M</td>\n",
       "    </tr>\n",
       "    <tr>\n",
       "      <th>1</th>\n",
       "      <td>2</td>\n",
       "      <td>F without M</td>\n",
       "      <td>4.530629</td>\n",
       "      <td>F</td>\n",
       "    </tr>\n",
       "    <tr>\n",
       "      <th>2</th>\n",
       "      <td>2</td>\n",
       "      <td>M with F</td>\n",
       "      <td>0.785156</td>\n",
       "      <td>M</td>\n",
       "    </tr>\n",
       "    <tr>\n",
       "      <th>3</th>\n",
       "      <td>2</td>\n",
       "      <td>F with M</td>\n",
       "      <td>0.762788</td>\n",
       "      <td>F</td>\n",
       "    </tr>\n",
       "    <tr>\n",
       "      <th>4</th>\n",
       "      <td>3</td>\n",
       "      <td>M without F</td>\n",
       "      <td>9.544779</td>\n",
       "      <td>M</td>\n",
       "    </tr>\n",
       "    <tr>\n",
       "      <th>5</th>\n",
       "      <td>3</td>\n",
       "      <td>F without M</td>\n",
       "      <td>4.300888</td>\n",
       "      <td>F</td>\n",
       "    </tr>\n",
       "    <tr>\n",
       "      <th>6</th>\n",
       "      <td>3</td>\n",
       "      <td>M with F</td>\n",
       "      <td>1.037704</td>\n",
       "      <td>M</td>\n",
       "    </tr>\n",
       "    <tr>\n",
       "      <th>7</th>\n",
       "      <td>3</td>\n",
       "      <td>F with M</td>\n",
       "      <td>0.992529</td>\n",
       "      <td>F</td>\n",
       "    </tr>\n",
       "    <tr>\n",
       "      <th>8</th>\n",
       "      <td>4</td>\n",
       "      <td>M without F</td>\n",
       "      <td>9.299438</td>\n",
       "      <td>M</td>\n",
       "    </tr>\n",
       "    <tr>\n",
       "      <th>9</th>\n",
       "      <td>4</td>\n",
       "      <td>F without M</td>\n",
       "      <td>4.081078</td>\n",
       "      <td>F</td>\n",
       "    </tr>\n",
       "    <tr>\n",
       "      <th>10</th>\n",
       "      <td>4</td>\n",
       "      <td>M with F</td>\n",
       "      <td>1.283046</td>\n",
       "      <td>M</td>\n",
       "    </tr>\n",
       "    <tr>\n",
       "      <th>11</th>\n",
       "      <td>4</td>\n",
       "      <td>F with M</td>\n",
       "      <td>1.212340</td>\n",
       "      <td>F</td>\n",
       "    </tr>\n",
       "    <tr>\n",
       "      <th>12</th>\n",
       "      <td>5</td>\n",
       "      <td>M without F</td>\n",
       "      <td>9.078045</td>\n",
       "      <td>M</td>\n",
       "    </tr>\n",
       "    <tr>\n",
       "      <th>13</th>\n",
       "      <td>5</td>\n",
       "      <td>F without M</td>\n",
       "      <td>3.887678</td>\n",
       "      <td>F</td>\n",
       "    </tr>\n",
       "    <tr>\n",
       "      <th>14</th>\n",
       "      <td>5</td>\n",
       "      <td>M with F</td>\n",
       "      <td>1.504438</td>\n",
       "      <td>M</td>\n",
       "    </tr>\n",
       "    <tr>\n",
       "      <th>15</th>\n",
       "      <td>5</td>\n",
       "      <td>F with M</td>\n",
       "      <td>1.405739</td>\n",
       "      <td>F</td>\n",
       "    </tr>\n",
       "    <tr>\n",
       "      <th>16</th>\n",
       "      <td>6</td>\n",
       "      <td>M without F</td>\n",
       "      <td>8.882668</td>\n",
       "      <td>M</td>\n",
       "    </tr>\n",
       "    <tr>\n",
       "      <th>17</th>\n",
       "      <td>6</td>\n",
       "      <td>F without M</td>\n",
       "      <td>3.724644</td>\n",
       "      <td>F</td>\n",
       "    </tr>\n",
       "    <tr>\n",
       "      <th>18</th>\n",
       "      <td>6</td>\n",
       "      <td>M with F</td>\n",
       "      <td>1.699815</td>\n",
       "      <td>M</td>\n",
       "    </tr>\n",
       "    <tr>\n",
       "      <th>19</th>\n",
       "      <td>6</td>\n",
       "      <td>F with M</td>\n",
       "      <td>1.568773</td>\n",
       "      <td>F</td>\n",
       "    </tr>\n",
       "    <tr>\n",
       "      <th>20</th>\n",
       "      <td>7</td>\n",
       "      <td>M without F</td>\n",
       "      <td>8.710450</td>\n",
       "      <td>M</td>\n",
       "    </tr>\n",
       "    <tr>\n",
       "      <th>21</th>\n",
       "      <td>7</td>\n",
       "      <td>F without M</td>\n",
       "      <td>3.584769</td>\n",
       "      <td>F</td>\n",
       "    </tr>\n",
       "    <tr>\n",
       "      <th>22</th>\n",
       "      <td>7</td>\n",
       "      <td>M with F</td>\n",
       "      <td>1.872034</td>\n",
       "      <td>M</td>\n",
       "    </tr>\n",
       "    <tr>\n",
       "      <th>23</th>\n",
       "      <td>7</td>\n",
       "      <td>F with M</td>\n",
       "      <td>1.708648</td>\n",
       "      <td>F</td>\n",
       "    </tr>\n",
       "    <tr>\n",
       "      <th>24</th>\n",
       "      <td>8</td>\n",
       "      <td>M without F</td>\n",
       "      <td>8.558578</td>\n",
       "      <td>M</td>\n",
       "    </tr>\n",
       "    <tr>\n",
       "      <th>25</th>\n",
       "      <td>8</td>\n",
       "      <td>F without M</td>\n",
       "      <td>3.463482</td>\n",
       "      <td>F</td>\n",
       "    </tr>\n",
       "    <tr>\n",
       "      <th>26</th>\n",
       "      <td>8</td>\n",
       "      <td>M with F</td>\n",
       "      <td>2.023906</td>\n",
       "      <td>M</td>\n",
       "    </tr>\n",
       "    <tr>\n",
       "      <th>27</th>\n",
       "      <td>8</td>\n",
       "      <td>F with M</td>\n",
       "      <td>1.829935</td>\n",
       "      <td>F</td>\n",
       "    </tr>\n",
       "    <tr>\n",
       "      <th>28</th>\n",
       "      <td>9</td>\n",
       "      <td>M without F</td>\n",
       "      <td>8.426305</td>\n",
       "      <td>M</td>\n",
       "    </tr>\n",
       "    <tr>\n",
       "      <th>29</th>\n",
       "      <td>9</td>\n",
       "      <td>F without M</td>\n",
       "      <td>3.358367</td>\n",
       "      <td>F</td>\n",
       "    </tr>\n",
       "    <tr>\n",
       "      <th>30</th>\n",
       "      <td>9</td>\n",
       "      <td>M with F</td>\n",
       "      <td>2.156179</td>\n",
       "      <td>M</td>\n",
       "    </tr>\n",
       "    <tr>\n",
       "      <th>31</th>\n",
       "      <td>9</td>\n",
       "      <td>F with M</td>\n",
       "      <td>1.935050</td>\n",
       "      <td>F</td>\n",
       "    </tr>\n",
       "    <tr>\n",
       "      <th>32</th>\n",
       "      <td>10</td>\n",
       "      <td>M without F</td>\n",
       "      <td>8.311171</td>\n",
       "      <td>M</td>\n",
       "    </tr>\n",
       "    <tr>\n",
       "      <th>33</th>\n",
       "      <td>10</td>\n",
       "      <td>F without M</td>\n",
       "      <td>3.269995</td>\n",
       "      <td>F</td>\n",
       "    </tr>\n",
       "    <tr>\n",
       "      <th>34</th>\n",
       "      <td>10</td>\n",
       "      <td>M with F</td>\n",
       "      <td>2.271313</td>\n",
       "      <td>M</td>\n",
       "    </tr>\n",
       "    <tr>\n",
       "      <th>35</th>\n",
       "      <td>10</td>\n",
       "      <td>F with M</td>\n",
       "      <td>2.023422</td>\n",
       "      <td>F</td>\n",
       "    </tr>\n",
       "    <tr>\n",
       "      <th>36</th>\n",
       "      <td>1000</td>\n",
       "      <td>M without F</td>\n",
       "      <td>7.594700</td>\n",
       "      <td>M</td>\n",
       "    </tr>\n",
       "    <tr>\n",
       "      <th>37</th>\n",
       "      <td>1000</td>\n",
       "      <td>F without M</td>\n",
       "      <td>2.783046</td>\n",
       "      <td>F</td>\n",
       "    </tr>\n",
       "    <tr>\n",
       "      <th>38</th>\n",
       "      <td>1000</td>\n",
       "      <td>M with F</td>\n",
       "      <td>2.987783</td>\n",
       "      <td>M</td>\n",
       "    </tr>\n",
       "    <tr>\n",
       "      <th>39</th>\n",
       "      <td>1000</td>\n",
       "      <td>F with M</td>\n",
       "      <td>2.510371</td>\n",
       "      <td>F</td>\n",
       "    </tr>\n",
       "  </tbody>\n",
       "</table>\n",
       "</div>"
      ],
      "text/plain": [
       "       n         type     count sex\n",
       "0      2  M without F  9.797328   M\n",
       "1      2  F without M  4.530629   F\n",
       "2      2     M with F  0.785156   M\n",
       "3      2     F with M  0.762788   F\n",
       "4      3  M without F  9.544779   M\n",
       "5      3  F without M  4.300888   F\n",
       "6      3     M with F  1.037704   M\n",
       "7      3     F with M  0.992529   F\n",
       "8      4  M without F  9.299438   M\n",
       "9      4  F without M  4.081078   F\n",
       "10     4     M with F  1.283046   M\n",
       "11     4     F with M  1.212340   F\n",
       "12     5  M without F  9.078045   M\n",
       "13     5  F without M  3.887678   F\n",
       "14     5     M with F  1.504438   M\n",
       "15     5     F with M  1.405739   F\n",
       "16     6  M without F  8.882668   M\n",
       "17     6  F without M  3.724644   F\n",
       "18     6     M with F  1.699815   M\n",
       "19     6     F with M  1.568773   F\n",
       "20     7  M without F  8.710450   M\n",
       "21     7  F without M  3.584769   F\n",
       "22     7     M with F  1.872034   M\n",
       "23     7     F with M  1.708648   F\n",
       "24     8  M without F  8.558578   M\n",
       "25     8  F without M  3.463482   F\n",
       "26     8     M with F  2.023906   M\n",
       "27     8     F with M  1.829935   F\n",
       "28     9  M without F  8.426305   M\n",
       "29     9  F without M  3.358367   F\n",
       "30     9     M with F  2.156179   M\n",
       "31     9     F with M  1.935050   F\n",
       "32    10  M without F  8.311171   M\n",
       "33    10  F without M  3.269995   F\n",
       "34    10     M with F  2.271313   M\n",
       "35    10     F with M  2.023422   F\n",
       "36  1000  M without F  7.594700   M\n",
       "37  1000  F without M  2.783046   F\n",
       "38  1000     M with F  2.987783   M\n",
       "39  1000     F with M  2.510371   F"
      ]
     },
     "execution_count": 6,
     "metadata": {},
     "output_type": "execute_result"
    }
   ],
   "source": [
    "df_barplot_means"
   ]
  },
  {
   "cell_type": "markdown",
   "id": "fff1889a",
   "metadata": {},
   "source": [
    "# FINAL PLOT NR 1"
   ]
  },
  {
   "cell_type": "code",
   "execution_count": 186,
   "id": "a5e0717c",
   "metadata": {},
   "outputs": [
    {
     "data": {
      "application/vnd.plotly.v1+json": {
       "config": {
        "plotlyServerURL": "https://plot.ly"
       },
       "data": [
        {
         "alignmentgroup": "True",
         "hovertemplate": "Actor Gender=M<br>n=2<br>=%{x}<br>Mean count in the summaries=%{y}<extra></extra>",
         "legendgroup": "M",
         "marker": {
          "color": "#636efa",
          "pattern": {
           "shape": ""
          }
         },
         "name": "M",
         "offsetgroup": "M",
         "orientation": "v",
         "showlegend": true,
         "textposition": "auto",
         "texttemplate": "%{y}",
         "type": "bar",
         "x": [
          "M without F",
          "M with F"
         ],
         "xaxis": "x",
         "y": [
          9.79732817718404,
          0.7851555633679029
         ],
         "yaxis": "y"
        },
        {
         "alignmentgroup": "True",
         "hovertemplate": "Actor Gender=F<br>n=2<br>=%{x}<br>Mean count in the summaries=%{y}<extra></extra>",
         "legendgroup": "F",
         "marker": {
          "color": "#EF553B",
          "pattern": {
           "shape": ""
          }
         },
         "name": "F",
         "offsetgroup": "F",
         "orientation": "v",
         "showlegend": true,
         "textposition": "auto",
         "texttemplate": "%{y}",
         "type": "bar",
         "x": [
          "F without M",
          "F with M"
         ],
         "xaxis": "x",
         "y": [
          4.530629284584285,
          0.7627878361750747
         ],
         "yaxis": "y"
        }
       ],
       "frames": [
        {
         "data": [
          {
           "alignmentgroup": "True",
           "hovertemplate": "Actor Gender=M<br>n=2<br>=%{x}<br>Mean count in the summaries=%{y}<extra></extra>",
           "legendgroup": "M",
           "marker": {
            "color": "#636efa",
            "pattern": {
             "shape": ""
            }
           },
           "name": "M",
           "offsetgroup": "M",
           "orientation": "v",
           "showlegend": true,
           "textposition": "auto",
           "texttemplate": "%{y}",
           "type": "bar",
           "x": [
            "M without F",
            "M with F"
           ],
           "xaxis": "x",
           "y": [
            9.79732817718404,
            0.7851555633679029
           ],
           "yaxis": "y"
          },
          {
           "alignmentgroup": "True",
           "hovertemplate": "Actor Gender=F<br>n=2<br>=%{x}<br>Mean count in the summaries=%{y}<extra></extra>",
           "legendgroup": "F",
           "marker": {
            "color": "#EF553B",
            "pattern": {
             "shape": ""
            }
           },
           "name": "F",
           "offsetgroup": "F",
           "orientation": "v",
           "showlegend": true,
           "textposition": "auto",
           "texttemplate": "%{y}",
           "type": "bar",
           "x": [
            "F without M",
            "F with M"
           ],
           "xaxis": "x",
           "y": [
            4.530629284584285,
            0.7627878361750747
           ],
           "yaxis": "y"
          }
         ],
         "name": "2"
        },
        {
         "data": [
          {
           "alignmentgroup": "True",
           "hovertemplate": "Actor Gender=M<br>n=3<br>=%{x}<br>Mean count in the summaries=%{y}<extra></extra>",
           "legendgroup": "M",
           "marker": {
            "color": "#636efa",
            "pattern": {
             "shape": ""
            }
           },
           "name": "M",
           "offsetgroup": "M",
           "orientation": "v",
           "showlegend": true,
           "textposition": "auto",
           "texttemplate": "%{y}",
           "type": "bar",
           "x": [
            "M without F",
            "M with F"
           ],
           "xaxis": "x",
           "y": [
            9.544779398839866,
            1.037704341712076
           ],
           "yaxis": "y"
          },
          {
           "alignmentgroup": "True",
           "hovertemplate": "Actor Gender=F<br>n=3<br>=%{x}<br>Mean count in the summaries=%{y}<extra></extra>",
           "legendgroup": "F",
           "marker": {
            "color": "#EF553B",
            "pattern": {
             "shape": ""
            }
           },
           "name": "F",
           "offsetgroup": "F",
           "orientation": "v",
           "showlegend": true,
           "textposition": "auto",
           "texttemplate": "%{y}",
           "type": "bar",
           "x": [
            "F without M",
            "F with M"
           ],
           "xaxis": "x",
           "y": [
            4.300887677975039,
            0.9925294427843206
           ],
           "yaxis": "y"
          }
         ],
         "name": "3"
        },
        {
         "data": [
          {
           "alignmentgroup": "True",
           "hovertemplate": "Actor Gender=M<br>n=4<br>=%{x}<br>Mean count in the summaries=%{y}<extra></extra>",
           "legendgroup": "M",
           "marker": {
            "color": "#636efa",
            "pattern": {
             "shape": ""
            }
           },
           "name": "M",
           "offsetgroup": "M",
           "orientation": "v",
           "showlegend": true,
           "textposition": "auto",
           "texttemplate": "%{y}",
           "type": "bar",
           "x": [
            "M without F",
            "M with F"
           ],
           "xaxis": "x",
           "y": [
            9.299437510986111,
            1.2830462295658287
           ],
           "yaxis": "y"
          },
          {
           "alignmentgroup": "True",
           "hovertemplate": "Actor Gender=F<br>n=4<br>=%{x}<br>Mean count in the summaries=%{y}<extra></extra>",
           "legendgroup": "F",
           "marker": {
            "color": "#EF553B",
            "pattern": {
             "shape": ""
            }
           },
           "name": "F",
           "offsetgroup": "F",
           "orientation": "v",
           "showlegend": true,
           "textposition": "auto",
           "texttemplate": "%{y}",
           "type": "bar",
           "x": [
            "F without M",
            "F with M"
           ],
           "xaxis": "x",
           "y": [
            4.081077518017226,
            1.212339602742134
           ],
           "yaxis": "y"
          }
         ],
         "name": "4"
        },
        {
         "data": [
          {
           "alignmentgroup": "True",
           "hovertemplate": "Actor Gender=M<br>n=5<br>=%{x}<br>Mean count in the summaries=%{y}<extra></extra>",
           "legendgroup": "M",
           "marker": {
            "color": "#636efa",
            "pattern": {
             "shape": ""
            }
           },
           "name": "M",
           "offsetgroup": "M",
           "orientation": "v",
           "showlegend": true,
           "textposition": "auto",
           "texttemplate": "%{y}",
           "type": "bar",
           "x": [
            "M without F",
            "M with F"
           ],
           "xaxis": "x",
           "y": [
            9.078045350676744,
            1.5044383898751978
           ],
           "yaxis": "y"
          },
          {
           "alignmentgroup": "True",
           "hovertemplate": "Actor Gender=F<br>n=5<br>=%{x}<br>Mean count in the summaries=%{y}<extra></extra>",
           "legendgroup": "F",
           "marker": {
            "color": "#EF553B",
            "pattern": {
             "shape": ""
            }
           },
           "name": "F",
           "offsetgroup": "F",
           "orientation": "v",
           "showlegend": true,
           "textposition": "auto",
           "texttemplate": "%{y}",
           "type": "bar",
           "x": [
            "F without M",
            "F with M"
           ],
           "xaxis": "x",
           "y": [
            3.88767797503955,
            1.40573914571981
           ],
           "yaxis": "y"
          }
         ],
         "name": "5"
        },
        {
         "data": [
          {
           "alignmentgroup": "True",
           "hovertemplate": "Actor Gender=M<br>n=6<br>=%{x}<br>Mean count in the summaries=%{y}<extra></extra>",
           "legendgroup": "M",
           "marker": {
            "color": "#636efa",
            "pattern": {
             "shape": ""
            }
           },
           "name": "M",
           "offsetgroup": "M",
           "orientation": "v",
           "showlegend": true,
           "textposition": "auto",
           "texttemplate": "%{y}",
           "type": "bar",
           "x": [
            "M without F",
            "M with F"
           ],
           "xaxis": "x",
           "y": [
            8.882668307259625,
            1.6998154332923183
           ],
           "yaxis": "y"
          },
          {
           "alignmentgroup": "True",
           "hovertemplate": "Actor Gender=F<br>n=6<br>=%{x}<br>Mean count in the summaries=%{y}<extra></extra>",
           "legendgroup": "F",
           "marker": {
            "color": "#EF553B",
            "pattern": {
             "shape": ""
            }
           },
           "name": "F",
           "offsetgroup": "F",
           "orientation": "v",
           "showlegend": true,
           "textposition": "auto",
           "texttemplate": "%{y}",
           "type": "bar",
           "x": [
            "F without M",
            "F with M"
           ],
           "xaxis": "x",
           "y": [
            3.7246440499209,
            1.5687730708384602
           ],
           "yaxis": "y"
          }
         ],
         "name": "6"
        },
        {
         "data": [
          {
           "alignmentgroup": "True",
           "hovertemplate": "Actor Gender=M<br>n=7<br>=%{x}<br>Mean count in the summaries=%{y}<extra></extra>",
           "legendgroup": "M",
           "marker": {
            "color": "#636efa",
            "pattern": {
             "shape": ""
            }
           },
           "name": "M",
           "offsetgroup": "M",
           "orientation": "v",
           "showlegend": true,
           "textposition": "auto",
           "texttemplate": "%{y}",
           "type": "bar",
           "x": [
            "M without F",
            "M with F"
           ],
           "xaxis": "x",
           "y": [
            8.710449991211108,
            1.8720337493408328
           ],
           "yaxis": "y"
          },
          {
           "alignmentgroup": "True",
           "hovertemplate": "Actor Gender=F<br>n=7<br>=%{x}<br>Mean count in the summaries=%{y}<extra></extra>",
           "legendgroup": "F",
           "marker": {
            "color": "#EF553B",
            "pattern": {
             "shape": ""
            }
           },
           "name": "F",
           "offsetgroup": "F",
           "orientation": "v",
           "showlegend": true,
           "textposition": "auto",
           "texttemplate": "%{y}",
           "type": "bar",
           "x": [
            "F without M",
            "F with M"
           ],
           "xaxis": "x",
           "y": [
            3.584768852170856,
            1.708648268588504
           ],
           "yaxis": "y"
          }
         ],
         "name": "7"
        },
        {
         "data": [
          {
           "alignmentgroup": "True",
           "hovertemplate": "Actor Gender=M<br>n=8<br>=%{x}<br>Mean count in the summaries=%{y}<extra></extra>",
           "legendgroup": "M",
           "marker": {
            "color": "#636efa",
            "pattern": {
             "shape": ""
            }
           },
           "name": "M",
           "offsetgroup": "M",
           "orientation": "v",
           "showlegend": true,
           "textposition": "auto",
           "texttemplate": "%{y}",
           "type": "bar",
           "x": [
            "M without F",
            "M with F"
           ],
           "xaxis": "x",
           "y": [
            8.558577957461768,
            2.023905783090174
           ],
           "yaxis": "y"
          },
          {
           "alignmentgroup": "True",
           "hovertemplate": "Actor Gender=F<br>n=8<br>=%{x}<br>Mean count in the summaries=%{y}<extra></extra>",
           "legendgroup": "F",
           "marker": {
            "color": "#EF553B",
            "pattern": {
             "shape": ""
            }
           },
           "name": "F",
           "offsetgroup": "F",
           "orientation": "v",
           "showlegend": true,
           "textposition": "auto",
           "texttemplate": "%{y}",
           "type": "bar",
           "x": [
            "F without M",
            "F with M"
           ],
           "xaxis": "x",
           "y": [
            3.463482158551591,
            1.8299349622077692
           ],
           "yaxis": "y"
          }
         ],
         "name": "8"
        },
        {
         "data": [
          {
           "alignmentgroup": "True",
           "hovertemplate": "Actor Gender=M<br>n=9<br>=%{x}<br>Mean count in the summaries=%{y}<extra></extra>",
           "legendgroup": "M",
           "marker": {
            "color": "#636efa",
            "pattern": {
             "shape": ""
            }
           },
           "name": "M",
           "offsetgroup": "M",
           "orientation": "v",
           "showlegend": true,
           "textposition": "auto",
           "texttemplate": "%{y}",
           "type": "bar",
           "x": [
            "M without F",
            "M with F"
           ],
           "xaxis": "x",
           "y": [
            8.426305150290034,
            2.156178590261909
           ],
           "yaxis": "y"
          },
          {
           "alignmentgroup": "True",
           "hovertemplate": "Actor Gender=F<br>n=9<br>=%{x}<br>Mean count in the summaries=%{y}<extra></extra>",
           "legendgroup": "F",
           "marker": {
            "color": "#EF553B",
            "pattern": {
             "shape": ""
            }
           },
           "name": "F",
           "offsetgroup": "F",
           "orientation": "v",
           "showlegend": true,
           "textposition": "auto",
           "texttemplate": "%{y}",
           "type": "bar",
           "x": [
            "F without M",
            "F with M"
           ],
           "xaxis": "x",
           "y": [
            3.358367024081561,
            1.9350500966777997
           ],
           "yaxis": "y"
          }
         ],
         "name": "9"
        },
        {
         "data": [
          {
           "alignmentgroup": "True",
           "hovertemplate": "Actor Gender=M<br>n=10<br>=%{x}<br>Mean count in the summaries=%{y}<extra></extra>",
           "legendgroup": "M",
           "marker": {
            "color": "#636efa",
            "pattern": {
             "shape": ""
            }
           },
           "name": "M",
           "offsetgroup": "M",
           "orientation": "v",
           "showlegend": true,
           "textposition": "auto",
           "texttemplate": "%{y}",
           "type": "bar",
           "x": [
            "M without F",
            "M with F"
           ],
           "xaxis": "x",
           "y": [
            8.311170680260151,
            2.2713130602917917
           ],
           "yaxis": "y"
          },
          {
           "alignmentgroup": "True",
           "hovertemplate": "Actor Gender=F<br>n=10<br>=%{x}<br>Mean count in the summaries=%{y}<extra></extra>",
           "legendgroup": "F",
           "marker": {
            "color": "#EF553B",
            "pattern": {
             "shape": ""
            }
           },
           "name": "F",
           "offsetgroup": "F",
           "orientation": "v",
           "showlegend": true,
           "textposition": "auto",
           "texttemplate": "%{y}",
           "type": "bar",
           "x": [
            "F without M",
            "F with M"
           ],
           "xaxis": "x",
           "y": [
            3.269994726665495,
            2.023422394093865
           ],
           "yaxis": "y"
          }
         ],
         "name": "10"
        },
        {
         "data": [
          {
           "alignmentgroup": "True",
           "hovertemplate": "Actor Gender=M<br>n=1000<br>=%{x}<br>Mean count in the summaries=%{y}<extra></extra>",
           "legendgroup": "M",
           "marker": {
            "color": "#636efa",
            "pattern": {
             "shape": ""
            }
           },
           "name": "M",
           "offsetgroup": "M",
           "orientation": "v",
           "showlegend": true,
           "textposition": "auto",
           "texttemplate": "%{y}",
           "type": "bar",
           "x": [
            "M without F",
            "M with F"
           ],
           "xaxis": "x",
           "y": [
            7.594700298822288,
            2.9877834417296536
           ],
           "yaxis": "y"
          },
          {
           "alignmentgroup": "True",
           "hovertemplate": "Actor Gender=F<br>n=1000<br>=%{x}<br>Mean count in the summaries=%{y}<extra></extra>",
           "legendgroup": "F",
           "marker": {
            "color": "#EF553B",
            "pattern": {
             "shape": ""
            }
           },
           "name": "F",
           "offsetgroup": "F",
           "orientation": "v",
           "showlegend": true,
           "textposition": "auto",
           "texttemplate": "%{y}",
           "type": "bar",
           "x": [
            "F without M",
            "F with M"
           ],
           "xaxis": "x",
           "y": [
            2.7830462295658287,
            2.5103708911935314
           ],
           "yaxis": "y"
          }
         ],
         "name": "1000"
        }
       ],
       "layout": {
        "autosize": true,
        "barmode": "relative",
        "legend": {
         "title": {
          "text": "Actor Gender"
         },
         "tracegroupgap": 0
        },
        "margin": {
         "t": 60
        },
        "paper_bgcolor": "rgba(0, 0, 0, 0)",
        "plot_bgcolor": "rgba(0, 0, 0, 0)",
        "sliders": [
         {
          "active": 0,
          "currentvalue": {
           "prefix": "n="
          },
          "len": 0.9,
          "pad": {
           "b": 10,
           "t": 60
          },
          "steps": [
           {
            "args": [
             [
              "2"
             ],
             {
              "frame": {
               "duration": 0,
               "redraw": true
              },
              "fromcurrent": true,
              "mode": "immediate",
              "transition": {
               "duration": 0,
               "easing": "linear"
              }
             }
            ],
            "label": "2",
            "method": "animate"
           },
           {
            "args": [
             [
              "3"
             ],
             {
              "frame": {
               "duration": 0,
               "redraw": true
              },
              "fromcurrent": true,
              "mode": "immediate",
              "transition": {
               "duration": 0,
               "easing": "linear"
              }
             }
            ],
            "label": "3",
            "method": "animate"
           },
           {
            "args": [
             [
              "4"
             ],
             {
              "frame": {
               "duration": 0,
               "redraw": true
              },
              "fromcurrent": true,
              "mode": "immediate",
              "transition": {
               "duration": 0,
               "easing": "linear"
              }
             }
            ],
            "label": "4",
            "method": "animate"
           },
           {
            "args": [
             [
              "5"
             ],
             {
              "frame": {
               "duration": 0,
               "redraw": true
              },
              "fromcurrent": true,
              "mode": "immediate",
              "transition": {
               "duration": 0,
               "easing": "linear"
              }
             }
            ],
            "label": "5",
            "method": "animate"
           },
           {
            "args": [
             [
              "6"
             ],
             {
              "frame": {
               "duration": 0,
               "redraw": true
              },
              "fromcurrent": true,
              "mode": "immediate",
              "transition": {
               "duration": 0,
               "easing": "linear"
              }
             }
            ],
            "label": "6",
            "method": "animate"
           },
           {
            "args": [
             [
              "7"
             ],
             {
              "frame": {
               "duration": 0,
               "redraw": true
              },
              "fromcurrent": true,
              "mode": "immediate",
              "transition": {
               "duration": 0,
               "easing": "linear"
              }
             }
            ],
            "label": "7",
            "method": "animate"
           },
           {
            "args": [
             [
              "8"
             ],
             {
              "frame": {
               "duration": 0,
               "redraw": true
              },
              "fromcurrent": true,
              "mode": "immediate",
              "transition": {
               "duration": 0,
               "easing": "linear"
              }
             }
            ],
            "label": "8",
            "method": "animate"
           },
           {
            "args": [
             [
              "9"
             ],
             {
              "frame": {
               "duration": 0,
               "redraw": true
              },
              "fromcurrent": true,
              "mode": "immediate",
              "transition": {
               "duration": 0,
               "easing": "linear"
              }
             }
            ],
            "label": "9",
            "method": "animate"
           },
           {
            "args": [
             [
              "10"
             ],
             {
              "frame": {
               "duration": 0,
               "redraw": true
              },
              "fromcurrent": true,
              "mode": "immediate",
              "transition": {
               "duration": 0,
               "easing": "linear"
              }
             }
            ],
            "label": "10",
            "method": "animate"
           },
           {
            "args": [
             [
              "1000"
             ],
             {
              "frame": {
               "duration": 0,
               "redraw": true
              },
              "fromcurrent": true,
              "mode": "immediate",
              "transition": {
               "duration": 0,
               "easing": "linear"
              }
             }
            ],
            "label": "1000",
            "method": "animate"
           }
          ],
          "x": 0.1,
          "xanchor": "left",
          "y": 0,
          "yanchor": "top"
         }
        ],
        "template": {
         "data": {
          "bar": [
           {
            "error_x": {
             "color": "#2a3f5f"
            },
            "error_y": {
             "color": "#2a3f5f"
            },
            "marker": {
             "line": {
              "color": "#E5ECF6",
              "width": 0.5
             },
             "pattern": {
              "fillmode": "overlay",
              "size": 10,
              "solidity": 0.2
             }
            },
            "type": "bar"
           }
          ],
          "barpolar": [
           {
            "marker": {
             "line": {
              "color": "#E5ECF6",
              "width": 0.5
             },
             "pattern": {
              "fillmode": "overlay",
              "size": 10,
              "solidity": 0.2
             }
            },
            "type": "barpolar"
           }
          ],
          "carpet": [
           {
            "aaxis": {
             "endlinecolor": "#2a3f5f",
             "gridcolor": "white",
             "linecolor": "white",
             "minorgridcolor": "white",
             "startlinecolor": "#2a3f5f"
            },
            "baxis": {
             "endlinecolor": "#2a3f5f",
             "gridcolor": "white",
             "linecolor": "white",
             "minorgridcolor": "white",
             "startlinecolor": "#2a3f5f"
            },
            "type": "carpet"
           }
          ],
          "choropleth": [
           {
            "colorbar": {
             "outlinewidth": 0,
             "ticks": ""
            },
            "type": "choropleth"
           }
          ],
          "contour": [
           {
            "colorbar": {
             "outlinewidth": 0,
             "ticks": ""
            },
            "colorscale": [
             [
              0,
              "#0d0887"
             ],
             [
              0.1111111111111111,
              "#46039f"
             ],
             [
              0.2222222222222222,
              "#7201a8"
             ],
             [
              0.3333333333333333,
              "#9c179e"
             ],
             [
              0.4444444444444444,
              "#bd3786"
             ],
             [
              0.5555555555555556,
              "#d8576b"
             ],
             [
              0.6666666666666666,
              "#ed7953"
             ],
             [
              0.7777777777777778,
              "#fb9f3a"
             ],
             [
              0.8888888888888888,
              "#fdca26"
             ],
             [
              1,
              "#f0f921"
             ]
            ],
            "type": "contour"
           }
          ],
          "contourcarpet": [
           {
            "colorbar": {
             "outlinewidth": 0,
             "ticks": ""
            },
            "type": "contourcarpet"
           }
          ],
          "heatmap": [
           {
            "colorbar": {
             "outlinewidth": 0,
             "ticks": ""
            },
            "colorscale": [
             [
              0,
              "#0d0887"
             ],
             [
              0.1111111111111111,
              "#46039f"
             ],
             [
              0.2222222222222222,
              "#7201a8"
             ],
             [
              0.3333333333333333,
              "#9c179e"
             ],
             [
              0.4444444444444444,
              "#bd3786"
             ],
             [
              0.5555555555555556,
              "#d8576b"
             ],
             [
              0.6666666666666666,
              "#ed7953"
             ],
             [
              0.7777777777777778,
              "#fb9f3a"
             ],
             [
              0.8888888888888888,
              "#fdca26"
             ],
             [
              1,
              "#f0f921"
             ]
            ],
            "type": "heatmap"
           }
          ],
          "heatmapgl": [
           {
            "colorbar": {
             "outlinewidth": 0,
             "ticks": ""
            },
            "colorscale": [
             [
              0,
              "#0d0887"
             ],
             [
              0.1111111111111111,
              "#46039f"
             ],
             [
              0.2222222222222222,
              "#7201a8"
             ],
             [
              0.3333333333333333,
              "#9c179e"
             ],
             [
              0.4444444444444444,
              "#bd3786"
             ],
             [
              0.5555555555555556,
              "#d8576b"
             ],
             [
              0.6666666666666666,
              "#ed7953"
             ],
             [
              0.7777777777777778,
              "#fb9f3a"
             ],
             [
              0.8888888888888888,
              "#fdca26"
             ],
             [
              1,
              "#f0f921"
             ]
            ],
            "type": "heatmapgl"
           }
          ],
          "histogram": [
           {
            "marker": {
             "pattern": {
              "fillmode": "overlay",
              "size": 10,
              "solidity": 0.2
             }
            },
            "type": "histogram"
           }
          ],
          "histogram2d": [
           {
            "colorbar": {
             "outlinewidth": 0,
             "ticks": ""
            },
            "colorscale": [
             [
              0,
              "#0d0887"
             ],
             [
              0.1111111111111111,
              "#46039f"
             ],
             [
              0.2222222222222222,
              "#7201a8"
             ],
             [
              0.3333333333333333,
              "#9c179e"
             ],
             [
              0.4444444444444444,
              "#bd3786"
             ],
             [
              0.5555555555555556,
              "#d8576b"
             ],
             [
              0.6666666666666666,
              "#ed7953"
             ],
             [
              0.7777777777777778,
              "#fb9f3a"
             ],
             [
              0.8888888888888888,
              "#fdca26"
             ],
             [
              1,
              "#f0f921"
             ]
            ],
            "type": "histogram2d"
           }
          ],
          "histogram2dcontour": [
           {
            "colorbar": {
             "outlinewidth": 0,
             "ticks": ""
            },
            "colorscale": [
             [
              0,
              "#0d0887"
             ],
             [
              0.1111111111111111,
              "#46039f"
             ],
             [
              0.2222222222222222,
              "#7201a8"
             ],
             [
              0.3333333333333333,
              "#9c179e"
             ],
             [
              0.4444444444444444,
              "#bd3786"
             ],
             [
              0.5555555555555556,
              "#d8576b"
             ],
             [
              0.6666666666666666,
              "#ed7953"
             ],
             [
              0.7777777777777778,
              "#fb9f3a"
             ],
             [
              0.8888888888888888,
              "#fdca26"
             ],
             [
              1,
              "#f0f921"
             ]
            ],
            "type": "histogram2dcontour"
           }
          ],
          "mesh3d": [
           {
            "colorbar": {
             "outlinewidth": 0,
             "ticks": ""
            },
            "type": "mesh3d"
           }
          ],
          "parcoords": [
           {
            "line": {
             "colorbar": {
              "outlinewidth": 0,
              "ticks": ""
             }
            },
            "type": "parcoords"
           }
          ],
          "pie": [
           {
            "automargin": true,
            "type": "pie"
           }
          ],
          "scatter": [
           {
            "fillpattern": {
             "fillmode": "overlay",
             "size": 10,
             "solidity": 0.2
            },
            "type": "scatter"
           }
          ],
          "scatter3d": [
           {
            "line": {
             "colorbar": {
              "outlinewidth": 0,
              "ticks": ""
             }
            },
            "marker": {
             "colorbar": {
              "outlinewidth": 0,
              "ticks": ""
             }
            },
            "type": "scatter3d"
           }
          ],
          "scattercarpet": [
           {
            "marker": {
             "colorbar": {
              "outlinewidth": 0,
              "ticks": ""
             }
            },
            "type": "scattercarpet"
           }
          ],
          "scattergeo": [
           {
            "marker": {
             "colorbar": {
              "outlinewidth": 0,
              "ticks": ""
             }
            },
            "type": "scattergeo"
           }
          ],
          "scattergl": [
           {
            "marker": {
             "colorbar": {
              "outlinewidth": 0,
              "ticks": ""
             }
            },
            "type": "scattergl"
           }
          ],
          "scattermapbox": [
           {
            "marker": {
             "colorbar": {
              "outlinewidth": 0,
              "ticks": ""
             }
            },
            "type": "scattermapbox"
           }
          ],
          "scatterpolar": [
           {
            "marker": {
             "colorbar": {
              "outlinewidth": 0,
              "ticks": ""
             }
            },
            "type": "scatterpolar"
           }
          ],
          "scatterpolargl": [
           {
            "marker": {
             "colorbar": {
              "outlinewidth": 0,
              "ticks": ""
             }
            },
            "type": "scatterpolargl"
           }
          ],
          "scatterternary": [
           {
            "marker": {
             "colorbar": {
              "outlinewidth": 0,
              "ticks": ""
             }
            },
            "type": "scatterternary"
           }
          ],
          "surface": [
           {
            "colorbar": {
             "outlinewidth": 0,
             "ticks": ""
            },
            "colorscale": [
             [
              0,
              "#0d0887"
             ],
             [
              0.1111111111111111,
              "#46039f"
             ],
             [
              0.2222222222222222,
              "#7201a8"
             ],
             [
              0.3333333333333333,
              "#9c179e"
             ],
             [
              0.4444444444444444,
              "#bd3786"
             ],
             [
              0.5555555555555556,
              "#d8576b"
             ],
             [
              0.6666666666666666,
              "#ed7953"
             ],
             [
              0.7777777777777778,
              "#fb9f3a"
             ],
             [
              0.8888888888888888,
              "#fdca26"
             ],
             [
              1,
              "#f0f921"
             ]
            ],
            "type": "surface"
           }
          ],
          "table": [
           {
            "cells": {
             "fill": {
              "color": "#EBF0F8"
             },
             "line": {
              "color": "white"
             }
            },
            "header": {
             "fill": {
              "color": "#C8D4E3"
             },
             "line": {
              "color": "white"
             }
            },
            "type": "table"
           }
          ]
         },
         "layout": {
          "annotationdefaults": {
           "arrowcolor": "#2a3f5f",
           "arrowhead": 0,
           "arrowwidth": 1
          },
          "autotypenumbers": "strict",
          "coloraxis": {
           "colorbar": {
            "outlinewidth": 0,
            "ticks": ""
           }
          },
          "colorscale": {
           "diverging": [
            [
             0,
             "#8e0152"
            ],
            [
             0.1,
             "#c51b7d"
            ],
            [
             0.2,
             "#de77ae"
            ],
            [
             0.3,
             "#f1b6da"
            ],
            [
             0.4,
             "#fde0ef"
            ],
            [
             0.5,
             "#f7f7f7"
            ],
            [
             0.6,
             "#e6f5d0"
            ],
            [
             0.7,
             "#b8e186"
            ],
            [
             0.8,
             "#7fbc41"
            ],
            [
             0.9,
             "#4d9221"
            ],
            [
             1,
             "#276419"
            ]
           ],
           "sequential": [
            [
             0,
             "#0d0887"
            ],
            [
             0.1111111111111111,
             "#46039f"
            ],
            [
             0.2222222222222222,
             "#7201a8"
            ],
            [
             0.3333333333333333,
             "#9c179e"
            ],
            [
             0.4444444444444444,
             "#bd3786"
            ],
            [
             0.5555555555555556,
             "#d8576b"
            ],
            [
             0.6666666666666666,
             "#ed7953"
            ],
            [
             0.7777777777777778,
             "#fb9f3a"
            ],
            [
             0.8888888888888888,
             "#fdca26"
            ],
            [
             1,
             "#f0f921"
            ]
           ],
           "sequentialminus": [
            [
             0,
             "#0d0887"
            ],
            [
             0.1111111111111111,
             "#46039f"
            ],
            [
             0.2222222222222222,
             "#7201a8"
            ],
            [
             0.3333333333333333,
             "#9c179e"
            ],
            [
             0.4444444444444444,
             "#bd3786"
            ],
            [
             0.5555555555555556,
             "#d8576b"
            ],
            [
             0.6666666666666666,
             "#ed7953"
            ],
            [
             0.7777777777777778,
             "#fb9f3a"
            ],
            [
             0.8888888888888888,
             "#fdca26"
            ],
            [
             1,
             "#f0f921"
            ]
           ]
          },
          "colorway": [
           "#636efa",
           "#EF553B",
           "#00cc96",
           "#ab63fa",
           "#FFA15A",
           "#19d3f3",
           "#FF6692",
           "#B6E880",
           "#FF97FF",
           "#FECB52"
          ],
          "font": {
           "color": "#2a3f5f"
          },
          "geo": {
           "bgcolor": "white",
           "lakecolor": "white",
           "landcolor": "#E5ECF6",
           "showlakes": true,
           "showland": true,
           "subunitcolor": "white"
          },
          "hoverlabel": {
           "align": "left"
          },
          "hovermode": "closest",
          "mapbox": {
           "style": "light"
          },
          "paper_bgcolor": "white",
          "plot_bgcolor": "#E5ECF6",
          "polar": {
           "angularaxis": {
            "gridcolor": "white",
            "linecolor": "white",
            "ticks": ""
           },
           "bgcolor": "#E5ECF6",
           "radialaxis": {
            "gridcolor": "white",
            "linecolor": "white",
            "ticks": ""
           }
          },
          "scene": {
           "xaxis": {
            "backgroundcolor": "#E5ECF6",
            "gridcolor": "white",
            "gridwidth": 2,
            "linecolor": "white",
            "showbackground": true,
            "ticks": "",
            "zerolinecolor": "white"
           },
           "yaxis": {
            "backgroundcolor": "#E5ECF6",
            "gridcolor": "white",
            "gridwidth": 2,
            "linecolor": "white",
            "showbackground": true,
            "ticks": "",
            "zerolinecolor": "white"
           },
           "zaxis": {
            "backgroundcolor": "#E5ECF6",
            "gridcolor": "white",
            "gridwidth": 2,
            "linecolor": "white",
            "showbackground": true,
            "ticks": "",
            "zerolinecolor": "white"
           }
          },
          "shapedefaults": {
           "line": {
            "color": "#2a3f5f"
           }
          },
          "ternary": {
           "aaxis": {
            "gridcolor": "white",
            "linecolor": "white",
            "ticks": ""
           },
           "baxis": {
            "gridcolor": "white",
            "linecolor": "white",
            "ticks": ""
           },
           "bgcolor": "#E5ECF6",
           "caxis": {
            "gridcolor": "white",
            "linecolor": "white",
            "ticks": ""
           }
          },
          "title": {
           "x": 0.05
          },
          "xaxis": {
           "automargin": true,
           "gridcolor": "white",
           "linecolor": "white",
           "ticks": "",
           "title": {
            "standoff": 15
           },
           "zerolinecolor": "white",
           "zerolinewidth": 2
          },
          "yaxis": {
           "automargin": true,
           "gridcolor": "white",
           "linecolor": "white",
           "ticks": "",
           "title": {
            "standoff": 15
           },
           "zerolinecolor": "white",
           "zerolinewidth": 2
          }
         }
        },
        "xaxis": {
         "anchor": "y",
         "autorange": true,
         "domain": [
          0,
          1
         ],
         "range": [
          -0.5,
          3.5
         ],
         "title": {
          "text": ""
         },
         "type": "category"
        },
        "yaxis": {
         "anchor": "x",
         "domain": [
          0,
          1
         ],
         "range": [
          0,
          11.756793812620847
         ],
         "title": {
          "text": "Mean count in the summaries"
         },
         "type": "linear"
        }
       }
      },
      "image/png": "[encoded data removed]",
      "text/html": [
       "<div>                            <div id=\"0081d825-a049-495f-a851-0217f668e188\" class=\"plotly-graph-div\" style=\"height:525px; width:100%;\"></div>            <script type=\"text/javascript\">                require([\"plotly\"], function(Plotly) {                    window.PLOTLYENV=window.PLOTLYENV || {};                                    if (document.getElementById(\"0081d825-a049-495f-a851-0217f668e188\")) {                    Plotly.newPlot(                        \"0081d825-a049-495f-a851-0217f668e188\",                        [{\"alignmentgroup\":\"True\",\"hovertemplate\":\"Actor Gender=M<br>n=2<br>=%{x}<br>Mean count in the summaries=%{y}<extra></extra>\",\"legendgroup\":\"M\",\"marker\":{\"color\":\"#636efa\",\"pattern\":{\"shape\":\"\"}},\"name\":\"M\",\"offsetgroup\":\"M\",\"orientation\":\"v\",\"showlegend\":true,\"textposition\":\"auto\",\"texttemplate\":\"%{y}\",\"x\":[\"M without F\",\"M with F\"],\"xaxis\":\"x\",\"y\":[9.79732817718404,0.7851555633679029],\"yaxis\":\"y\",\"type\":\"bar\"},{\"alignmentgroup\":\"True\",\"hovertemplate\":\"Actor Gender=F<br>n=2<br>=%{x}<br>Mean count in the summaries=%{y}<extra></extra>\",\"legendgroup\":\"F\",\"marker\":{\"color\":\"#EF553B\",\"pattern\":{\"shape\":\"\"}},\"name\":\"F\",\"offsetgroup\":\"F\",\"orientation\":\"v\",\"showlegend\":true,\"textposition\":\"auto\",\"texttemplate\":\"%{y}\",\"x\":[\"F without M\",\"F with M\"],\"xaxis\":\"x\",\"y\":[4.530629284584285,0.7627878361750747],\"yaxis\":\"y\",\"type\":\"bar\"}],                        {\"template\":{\"data\":{\"histogram2dcontour\":[{\"type\":\"histogram2dcontour\",\"colorbar\":{\"outlinewidth\":0,\"ticks\":\"\"},\"colorscale\":[[0.0,\"#0d0887\"],[0.1111111111111111,\"#46039f\"],[0.2222222222222222,\"#7201a8\"],[0.3333333333333333,\"#9c179e\"],[0.4444444444444444,\"#bd3786\"],[0.5555555555555556,\"#d8576b\"],[0.6666666666666666,\"#ed7953\"],[0.7777777777777778,\"#fb9f3a\"],[0.8888888888888888,\"#fdca26\"],[1.0,\"#f0f921\"]]}],\"choropleth\":[{\"type\":\"choropleth\",\"colorbar\":{\"outlinewidth\":0,\"ticks\":\"\"}}],\"histogram2d\":[{\"type\":\"histogram2d\",\"colorbar\":{\"outlinewidth\":0,\"ticks\":\"\"},\"colorscale\":[[0.0,\"#0d0887\"],[0.1111111111111111,\"#46039f\"],[0.2222222222222222,\"#7201a8\"],[0.3333333333333333,\"#9c179e\"],[0.4444444444444444,\"#bd3786\"],[0.5555555555555556,\"#d8576b\"],[0.6666666666666666,\"#ed7953\"],[0.7777777777777778,\"#fb9f3a\"],[0.8888888888888888,\"#fdca26\"],[1.0,\"#f0f921\"]]}],\"heatmap\":[{\"type\":\"heatmap\",\"colorbar\":{\"outlinewidth\":0,\"ticks\":\"\"},\"colorscale\":[[0.0,\"#0d0887\"],[0.1111111111111111,\"#46039f\"],[0.2222222222222222,\"#7201a8\"],[0.3333333333333333,\"#9c179e\"],[0.4444444444444444,\"#bd3786\"],[0.5555555555555556,\"#d8576b\"],[0.6666666666666666,\"#ed7953\"],[0.7777777777777778,\"#fb9f3a\"],[0.8888888888888888,\"#fdca26\"],[1.0,\"#f0f921\"]]}],\"heatmapgl\":[{\"type\":\"heatmapgl\",\"colorbar\":{\"outlinewidth\":0,\"ticks\":\"\"},\"colorscale\":[[0.0,\"#0d0887\"],[0.1111111111111111,\"#46039f\"],[0.2222222222222222,\"#7201a8\"],[0.3333333333333333,\"#9c179e\"],[0.4444444444444444,\"#bd3786\"],[0.5555555555555556,\"#d8576b\"],[0.6666666666666666,\"#ed7953\"],[0.7777777777777778,\"#fb9f3a\"],[0.8888888888888888,\"#fdca26\"],[1.0,\"#f0f921\"]]}],\"contourcarpet\":[{\"type\":\"contourcarpet\",\"colorbar\":{\"outlinewidth\":0,\"ticks\":\"\"}}],\"contour\":[{\"type\":\"contour\",\"colorbar\":{\"outlinewidth\":0,\"ticks\":\"\"},\"colorscale\":[[0.0,\"#0d0887\"],[0.1111111111111111,\"#46039f\"],[0.2222222222222222,\"#7201a8\"],[0.3333333333333333,\"#9c179e\"],[0.4444444444444444,\"#bd3786\"],[0.5555555555555556,\"#d8576b\"],[0.6666666666666666,\"#ed7953\"],[0.7777777777777778,\"#fb9f3a\"],[0.8888888888888888,\"#fdca26\"],[1.0,\"#f0f921\"]]}],\"surface\":[{\"type\":\"surface\",\"colorbar\":{\"outlinewidth\":0,\"ticks\":\"\"},\"colorscale\":[[0.0,\"#0d0887\"],[0.1111111111111111,\"#46039f\"],[0.2222222222222222,\"#7201a8\"],[0.3333333333333333,\"#9c179e\"],[0.4444444444444444,\"#bd3786\"],[0.5555555555555556,\"#d8576b\"],[0.6666666666666666,\"#ed7953\"],[0.7777777777777778,\"#fb9f3a\"],[0.8888888888888888,\"#fdca26\"],[1.0,\"#f0f921\"]]}],\"mesh3d\":[{\"type\":\"mesh3d\",\"colorbar\":{\"outlinewidth\":0,\"ticks\":\"\"}}],\"scatter\":[{\"fillpattern\":{\"fillmode\":\"overlay\",\"size\":10,\"solidity\":0.2},\"type\":\"scatter\"}],\"parcoords\":[{\"type\":\"parcoords\",\"line\":{\"colorbar\":{\"outlinewidth\":0,\"ticks\":\"\"}}}],\"scatterpolargl\":[{\"type\":\"scatterpolargl\",\"marker\":{\"colorbar\":{\"outlinewidth\":0,\"ticks\":\"\"}}}],\"bar\":[{\"error_x\":{\"color\":\"#2a3f5f\"},\"error_y\":{\"color\":\"#2a3f5f\"},\"marker\":{\"line\":{\"color\":\"#E5ECF6\",\"width\":0.5},\"pattern\":{\"fillmode\":\"overlay\",\"size\":10,\"solidity\":0.2}},\"type\":\"bar\"}],\"scattergeo\":[{\"type\":\"scattergeo\",\"marker\":{\"colorbar\":{\"outlinewidth\":0,\"ticks\":\"\"}}}],\"scatterpolar\":[{\"type\":\"scatterpolar\",\"marker\":{\"colorbar\":{\"outlinewidth\":0,\"ticks\":\"\"}}}],\"histogram\":[{\"marker\":{\"pattern\":{\"fillmode\":\"overlay\",\"size\":10,\"solidity\":0.2}},\"type\":\"histogram\"}],\"scattergl\":[{\"type\":\"scattergl\",\"marker\":{\"colorbar\":{\"outlinewidth\":0,\"ticks\":\"\"}}}],\"scatter3d\":[{\"type\":\"scatter3d\",\"line\":{\"colorbar\":{\"outlinewidth\":0,\"ticks\":\"\"}},\"marker\":{\"colorbar\":{\"outlinewidth\":0,\"ticks\":\"\"}}}],\"scattermapbox\":[{\"type\":\"scattermapbox\",\"marker\":{\"colorbar\":{\"outlinewidth\":0,\"ticks\":\"\"}}}],\"scatterternary\":[{\"type\":\"scatterternary\",\"marker\":{\"colorbar\":{\"outlinewidth\":0,\"ticks\":\"\"}}}],\"scattercarpet\":[{\"type\":\"scattercarpet\",\"marker\":{\"colorbar\":{\"outlinewidth\":0,\"ticks\":\"\"}}}],\"carpet\":[{\"aaxis\":{\"endlinecolor\":\"#2a3f5f\",\"gridcolor\":\"white\",\"linecolor\":\"white\",\"minorgridcolor\":\"white\",\"startlinecolor\":\"#2a3f5f\"},\"baxis\":{\"endlinecolor\":\"#2a3f5f\",\"gridcolor\":\"white\",\"linecolor\":\"white\",\"minorgridcolor\":\"white\",\"startlinecolor\":\"#2a3f5f\"},\"type\":\"carpet\"}],\"table\":[{\"cells\":{\"fill\":{\"color\":\"#EBF0F8\"},\"line\":{\"color\":\"white\"}},\"header\":{\"fill\":{\"color\":\"#C8D4E3\"},\"line\":{\"color\":\"white\"}},\"type\":\"table\"}],\"barpolar\":[{\"marker\":{\"line\":{\"color\":\"#E5ECF6\",\"width\":0.5},\"pattern\":{\"fillmode\":\"overlay\",\"size\":10,\"solidity\":0.2}},\"type\":\"barpolar\"}],\"pie\":[{\"automargin\":true,\"type\":\"pie\"}]},\"layout\":{\"autotypenumbers\":\"strict\",\"colorway\":[\"#636efa\",\"#EF553B\",\"#00cc96\",\"#ab63fa\",\"#FFA15A\",\"#19d3f3\",\"#FF6692\",\"#B6E880\",\"#FF97FF\",\"#FECB52\"],\"font\":{\"color\":\"#2a3f5f\"},\"hovermode\":\"closest\",\"hoverlabel\":{\"align\":\"left\"},\"paper_bgcolor\":\"white\",\"plot_bgcolor\":\"#E5ECF6\",\"polar\":{\"bgcolor\":\"#E5ECF6\",\"angularaxis\":{\"gridcolor\":\"white\",\"linecolor\":\"white\",\"ticks\":\"\"},\"radialaxis\":{\"gridcolor\":\"white\",\"linecolor\":\"white\",\"ticks\":\"\"}},\"ternary\":{\"bgcolor\":\"#E5ECF6\",\"aaxis\":{\"gridcolor\":\"white\",\"linecolor\":\"white\",\"ticks\":\"\"},\"baxis\":{\"gridcolor\":\"white\",\"linecolor\":\"white\",\"ticks\":\"\"},\"caxis\":{\"gridcolor\":\"white\",\"linecolor\":\"white\",\"ticks\":\"\"}},\"coloraxis\":{\"colorbar\":{\"outlinewidth\":0,\"ticks\":\"\"}},\"colorscale\":{\"sequential\":[[0.0,\"#0d0887\"],[0.1111111111111111,\"#46039f\"],[0.2222222222222222,\"#7201a8\"],[0.3333333333333333,\"#9c179e\"],[0.4444444444444444,\"#bd3786\"],[0.5555555555555556,\"#d8576b\"],[0.6666666666666666,\"#ed7953\"],[0.7777777777777778,\"#fb9f3a\"],[0.8888888888888888,\"#fdca26\"],[1.0,\"#f0f921\"]],\"sequentialminus\":[[0.0,\"#0d0887\"],[0.1111111111111111,\"#46039f\"],[0.2222222222222222,\"#7201a8\"],[0.3333333333333333,\"#9c179e\"],[0.4444444444444444,\"#bd3786\"],[0.5555555555555556,\"#d8576b\"],[0.6666666666666666,\"#ed7953\"],[0.7777777777777778,\"#fb9f3a\"],[0.8888888888888888,\"#fdca26\"],[1.0,\"#f0f921\"]],\"diverging\":[[0,\"#8e0152\"],[0.1,\"#c51b7d\"],[0.2,\"#de77ae\"],[0.3,\"#f1b6da\"],[0.4,\"#fde0ef\"],[0.5,\"#f7f7f7\"],[0.6,\"#e6f5d0\"],[0.7,\"#b8e186\"],[0.8,\"#7fbc41\"],[0.9,\"#4d9221\"],[1,\"#276419\"]]},\"xaxis\":{\"gridcolor\":\"white\",\"linecolor\":\"white\",\"ticks\":\"\",\"title\":{\"standoff\":15},\"zerolinecolor\":\"white\",\"automargin\":true,\"zerolinewidth\":2},\"yaxis\":{\"gridcolor\":\"white\",\"linecolor\":\"white\",\"ticks\":\"\",\"title\":{\"standoff\":15},\"zerolinecolor\":\"white\",\"automargin\":true,\"zerolinewidth\":2},\"scene\":{\"xaxis\":{\"backgroundcolor\":\"#E5ECF6\",\"gridcolor\":\"white\",\"linecolor\":\"white\",\"showbackground\":true,\"ticks\":\"\",\"zerolinecolor\":\"white\",\"gridwidth\":2},\"yaxis\":{\"backgroundcolor\":\"#E5ECF6\",\"gridcolor\":\"white\",\"linecolor\":\"white\",\"showbackground\":true,\"ticks\":\"\",\"zerolinecolor\":\"white\",\"gridwidth\":2},\"zaxis\":{\"backgroundcolor\":\"#E5ECF6\",\"gridcolor\":\"white\",\"linecolor\":\"white\",\"showbackground\":true,\"ticks\":\"\",\"zerolinecolor\":\"white\",\"gridwidth\":2}},\"shapedefaults\":{\"line\":{\"color\":\"#2a3f5f\"}},\"annotationdefaults\":{\"arrowcolor\":\"#2a3f5f\",\"arrowhead\":0,\"arrowwidth\":1},\"geo\":{\"bgcolor\":\"white\",\"landcolor\":\"#E5ECF6\",\"subunitcolor\":\"white\",\"showland\":true,\"showlakes\":true,\"lakecolor\":\"white\"},\"title\":{\"x\":0.05},\"mapbox\":{\"style\":\"light\"}}},\"xaxis\":{\"anchor\":\"y\",\"domain\":[0.0,1.0],\"title\":{\"text\":\"\"}},\"yaxis\":{\"anchor\":\"x\",\"domain\":[0.0,1.0],\"title\":{\"text\":\"Mean count in the summaries\"},\"range\":[0,11.756793812620847]},\"legend\":{\"title\":{\"text\":\"Actor Gender\"},\"tracegroupgap\":0},\"margin\":{\"t\":60},\"barmode\":\"relative\",\"sliders\":[{\"active\":0,\"currentvalue\":{\"prefix\":\"n=\"},\"len\":0.9,\"pad\":{\"b\":10,\"t\":60},\"steps\":[{\"args\":[[\"2\"],{\"frame\":{\"duration\":0,\"redraw\":true},\"mode\":\"immediate\",\"fromcurrent\":true,\"transition\":{\"duration\":0,\"easing\":\"linear\"}}],\"label\":\"2\",\"method\":\"animate\"},{\"args\":[[\"3\"],{\"frame\":{\"duration\":0,\"redraw\":true},\"mode\":\"immediate\",\"fromcurrent\":true,\"transition\":{\"duration\":0,\"easing\":\"linear\"}}],\"label\":\"3\",\"method\":\"animate\"},{\"args\":[[\"4\"],{\"frame\":{\"duration\":0,\"redraw\":true},\"mode\":\"immediate\",\"fromcurrent\":true,\"transition\":{\"duration\":0,\"easing\":\"linear\"}}],\"label\":\"4\",\"method\":\"animate\"},{\"args\":[[\"5\"],{\"frame\":{\"duration\":0,\"redraw\":true},\"mode\":\"immediate\",\"fromcurrent\":true,\"transition\":{\"duration\":0,\"easing\":\"linear\"}}],\"label\":\"5\",\"method\":\"animate\"},{\"args\":[[\"6\"],{\"frame\":{\"duration\":0,\"redraw\":true},\"mode\":\"immediate\",\"fromcurrent\":true,\"transition\":{\"duration\":0,\"easing\":\"linear\"}}],\"label\":\"6\",\"method\":\"animate\"},{\"args\":[[\"7\"],{\"frame\":{\"duration\":0,\"redraw\":true},\"mode\":\"immediate\",\"fromcurrent\":true,\"transition\":{\"duration\":0,\"easing\":\"linear\"}}],\"label\":\"7\",\"method\":\"animate\"},{\"args\":[[\"8\"],{\"frame\":{\"duration\":0,\"redraw\":true},\"mode\":\"immediate\",\"fromcurrent\":true,\"transition\":{\"duration\":0,\"easing\":\"linear\"}}],\"label\":\"8\",\"method\":\"animate\"},{\"args\":[[\"9\"],{\"frame\":{\"duration\":0,\"redraw\":true},\"mode\":\"immediate\",\"fromcurrent\":true,\"transition\":{\"duration\":0,\"easing\":\"linear\"}}],\"label\":\"9\",\"method\":\"animate\"},{\"args\":[[\"10\"],{\"frame\":{\"duration\":0,\"redraw\":true},\"mode\":\"immediate\",\"fromcurrent\":true,\"transition\":{\"duration\":0,\"easing\":\"linear\"}}],\"label\":\"10\",\"method\":\"animate\"},{\"args\":[[\"1000\"],{\"frame\":{\"duration\":0,\"redraw\":true},\"mode\":\"immediate\",\"fromcurrent\":true,\"transition\":{\"duration\":0,\"easing\":\"linear\"}}],\"label\":\"1000\",\"method\":\"animate\"}],\"x\":0.1,\"xanchor\":\"left\",\"y\":0,\"yanchor\":\"top\"}],\"paper_bgcolor\":\"rgba(0,0,0,0)\",\"plot_bgcolor\":\"rgba(0,0,0,0)\"},                        {\"responsive\": true}                    ).then(function(){\n",
       "                            Plotly.addFrames('0081d825-a049-495f-a851-0217f668e188', [{\"data\":[{\"alignmentgroup\":\"True\",\"hovertemplate\":\"Actor Gender=M<br>n=2<br>=%{x}<br>Mean count in the summaries=%{y}<extra></extra>\",\"legendgroup\":\"M\",\"marker\":{\"color\":\"#636efa\",\"pattern\":{\"shape\":\"\"}},\"name\":\"M\",\"offsetgroup\":\"M\",\"orientation\":\"v\",\"showlegend\":true,\"textposition\":\"auto\",\"texttemplate\":\"%{y}\",\"x\":[\"M without F\",\"M with F\"],\"xaxis\":\"x\",\"y\":[9.79732817718404,0.7851555633679029],\"yaxis\":\"y\",\"type\":\"bar\"},{\"alignmentgroup\":\"True\",\"hovertemplate\":\"Actor Gender=F<br>n=2<br>=%{x}<br>Mean count in the summaries=%{y}<extra></extra>\",\"legendgroup\":\"F\",\"marker\":{\"color\":\"#EF553B\",\"pattern\":{\"shape\":\"\"}},\"name\":\"F\",\"offsetgroup\":\"F\",\"orientation\":\"v\",\"showlegend\":true,\"textposition\":\"auto\",\"texttemplate\":\"%{y}\",\"x\":[\"F without M\",\"F with M\"],\"xaxis\":\"x\",\"y\":[4.530629284584285,0.7627878361750747],\"yaxis\":\"y\",\"type\":\"bar\"}],\"name\":\"2\"},{\"data\":[{\"alignmentgroup\":\"True\",\"hovertemplate\":\"Actor Gender=M<br>n=3<br>=%{x}<br>Mean count in the summaries=%{y}<extra></extra>\",\"legendgroup\":\"M\",\"marker\":{\"color\":\"#636efa\",\"pattern\":{\"shape\":\"\"}},\"name\":\"M\",\"offsetgroup\":\"M\",\"orientation\":\"v\",\"showlegend\":true,\"textposition\":\"auto\",\"texttemplate\":\"%{y}\",\"x\":[\"M without F\",\"M with F\"],\"xaxis\":\"x\",\"y\":[9.544779398839866,1.037704341712076],\"yaxis\":\"y\",\"type\":\"bar\"},{\"alignmentgroup\":\"True\",\"hovertemplate\":\"Actor Gender=F<br>n=3<br>=%{x}<br>Mean count in the summaries=%{y}<extra></extra>\",\"legendgroup\":\"F\",\"marker\":{\"color\":\"#EF553B\",\"pattern\":{\"shape\":\"\"}},\"name\":\"F\",\"offsetgroup\":\"F\",\"orientation\":\"v\",\"showlegend\":true,\"textposition\":\"auto\",\"texttemplate\":\"%{y}\",\"x\":[\"F without M\",\"F with M\"],\"xaxis\":\"x\",\"y\":[4.300887677975039,0.9925294427843206],\"yaxis\":\"y\",\"type\":\"bar\"}],\"name\":\"3\"},{\"data\":[{\"alignmentgroup\":\"True\",\"hovertemplate\":\"Actor Gender=M<br>n=4<br>=%{x}<br>Mean count in the summaries=%{y}<extra></extra>\",\"legendgroup\":\"M\",\"marker\":{\"color\":\"#636efa\",\"pattern\":{\"shape\":\"\"}},\"name\":\"M\",\"offsetgroup\":\"M\",\"orientation\":\"v\",\"showlegend\":true,\"textposition\":\"auto\",\"texttemplate\":\"%{y}\",\"x\":[\"M without F\",\"M with F\"],\"xaxis\":\"x\",\"y\":[9.299437510986111,1.2830462295658287],\"yaxis\":\"y\",\"type\":\"bar\"},{\"alignmentgroup\":\"True\",\"hovertemplate\":\"Actor Gender=F<br>n=4<br>=%{x}<br>Mean count in the summaries=%{y}<extra></extra>\",\"legendgroup\":\"F\",\"marker\":{\"color\":\"#EF553B\",\"pattern\":{\"shape\":\"\"}},\"name\":\"F\",\"offsetgroup\":\"F\",\"orientation\":\"v\",\"showlegend\":true,\"textposition\":\"auto\",\"texttemplate\":\"%{y}\",\"x\":[\"F without M\",\"F with M\"],\"xaxis\":\"x\",\"y\":[4.081077518017226,1.212339602742134],\"yaxis\":\"y\",\"type\":\"bar\"}],\"name\":\"4\"},{\"data\":[{\"alignmentgroup\":\"True\",\"hovertemplate\":\"Actor Gender=M<br>n=5<br>=%{x}<br>Mean count in the summaries=%{y}<extra></extra>\",\"legendgroup\":\"M\",\"marker\":{\"color\":\"#636efa\",\"pattern\":{\"shape\":\"\"}},\"name\":\"M\",\"offsetgroup\":\"M\",\"orientation\":\"v\",\"showlegend\":true,\"textposition\":\"auto\",\"texttemplate\":\"%{y}\",\"x\":[\"M without F\",\"M with F\"],\"xaxis\":\"x\",\"y\":[9.078045350676744,1.5044383898751978],\"yaxis\":\"y\",\"type\":\"bar\"},{\"alignmentgroup\":\"True\",\"hovertemplate\":\"Actor Gender=F<br>n=5<br>=%{x}<br>Mean count in the summaries=%{y}<extra></extra>\",\"legendgroup\":\"F\",\"marker\":{\"color\":\"#EF553B\",\"pattern\":{\"shape\":\"\"}},\"name\":\"F\",\"offsetgroup\":\"F\",\"orientation\":\"v\",\"showlegend\":true,\"textposition\":\"auto\",\"texttemplate\":\"%{y}\",\"x\":[\"F without M\",\"F with M\"],\"xaxis\":\"x\",\"y\":[3.88767797503955,1.40573914571981],\"yaxis\":\"y\",\"type\":\"bar\"}],\"name\":\"5\"},{\"data\":[{\"alignmentgroup\":\"True\",\"hovertemplate\":\"Actor Gender=M<br>n=6<br>=%{x}<br>Mean count in the summaries=%{y}<extra></extra>\",\"legendgroup\":\"M\",\"marker\":{\"color\":\"#636efa\",\"pattern\":{\"shape\":\"\"}},\"name\":\"M\",\"offsetgroup\":\"M\",\"orientation\":\"v\",\"showlegend\":true,\"textposition\":\"auto\",\"texttemplate\":\"%{y}\",\"x\":[\"M without F\",\"M with F\"],\"xaxis\":\"x\",\"y\":[8.882668307259625,1.6998154332923183],\"yaxis\":\"y\",\"type\":\"bar\"},{\"alignmentgroup\":\"True\",\"hovertemplate\":\"Actor Gender=F<br>n=6<br>=%{x}<br>Mean count in the summaries=%{y}<extra></extra>\",\"legendgroup\":\"F\",\"marker\":{\"color\":\"#EF553B\",\"pattern\":{\"shape\":\"\"}},\"name\":\"F\",\"offsetgroup\":\"F\",\"orientation\":\"v\",\"showlegend\":true,\"textposition\":\"auto\",\"texttemplate\":\"%{y}\",\"x\":[\"F without M\",\"F with M\"],\"xaxis\":\"x\",\"y\":[3.7246440499209,1.5687730708384602],\"yaxis\":\"y\",\"type\":\"bar\"}],\"name\":\"6\"},{\"data\":[{\"alignmentgroup\":\"True\",\"hovertemplate\":\"Actor Gender=M<br>n=7<br>=%{x}<br>Mean count in the summaries=%{y}<extra></extra>\",\"legendgroup\":\"M\",\"marker\":{\"color\":\"#636efa\",\"pattern\":{\"shape\":\"\"}},\"name\":\"M\",\"offsetgroup\":\"M\",\"orientation\":\"v\",\"showlegend\":true,\"textposition\":\"auto\",\"texttemplate\":\"%{y}\",\"x\":[\"M without F\",\"M with F\"],\"xaxis\":\"x\",\"y\":[8.710449991211108,1.8720337493408328],\"yaxis\":\"y\",\"type\":\"bar\"},{\"alignmentgroup\":\"True\",\"hovertemplate\":\"Actor Gender=F<br>n=7<br>=%{x}<br>Mean count in the summaries=%{y}<extra></extra>\",\"legendgroup\":\"F\",\"marker\":{\"color\":\"#EF553B\",\"pattern\":{\"shape\":\"\"}},\"name\":\"F\",\"offsetgroup\":\"F\",\"orientation\":\"v\",\"showlegend\":true,\"textposition\":\"auto\",\"texttemplate\":\"%{y}\",\"x\":[\"F without M\",\"F with M\"],\"xaxis\":\"x\",\"y\":[3.584768852170856,1.708648268588504],\"yaxis\":\"y\",\"type\":\"bar\"}],\"name\":\"7\"},{\"data\":[{\"alignmentgroup\":\"True\",\"hovertemplate\":\"Actor Gender=M<br>n=8<br>=%{x}<br>Mean count in the summaries=%{y}<extra></extra>\",\"legendgroup\":\"M\",\"marker\":{\"color\":\"#636efa\",\"pattern\":{\"shape\":\"\"}},\"name\":\"M\",\"offsetgroup\":\"M\",\"orientation\":\"v\",\"showlegend\":true,\"textposition\":\"auto\",\"texttemplate\":\"%{y}\",\"x\":[\"M without F\",\"M with F\"],\"xaxis\":\"x\",\"y\":[8.558577957461768,2.023905783090174],\"yaxis\":\"y\",\"type\":\"bar\"},{\"alignmentgroup\":\"True\",\"hovertemplate\":\"Actor Gender=F<br>n=8<br>=%{x}<br>Mean count in the summaries=%{y}<extra></extra>\",\"legendgroup\":\"F\",\"marker\":{\"color\":\"#EF553B\",\"pattern\":{\"shape\":\"\"}},\"name\":\"F\",\"offsetgroup\":\"F\",\"orientation\":\"v\",\"showlegend\":true,\"textposition\":\"auto\",\"texttemplate\":\"%{y}\",\"x\":[\"F without M\",\"F with M\"],\"xaxis\":\"x\",\"y\":[3.463482158551591,1.8299349622077692],\"yaxis\":\"y\",\"type\":\"bar\"}],\"name\":\"8\"},{\"data\":[{\"alignmentgroup\":\"True\",\"hovertemplate\":\"Actor Gender=M<br>n=9<br>=%{x}<br>Mean count in the summaries=%{y}<extra></extra>\",\"legendgroup\":\"M\",\"marker\":{\"color\":\"#636efa\",\"pattern\":{\"shape\":\"\"}},\"name\":\"M\",\"offsetgroup\":\"M\",\"orientation\":\"v\",\"showlegend\":true,\"textposition\":\"auto\",\"texttemplate\":\"%{y}\",\"x\":[\"M without F\",\"M with F\"],\"xaxis\":\"x\",\"y\":[8.426305150290034,2.156178590261909],\"yaxis\":\"y\",\"type\":\"bar\"},{\"alignmentgroup\":\"True\",\"hovertemplate\":\"Actor Gender=F<br>n=9<br>=%{x}<br>Mean count in the summaries=%{y}<extra></extra>\",\"legendgroup\":\"F\",\"marker\":{\"color\":\"#EF553B\",\"pattern\":{\"shape\":\"\"}},\"name\":\"F\",\"offsetgroup\":\"F\",\"orientation\":\"v\",\"showlegend\":true,\"textposition\":\"auto\",\"texttemplate\":\"%{y}\",\"x\":[\"F without M\",\"F with M\"],\"xaxis\":\"x\",\"y\":[3.358367024081561,1.9350500966777997],\"yaxis\":\"y\",\"type\":\"bar\"}],\"name\":\"9\"},{\"data\":[{\"alignmentgroup\":\"True\",\"hovertemplate\":\"Actor Gender=M<br>n=10<br>=%{x}<br>Mean count in the summaries=%{y}<extra></extra>\",\"legendgroup\":\"M\",\"marker\":{\"color\":\"#636efa\",\"pattern\":{\"shape\":\"\"}},\"name\":\"M\",\"offsetgroup\":\"M\",\"orientation\":\"v\",\"showlegend\":true,\"textposition\":\"auto\",\"texttemplate\":\"%{y}\",\"x\":[\"M without F\",\"M with F\"],\"xaxis\":\"x\",\"y\":[8.311170680260151,2.2713130602917917],\"yaxis\":\"y\",\"type\":\"bar\"},{\"alignmentgroup\":\"True\",\"hovertemplate\":\"Actor Gender=F<br>n=10<br>=%{x}<br>Mean count in the summaries=%{y}<extra></extra>\",\"legendgroup\":\"F\",\"marker\":{\"color\":\"#EF553B\",\"pattern\":{\"shape\":\"\"}},\"name\":\"F\",\"offsetgroup\":\"F\",\"orientation\":\"v\",\"showlegend\":true,\"textposition\":\"auto\",\"texttemplate\":\"%{y}\",\"x\":[\"F without M\",\"F with M\"],\"xaxis\":\"x\",\"y\":[3.269994726665495,2.023422394093865],\"yaxis\":\"y\",\"type\":\"bar\"}],\"name\":\"10\"},{\"data\":[{\"alignmentgroup\":\"True\",\"hovertemplate\":\"Actor Gender=M<br>n=1000<br>=%{x}<br>Mean count in the summaries=%{y}<extra></extra>\",\"legendgroup\":\"M\",\"marker\":{\"color\":\"#636efa\",\"pattern\":{\"shape\":\"\"}},\"name\":\"M\",\"offsetgroup\":\"M\",\"orientation\":\"v\",\"showlegend\":true,\"textposition\":\"auto\",\"texttemplate\":\"%{y}\",\"x\":[\"M without F\",\"M with F\"],\"xaxis\":\"x\",\"y\":[7.594700298822288,2.9877834417296536],\"yaxis\":\"y\",\"type\":\"bar\"},{\"alignmentgroup\":\"True\",\"hovertemplate\":\"Actor Gender=F<br>n=1000<br>=%{x}<br>Mean count in the summaries=%{y}<extra></extra>\",\"legendgroup\":\"F\",\"marker\":{\"color\":\"#EF553B\",\"pattern\":{\"shape\":\"\"}},\"name\":\"F\",\"offsetgroup\":\"F\",\"orientation\":\"v\",\"showlegend\":true,\"textposition\":\"auto\",\"texttemplate\":\"%{y}\",\"x\":[\"F without M\",\"F with M\"],\"xaxis\":\"x\",\"y\":[2.7830462295658287,2.5103708911935314],\"yaxis\":\"y\",\"type\":\"bar\"}],\"name\":\"1000\"}]);\n",
       "                        }).then(function(){\n",
       "                            \n",
       "var gd = document.getElementById('0081d825-a049-495f-a851-0217f668e188');\n",
       "var x = new MutationObserver(function (mutations, observer) {{\n",
       "        var display = window.getComputedStyle(gd).display;\n",
       "        if (!display || display === 'none') {{\n",
       "            console.log([gd, 'removed!']);\n",
       "            Plotly.purge(gd);\n",
       "            observer.disconnect();\n",
       "        }}\n",
       "}});\n",
       "\n",
       "// Listen for the removal of the full notebook cells\n",
       "var notebookContainer = gd.closest('#notebook-container');\n",
       "if (notebookContainer) {{\n",
       "    x.observe(notebookContainer, {childList: true});\n",
       "}}\n",
       "\n",
       "// Listen for the clearing of the current output cell\n",
       "var outputEl = gd.closest('.output');\n",
       "if (outputEl) {{\n",
       "    x.observe(outputEl, {childList: true});\n",
       "}}\n",
       "\n",
       "                        })                };                });            </script>        </div>"
      ]
     },
     "metadata": {},
     "output_type": "display_data"
    }
   ],
   "source": [
    "# generate the plot\n",
    "fig = px.bar(\n",
    "    df_barplot_means,\n",
    "    x=\"type\",\n",
    "    y=\"count\",\n",
    "    color=\"sex\",\n",
    "    orientation=\"v\",\n",
    "    animation_frame=\"n\",\n",
    "    text_auto=True,\n",
    "    labels={\"type\": \"\",\n",
    "            \"count\": \"Mean count in the summaries\",\n",
    "            \"sex\": \"Actor Gender\"},\n",
    ")\n",
    "\n",
    "fig[\"layout\"].pop(\"updatemenus\")\n",
    "\n",
    "\n",
    "fig.update_layout(yaxis={\"range\":[0,df_barplot_means[\"count\"].max()*1.2]}, paper_bgcolor='rgba(0,0,0,0)',\n",
    "    plot_bgcolor='rgba(0,0,0,0)')\n"
   ]
  },
  {
   "cell_type": "code",
   "execution_count": 8,
   "id": "486d9f09",
   "metadata": {
    "scrolled": true
   },
   "outputs": [
    {
     "name": "stdout",
     "output_type": "stream",
     "text": [
      "Number of movies: 81741\n"
     ]
    },
    {
     "data": {
      "text/html": [
       "<div>\n",
       "<style scoped>\n",
       "    .dataframe tbody tr th:only-of-type {\n",
       "        vertical-align: middle;\n",
       "    }\n",
       "\n",
       "    .dataframe tbody tr th {\n",
       "        vertical-align: top;\n",
       "    }\n",
       "\n",
       "    .dataframe thead th {\n",
       "        text-align: right;\n",
       "    }\n",
       "</style>\n",
       "<table border=\"1\" class=\"dataframe\">\n",
       "  <thead>\n",
       "    <tr style=\"text-align: right;\">\n",
       "      <th></th>\n",
       "      <th>Wikipedia movie ID</th>\n",
       "      <th>Freebase movie ID</th>\n",
       "      <th>Movie name</th>\n",
       "      <th>Movie release date</th>\n",
       "      <th>Movie box office revenue</th>\n",
       "      <th>Movie runtime</th>\n",
       "      <th>Movie languages (Freebase ID:name tuples)</th>\n",
       "      <th>Movie countries (Freebase ID:name tuples)</th>\n",
       "      <th>Movie genres (Freebase ID:name tuples)</th>\n",
       "    </tr>\n",
       "  </thead>\n",
       "  <tbody>\n",
       "    <tr>\n",
       "      <th>0</th>\n",
       "      <td>975900</td>\n",
       "      <td>/m/03vyhn</td>\n",
       "      <td>Ghosts of Mars</td>\n",
       "      <td>2001-08-24</td>\n",
       "      <td>14010832.0</td>\n",
       "      <td>98.0</td>\n",
       "      <td>{\"/m/02h40lc\": \"English Language\"}</td>\n",
       "      <td>{\"/m/09c7w0\": \"United States of America\"}</td>\n",
       "      <td>{\"/m/01jfsb\": \"Thriller\", \"/m/06n90\": \"Science...</td>\n",
       "    </tr>\n",
       "    <tr>\n",
       "      <th>1</th>\n",
       "      <td>3196793</td>\n",
       "      <td>/m/08yl5d</td>\n",
       "      <td>Getting Away with Murder: The JonBenét Ramsey ...</td>\n",
       "      <td>2000-02-16</td>\n",
       "      <td>NaN</td>\n",
       "      <td>95.0</td>\n",
       "      <td>{\"/m/02h40lc\": \"English Language\"}</td>\n",
       "      <td>{\"/m/09c7w0\": \"United States of America\"}</td>\n",
       "      <td>{\"/m/02n4kr\": \"Mystery\", \"/m/03bxz7\": \"Biograp...</td>\n",
       "    </tr>\n",
       "  </tbody>\n",
       "</table>\n",
       "</div>"
      ],
      "text/plain": [
       "   Wikipedia movie ID Freebase movie ID  \\\n",
       "0              975900         /m/03vyhn   \n",
       "1             3196793         /m/08yl5d   \n",
       "\n",
       "                                          Movie name Movie release date  \\\n",
       "0                                     Ghosts of Mars         2001-08-24   \n",
       "1  Getting Away with Murder: The JonBenét Ramsey ...         2000-02-16   \n",
       "\n",
       "   Movie box office revenue  Movie runtime  \\\n",
       "0                14010832.0           98.0   \n",
       "1                       NaN           95.0   \n",
       "\n",
       "  Movie languages (Freebase ID:name tuples)  \\\n",
       "0        {\"/m/02h40lc\": \"English Language\"}   \n",
       "1        {\"/m/02h40lc\": \"English Language\"}   \n",
       "\n",
       "   Movie countries (Freebase ID:name tuples)  \\\n",
       "0  {\"/m/09c7w0\": \"United States of America\"}   \n",
       "1  {\"/m/09c7w0\": \"United States of America\"}   \n",
       "\n",
       "              Movie genres (Freebase ID:name tuples)  \n",
       "0  {\"/m/01jfsb\": \"Thriller\", \"/m/06n90\": \"Science...  \n",
       "1  {\"/m/02n4kr\": \"Mystery\", \"/m/03bxz7\": \"Biograp...  "
      ]
     },
     "execution_count": 8,
     "metadata": {},
     "output_type": "execute_result"
    }
   ],
   "source": [
    "# Movie metadata\n",
    "movie_md_cols = [\n",
    "'Wikipedia movie ID',\n",
    "'Freebase movie ID',\n",
    "'Movie name',\n",
    "'Movie release date',\n",
    "'Movie box office revenue',\n",
    "'Movie runtime',\n",
    "'Movie languages (Freebase ID:name tuples)',\n",
    "'Movie countries (Freebase ID:name tuples)',\n",
    "'Movie genres (Freebase ID:name tuples)',\n",
    "]\n",
    "movie_md = pd.read_csv('data/movie.metadata.tsv', sep='\\t', names=movie_md_cols)\n",
    "print('Number of movies:', movie_md.shape[0])\n",
    "movie_md.head(2)"
   ]
  },
  {
   "cell_type": "code",
   "execution_count": 9,
   "id": "03ac4f8f",
   "metadata": {},
   "outputs": [],
   "source": [
    "movie_md['Movie release year'] = pd.to_datetime(movie_md['Movie release date'], errors='coerce').dt.year"
   ]
  },
  {
   "cell_type": "code",
   "execution_count": 10,
   "id": "2eacf783",
   "metadata": {},
   "outputs": [
    {
     "data": {
      "text/html": [
       "<div>\n",
       "<style scoped>\n",
       "    .dataframe tbody tr th:only-of-type {\n",
       "        vertical-align: middle;\n",
       "    }\n",
       "\n",
       "    .dataframe tbody tr th {\n",
       "        vertical-align: top;\n",
       "    }\n",
       "\n",
       "    .dataframe thead th {\n",
       "        text-align: right;\n",
       "    }\n",
       "</style>\n",
       "<table border=\"1\" class=\"dataframe\">\n",
       "  <thead>\n",
       "    <tr style=\"text-align: right;\">\n",
       "      <th></th>\n",
       "      <th>Wikipedia movie ID</th>\n",
       "      <th>Freebase movie ID</th>\n",
       "      <th>Movie name</th>\n",
       "      <th>Movie release date</th>\n",
       "      <th>Movie box office revenue</th>\n",
       "      <th>Movie runtime</th>\n",
       "      <th>Movie languages (Freebase ID:name tuples)</th>\n",
       "      <th>Movie countries (Freebase ID:name tuples)</th>\n",
       "      <th>Movie genres (Freebase ID:name tuples)</th>\n",
       "      <th>Movie release year</th>\n",
       "    </tr>\n",
       "  </thead>\n",
       "  <tbody>\n",
       "    <tr>\n",
       "      <th>0</th>\n",
       "      <td>975900</td>\n",
       "      <td>/m/03vyhn</td>\n",
       "      <td>Ghosts of Mars</td>\n",
       "      <td>2001-08-24</td>\n",
       "      <td>14010832.0</td>\n",
       "      <td>98.0</td>\n",
       "      <td>{\"/m/02h40lc\": \"English Language\"}</td>\n",
       "      <td>{\"/m/09c7w0\": \"United States of America\"}</td>\n",
       "      <td>{\"/m/01jfsb\": \"Thriller\", \"/m/06n90\": \"Science...</td>\n",
       "      <td>2001.0</td>\n",
       "    </tr>\n",
       "    <tr>\n",
       "      <th>1</th>\n",
       "      <td>3196793</td>\n",
       "      <td>/m/08yl5d</td>\n",
       "      <td>Getting Away with Murder: The JonBenét Ramsey ...</td>\n",
       "      <td>2000-02-16</td>\n",
       "      <td>NaN</td>\n",
       "      <td>95.0</td>\n",
       "      <td>{\"/m/02h40lc\": \"English Language\"}</td>\n",
       "      <td>{\"/m/09c7w0\": \"United States of America\"}</td>\n",
       "      <td>{\"/m/02n4kr\": \"Mystery\", \"/m/03bxz7\": \"Biograp...</td>\n",
       "      <td>2000.0</td>\n",
       "    </tr>\n",
       "  </tbody>\n",
       "</table>\n",
       "</div>"
      ],
      "text/plain": [
       "   Wikipedia movie ID Freebase movie ID  \\\n",
       "0              975900         /m/03vyhn   \n",
       "1             3196793         /m/08yl5d   \n",
       "\n",
       "                                          Movie name Movie release date  \\\n",
       "0                                     Ghosts of Mars         2001-08-24   \n",
       "1  Getting Away with Murder: The JonBenét Ramsey ...         2000-02-16   \n",
       "\n",
       "   Movie box office revenue  Movie runtime  \\\n",
       "0                14010832.0           98.0   \n",
       "1                       NaN           95.0   \n",
       "\n",
       "  Movie languages (Freebase ID:name tuples)  \\\n",
       "0        {\"/m/02h40lc\": \"English Language\"}   \n",
       "1        {\"/m/02h40lc\": \"English Language\"}   \n",
       "\n",
       "   Movie countries (Freebase ID:name tuples)  \\\n",
       "0  {\"/m/09c7w0\": \"United States of America\"}   \n",
       "1  {\"/m/09c7w0\": \"United States of America\"}   \n",
       "\n",
       "              Movie genres (Freebase ID:name tuples)  Movie release year  \n",
       "0  {\"/m/01jfsb\": \"Thriller\", \"/m/06n90\": \"Science...              2001.0  \n",
       "1  {\"/m/02n4kr\": \"Mystery\", \"/m/03bxz7\": \"Biograp...              2000.0  "
      ]
     },
     "execution_count": 10,
     "metadata": {},
     "output_type": "execute_result"
    }
   ],
   "source": [
    "movie_md.head(2)"
   ]
  },
  {
   "cell_type": "code",
   "execution_count": 11,
   "id": "dec9072b",
   "metadata": {},
   "outputs": [],
   "source": [
    "# Format the movies table to see one genre per row\n",
    "def get_values_json(data):\n",
    "    data = json.loads(data)\n",
    "    values = \"\"\n",
    "    for key, value in data.items():\n",
    "        values += value + \",\"\n",
    "    return values[:-1]\n",
    "\n",
    "df_movie_genre = movie_md\n",
    "df_movie_genre['Movie genres (Freebase ID:name tuples)'] = movie_md['Movie genres (Freebase ID:name tuples)'].apply(lambda json: get_values_json(json))\n",
    "df_movie_genre['Movie genres (Freebase ID:name tuples)'] = df_movie_genre['Movie genres (Freebase ID:name tuples)'].str.split(',')\n",
    "df_movie_genre = movie_md.explode('Movie genres (Freebase ID:name tuples)')\n",
    "df_movie_genre = df_movie_genre[['Wikipedia movie ID', 'Movie genres (Freebase ID:name tuples)']]\n",
    "df_movie_genre = df_movie_genre.rename(columns={'Wikipedia movie ID':'wiki_id',\n",
    "                                                'Movie genres (Freebase ID:name tuples)':'genre'})"
   ]
  },
  {
   "cell_type": "code",
   "execution_count": 12,
   "id": "1b67cc86",
   "metadata": {},
   "outputs": [
    {
     "data": {
      "text/html": [
       "<div>\n",
       "<style scoped>\n",
       "    .dataframe tbody tr th:only-of-type {\n",
       "        vertical-align: middle;\n",
       "    }\n",
       "\n",
       "    .dataframe tbody tr th {\n",
       "        vertical-align: top;\n",
       "    }\n",
       "\n",
       "    .dataframe thead th {\n",
       "        text-align: right;\n",
       "    }\n",
       "</style>\n",
       "<table border=\"1\" class=\"dataframe\">\n",
       "  <thead>\n",
       "    <tr style=\"text-align: right;\">\n",
       "      <th></th>\n",
       "      <th>wiki_id</th>\n",
       "      <th>genre</th>\n",
       "    </tr>\n",
       "  </thead>\n",
       "  <tbody>\n",
       "    <tr>\n",
       "      <th>0</th>\n",
       "      <td>975900</td>\n",
       "      <td>Thriller</td>\n",
       "    </tr>\n",
       "    <tr>\n",
       "      <th>0</th>\n",
       "      <td>975900</td>\n",
       "      <td>Science Fiction</td>\n",
       "    </tr>\n",
       "  </tbody>\n",
       "</table>\n",
       "</div>"
      ],
      "text/plain": [
       "   wiki_id            genre\n",
       "0   975900         Thriller\n",
       "0   975900  Science Fiction"
      ]
     },
     "execution_count": 12,
     "metadata": {},
     "output_type": "execute_result"
    }
   ],
   "source": [
    "df_movie_genre.head(2)"
   ]
  },
  {
   "cell_type": "code",
   "execution_count": 13,
   "id": "11c4ce25",
   "metadata": {},
   "outputs": [],
   "source": [
    "genre_occurences = df_movie_genre['genre'].value_counts()\n",
    "# Resets the index and renames the columns\n",
    "genre_occurences = genre_occurences.to_frame().reset_index().rename(columns={'genre':'count', 'index':'genre'})"
   ]
  },
  {
   "cell_type": "code",
   "execution_count": 14,
   "id": "a743bba9",
   "metadata": {},
   "outputs": [
    {
     "data": {
      "text/html": [
       "<div>\n",
       "<style scoped>\n",
       "    .dataframe tbody tr th:only-of-type {\n",
       "        vertical-align: middle;\n",
       "    }\n",
       "\n",
       "    .dataframe tbody tr th {\n",
       "        vertical-align: top;\n",
       "    }\n",
       "\n",
       "    .dataframe thead th {\n",
       "        text-align: right;\n",
       "    }\n",
       "</style>\n",
       "<table border=\"1\" class=\"dataframe\">\n",
       "  <thead>\n",
       "    <tr style=\"text-align: right;\">\n",
       "      <th></th>\n",
       "      <th>genre</th>\n",
       "      <th>count</th>\n",
       "    </tr>\n",
       "  </thead>\n",
       "  <tbody>\n",
       "    <tr>\n",
       "      <th>0</th>\n",
       "      <td>Drama</td>\n",
       "      <td>34007</td>\n",
       "    </tr>\n",
       "    <tr>\n",
       "      <th>1</th>\n",
       "      <td>Comedy</td>\n",
       "      <td>16349</td>\n",
       "    </tr>\n",
       "    <tr>\n",
       "      <th>2</th>\n",
       "      <td>Romance Film</td>\n",
       "      <td>10234</td>\n",
       "    </tr>\n",
       "    <tr>\n",
       "      <th>3</th>\n",
       "      <td>Black-and-white</td>\n",
       "      <td>9094</td>\n",
       "    </tr>\n",
       "    <tr>\n",
       "      <th>4</th>\n",
       "      <td>Action</td>\n",
       "      <td>8798</td>\n",
       "    </tr>\n",
       "    <tr>\n",
       "      <th>...</th>\n",
       "      <td>...</td>\n",
       "      <td>...</td>\n",
       "    </tr>\n",
       "    <tr>\n",
       "      <th>359</th>\n",
       "      <td>Romantic thriller</td>\n",
       "      <td>1</td>\n",
       "    </tr>\n",
       "    <tr>\n",
       "      <th>360</th>\n",
       "      <td>Comdedy</td>\n",
       "      <td>1</td>\n",
       "    </tr>\n",
       "    <tr>\n",
       "      <th>361</th>\n",
       "      <td>C-Movie</td>\n",
       "      <td>1</td>\n",
       "    </tr>\n",
       "    <tr>\n",
       "      <th>362</th>\n",
       "      <td>Silhouette animation</td>\n",
       "      <td>1</td>\n",
       "    </tr>\n",
       "    <tr>\n",
       "      <th>363</th>\n",
       "      <td>Homoeroticism</td>\n",
       "      <td>1</td>\n",
       "    </tr>\n",
       "  </tbody>\n",
       "</table>\n",
       "<p>364 rows × 2 columns</p>\n",
       "</div>"
      ],
      "text/plain": [
       "                    genre  count\n",
       "0                   Drama  34007\n",
       "1                  Comedy  16349\n",
       "2            Romance Film  10234\n",
       "3         Black-and-white   9094\n",
       "4                  Action   8798\n",
       "..                    ...    ...\n",
       "359     Romantic thriller      1\n",
       "360               Comdedy      1\n",
       "361               C-Movie      1\n",
       "362  Silhouette animation      1\n",
       "363         Homoeroticism      1\n",
       "\n",
       "[364 rows x 2 columns]"
      ]
     },
     "execution_count": 14,
     "metadata": {},
     "output_type": "execute_result"
    }
   ],
   "source": [
    "genre_occurences"
   ]
  },
  {
   "cell_type": "code",
   "execution_count": 15,
   "id": "f4621c08",
   "metadata": {},
   "outputs": [
    {
     "data": {
      "text/html": [
       "<div>\n",
       "<style scoped>\n",
       "    .dataframe tbody tr th:only-of-type {\n",
       "        vertical-align: middle;\n",
       "    }\n",
       "\n",
       "    .dataframe tbody tr th {\n",
       "        vertical-align: top;\n",
       "    }\n",
       "\n",
       "    .dataframe thead th {\n",
       "        text-align: right;\n",
       "    }\n",
       "</style>\n",
       "<table border=\"1\" class=\"dataframe\">\n",
       "  <thead>\n",
       "    <tr style=\"text-align: right;\">\n",
       "      <th></th>\n",
       "      <th>wiki_id</th>\n",
       "      <th>total_M_2</th>\n",
       "      <th>total_F_2</th>\n",
       "      <th>c_o_M_2</th>\n",
       "      <th>c_o_F_2</th>\n",
       "      <th>pure_M_2</th>\n",
       "      <th>pure_F_2</th>\n",
       "      <th>total_M_3</th>\n",
       "      <th>total_F_3</th>\n",
       "      <th>c_o_M_3</th>\n",
       "      <th>...</th>\n",
       "      <th>c_o_M_10</th>\n",
       "      <th>c_o_F_10</th>\n",
       "      <th>pure_M_10</th>\n",
       "      <th>pure_F_10</th>\n",
       "      <th>total_M_sent</th>\n",
       "      <th>total_F_sent</th>\n",
       "      <th>c_o_M_sent</th>\n",
       "      <th>c_o_F_sent</th>\n",
       "      <th>pure_M_sent</th>\n",
       "      <th>pure_F_sent</th>\n",
       "    </tr>\n",
       "  </thead>\n",
       "  <tbody>\n",
       "    <tr>\n",
       "      <th>0</th>\n",
       "      <td>21487047</td>\n",
       "      <td>2.000000</td>\n",
       "      <td>5.000000</td>\n",
       "      <td>2.000000</td>\n",
       "      <td>2.000000</td>\n",
       "      <td>0.000000</td>\n",
       "      <td>3.000000</td>\n",
       "      <td>2.000000</td>\n",
       "      <td>5.000000</td>\n",
       "      <td>2.000000</td>\n",
       "      <td>...</td>\n",
       "      <td>2.000000</td>\n",
       "      <td>2.000000</td>\n",
       "      <td>0.000000</td>\n",
       "      <td>3.000000</td>\n",
       "      <td>2.000000</td>\n",
       "      <td>5.000000</td>\n",
       "      <td>2.000000</td>\n",
       "      <td>2.000000</td>\n",
       "      <td>0.0000</td>\n",
       "      <td>3.000000</td>\n",
       "    </tr>\n",
       "    <tr>\n",
       "      <th>1</th>\n",
       "      <td>15930359</td>\n",
       "      <td>40.000000</td>\n",
       "      <td>10.000000</td>\n",
       "      <td>0.000000</td>\n",
       "      <td>0.000000</td>\n",
       "      <td>40.000000</td>\n",
       "      <td>10.000000</td>\n",
       "      <td>40.000000</td>\n",
       "      <td>10.000000</td>\n",
       "      <td>0.000000</td>\n",
       "      <td>...</td>\n",
       "      <td>4.000000</td>\n",
       "      <td>3.000000</td>\n",
       "      <td>36.000000</td>\n",
       "      <td>7.000000</td>\n",
       "      <td>40.000000</td>\n",
       "      <td>10.000000</td>\n",
       "      <td>9.000000</td>\n",
       "      <td>7.000000</td>\n",
       "      <td>31.0000</td>\n",
       "      <td>3.000000</td>\n",
       "    </tr>\n",
       "    <tr>\n",
       "      <th>2</th>\n",
       "      <td>26968376</td>\n",
       "      <td>10.000000</td>\n",
       "      <td>0.000000</td>\n",
       "      <td>0.000000</td>\n",
       "      <td>0.000000</td>\n",
       "      <td>10.000000</td>\n",
       "      <td>0.000000</td>\n",
       "      <td>10.000000</td>\n",
       "      <td>0.000000</td>\n",
       "      <td>0.000000</td>\n",
       "      <td>...</td>\n",
       "      <td>0.000000</td>\n",
       "      <td>0.000000</td>\n",
       "      <td>10.000000</td>\n",
       "      <td>0.000000</td>\n",
       "      <td>10.000000</td>\n",
       "      <td>0.000000</td>\n",
       "      <td>0.000000</td>\n",
       "      <td>0.000000</td>\n",
       "      <td>10.0000</td>\n",
       "      <td>0.000000</td>\n",
       "    </tr>\n",
       "    <tr>\n",
       "      <th>3</th>\n",
       "      <td>24426458</td>\n",
       "      <td>1.000000</td>\n",
       "      <td>0.000000</td>\n",
       "      <td>0.000000</td>\n",
       "      <td>0.000000</td>\n",
       "      <td>1.000000</td>\n",
       "      <td>0.000000</td>\n",
       "      <td>1.000000</td>\n",
       "      <td>0.000000</td>\n",
       "      <td>0.000000</td>\n",
       "      <td>...</td>\n",
       "      <td>0.000000</td>\n",
       "      <td>0.000000</td>\n",
       "      <td>1.000000</td>\n",
       "      <td>0.000000</td>\n",
       "      <td>1.000000</td>\n",
       "      <td>0.000000</td>\n",
       "      <td>0.000000</td>\n",
       "      <td>0.000000</td>\n",
       "      <td>1.0000</td>\n",
       "      <td>0.000000</td>\n",
       "    </tr>\n",
       "    <tr>\n",
       "      <th>4</th>\n",
       "      <td>1470989</td>\n",
       "      <td>25.000000</td>\n",
       "      <td>5.000000</td>\n",
       "      <td>3.000000</td>\n",
       "      <td>2.000000</td>\n",
       "      <td>22.000000</td>\n",
       "      <td>3.000000</td>\n",
       "      <td>25.000000</td>\n",
       "      <td>5.000000</td>\n",
       "      <td>3.000000</td>\n",
       "      <td>...</td>\n",
       "      <td>6.000000</td>\n",
       "      <td>4.000000</td>\n",
       "      <td>19.000000</td>\n",
       "      <td>1.000000</td>\n",
       "      <td>25.000000</td>\n",
       "      <td>5.000000</td>\n",
       "      <td>8.000000</td>\n",
       "      <td>4.000000</td>\n",
       "      <td>17.0000</td>\n",
       "      <td>1.000000</td>\n",
       "    </tr>\n",
       "    <tr>\n",
       "      <th>...</th>\n",
       "      <td>...</td>\n",
       "      <td>...</td>\n",
       "      <td>...</td>\n",
       "      <td>...</td>\n",
       "      <td>...</td>\n",
       "      <td>...</td>\n",
       "      <td>...</td>\n",
       "      <td>...</td>\n",
       "      <td>...</td>\n",
       "      <td>...</td>\n",
       "      <td>...</td>\n",
       "      <td>...</td>\n",
       "      <td>...</td>\n",
       "      <td>...</td>\n",
       "      <td>...</td>\n",
       "      <td>...</td>\n",
       "      <td>...</td>\n",
       "      <td>...</td>\n",
       "      <td>...</td>\n",
       "      <td>...</td>\n",
       "      <td>...</td>\n",
       "    </tr>\n",
       "    <tr>\n",
       "      <th>22752</th>\n",
       "      <td>16718585</td>\n",
       "      <td>67.000000</td>\n",
       "      <td>0.000000</td>\n",
       "      <td>0.000000</td>\n",
       "      <td>0.000000</td>\n",
       "      <td>67.000000</td>\n",
       "      <td>0.000000</td>\n",
       "      <td>67.000000</td>\n",
       "      <td>0.000000</td>\n",
       "      <td>0.000000</td>\n",
       "      <td>...</td>\n",
       "      <td>0.000000</td>\n",
       "      <td>0.000000</td>\n",
       "      <td>67.000000</td>\n",
       "      <td>0.000000</td>\n",
       "      <td>67.000000</td>\n",
       "      <td>0.000000</td>\n",
       "      <td>0.000000</td>\n",
       "      <td>0.000000</td>\n",
       "      <td>67.0000</td>\n",
       "      <td>0.000000</td>\n",
       "    </tr>\n",
       "    <tr>\n",
       "      <th>22753</th>\n",
       "      <td>15533528</td>\n",
       "      <td>1.000000</td>\n",
       "      <td>0.000000</td>\n",
       "      <td>0.000000</td>\n",
       "      <td>0.000000</td>\n",
       "      <td>1.000000</td>\n",
       "      <td>0.000000</td>\n",
       "      <td>1.000000</td>\n",
       "      <td>0.000000</td>\n",
       "      <td>0.000000</td>\n",
       "      <td>...</td>\n",
       "      <td>0.000000</td>\n",
       "      <td>0.000000</td>\n",
       "      <td>1.000000</td>\n",
       "      <td>0.000000</td>\n",
       "      <td>1.000000</td>\n",
       "      <td>0.000000</td>\n",
       "      <td>0.000000</td>\n",
       "      <td>0.000000</td>\n",
       "      <td>1.0000</td>\n",
       "      <td>0.000000</td>\n",
       "    </tr>\n",
       "    <tr>\n",
       "      <th>22754</th>\n",
       "      <td>15290864</td>\n",
       "      <td>3.000000</td>\n",
       "      <td>0.000000</td>\n",
       "      <td>0.000000</td>\n",
       "      <td>0.000000</td>\n",
       "      <td>3.000000</td>\n",
       "      <td>0.000000</td>\n",
       "      <td>3.000000</td>\n",
       "      <td>0.000000</td>\n",
       "      <td>0.000000</td>\n",
       "      <td>...</td>\n",
       "      <td>0.000000</td>\n",
       "      <td>0.000000</td>\n",
       "      <td>3.000000</td>\n",
       "      <td>0.000000</td>\n",
       "      <td>3.000000</td>\n",
       "      <td>0.000000</td>\n",
       "      <td>0.000000</td>\n",
       "      <td>0.000000</td>\n",
       "      <td>3.0000</td>\n",
       "      <td>0.000000</td>\n",
       "    </tr>\n",
       "    <tr>\n",
       "      <th>22755</th>\n",
       "      <td>5787216</td>\n",
       "      <td>30.000000</td>\n",
       "      <td>1.000000</td>\n",
       "      <td>0.000000</td>\n",
       "      <td>0.000000</td>\n",
       "      <td>30.000000</td>\n",
       "      <td>1.000000</td>\n",
       "      <td>30.000000</td>\n",
       "      <td>1.000000</td>\n",
       "      <td>0.000000</td>\n",
       "      <td>...</td>\n",
       "      <td>1.000000</td>\n",
       "      <td>1.000000</td>\n",
       "      <td>29.000000</td>\n",
       "      <td>0.000000</td>\n",
       "      <td>30.000000</td>\n",
       "      <td>1.000000</td>\n",
       "      <td>1.000000</td>\n",
       "      <td>1.000000</td>\n",
       "      <td>29.0000</td>\n",
       "      <td>0.000000</td>\n",
       "    </tr>\n",
       "    <tr>\n",
       "      <th>22756</th>\n",
       "      <td>means</td>\n",
       "      <td>10.582484</td>\n",
       "      <td>5.293417</td>\n",
       "      <td>0.785156</td>\n",
       "      <td>0.762788</td>\n",
       "      <td>9.797328</td>\n",
       "      <td>4.530629</td>\n",
       "      <td>10.582484</td>\n",
       "      <td>5.293417</td>\n",
       "      <td>1.037704</td>\n",
       "      <td>...</td>\n",
       "      <td>2.271313</td>\n",
       "      <td>2.023422</td>\n",
       "      <td>8.311171</td>\n",
       "      <td>3.269995</td>\n",
       "      <td>10.582484</td>\n",
       "      <td>5.293417</td>\n",
       "      <td>2.987783</td>\n",
       "      <td>2.510371</td>\n",
       "      <td>7.5947</td>\n",
       "      <td>2.783046</td>\n",
       "    </tr>\n",
       "  </tbody>\n",
       "</table>\n",
       "<p>22757 rows × 61 columns</p>\n",
       "</div>"
      ],
      "text/plain": [
       "        wiki_id  total_M_2  total_F_2   c_o_M_2   c_o_F_2   pure_M_2  \\\n",
       "0      21487047   2.000000   5.000000  2.000000  2.000000   0.000000   \n",
       "1      15930359  40.000000  10.000000  0.000000  0.000000  40.000000   \n",
       "2      26968376  10.000000   0.000000  0.000000  0.000000  10.000000   \n",
       "3      24426458   1.000000   0.000000  0.000000  0.000000   1.000000   \n",
       "4       1470989  25.000000   5.000000  3.000000  2.000000  22.000000   \n",
       "...         ...        ...        ...       ...       ...        ...   \n",
       "22752  16718585  67.000000   0.000000  0.000000  0.000000  67.000000   \n",
       "22753  15533528   1.000000   0.000000  0.000000  0.000000   1.000000   \n",
       "22754  15290864   3.000000   0.000000  0.000000  0.000000   3.000000   \n",
       "22755   5787216  30.000000   1.000000  0.000000  0.000000  30.000000   \n",
       "22756     means  10.582484   5.293417  0.785156  0.762788   9.797328   \n",
       "\n",
       "        pure_F_2  total_M_3  total_F_3   c_o_M_3  ...  c_o_M_10  c_o_F_10  \\\n",
       "0       3.000000   2.000000   5.000000  2.000000  ...  2.000000  2.000000   \n",
       "1      10.000000  40.000000  10.000000  0.000000  ...  4.000000  3.000000   \n",
       "2       0.000000  10.000000   0.000000  0.000000  ...  0.000000  0.000000   \n",
       "3       0.000000   1.000000   0.000000  0.000000  ...  0.000000  0.000000   \n",
       "4       3.000000  25.000000   5.000000  3.000000  ...  6.000000  4.000000   \n",
       "...          ...        ...        ...       ...  ...       ...       ...   \n",
       "22752   0.000000  67.000000   0.000000  0.000000  ...  0.000000  0.000000   \n",
       "22753   0.000000   1.000000   0.000000  0.000000  ...  0.000000  0.000000   \n",
       "22754   0.000000   3.000000   0.000000  0.000000  ...  0.000000  0.000000   \n",
       "22755   1.000000  30.000000   1.000000  0.000000  ...  1.000000  1.000000   \n",
       "22756   4.530629  10.582484   5.293417  1.037704  ...  2.271313  2.023422   \n",
       "\n",
       "       pure_M_10  pure_F_10  total_M_sent  total_F_sent  c_o_M_sent  \\\n",
       "0       0.000000   3.000000      2.000000      5.000000    2.000000   \n",
       "1      36.000000   7.000000     40.000000     10.000000    9.000000   \n",
       "2      10.000000   0.000000     10.000000      0.000000    0.000000   \n",
       "3       1.000000   0.000000      1.000000      0.000000    0.000000   \n",
       "4      19.000000   1.000000     25.000000      5.000000    8.000000   \n",
       "...          ...        ...           ...           ...         ...   \n",
       "22752  67.000000   0.000000     67.000000      0.000000    0.000000   \n",
       "22753   1.000000   0.000000      1.000000      0.000000    0.000000   \n",
       "22754   3.000000   0.000000      3.000000      0.000000    0.000000   \n",
       "22755  29.000000   0.000000     30.000000      1.000000    1.000000   \n",
       "22756   8.311171   3.269995     10.582484      5.293417    2.987783   \n",
       "\n",
       "       c_o_F_sent  pure_M_sent  pure_F_sent  \n",
       "0        2.000000       0.0000     3.000000  \n",
       "1        7.000000      31.0000     3.000000  \n",
       "2        0.000000      10.0000     0.000000  \n",
       "3        0.000000       1.0000     0.000000  \n",
       "4        4.000000      17.0000     1.000000  \n",
       "...           ...          ...          ...  \n",
       "22752    0.000000      67.0000     0.000000  \n",
       "22753    0.000000       1.0000     0.000000  \n",
       "22754    0.000000       3.0000     0.000000  \n",
       "22755    1.000000      29.0000     0.000000  \n",
       "22756    2.510371       7.5947     2.783046  \n",
       "\n",
       "[22757 rows x 61 columns]"
      ]
     },
     "execution_count": 15,
     "metadata": {},
     "output_type": "execute_result"
    }
   ],
   "source": [
    "m_f_counts"
   ]
  },
  {
   "cell_type": "code",
   "execution_count": 16,
   "id": "9b00264d",
   "metadata": {},
   "outputs": [
    {
     "data": {
      "text/html": [
       "<div>\n",
       "<style scoped>\n",
       "    .dataframe tbody tr th:only-of-type {\n",
       "        vertical-align: middle;\n",
       "    }\n",
       "\n",
       "    .dataframe tbody tr th {\n",
       "        vertical-align: top;\n",
       "    }\n",
       "\n",
       "    .dataframe thead th {\n",
       "        text-align: right;\n",
       "    }\n",
       "</style>\n",
       "<table border=\"1\" class=\"dataframe\">\n",
       "  <thead>\n",
       "    <tr style=\"text-align: right;\">\n",
       "      <th></th>\n",
       "      <th>genre</th>\n",
       "      <th>M</th>\n",
       "      <th>F</th>\n",
       "    </tr>\n",
       "  </thead>\n",
       "  <tbody>\n",
       "    <tr>\n",
       "      <th>0</th>\n",
       "      <td>Thriller</td>\n",
       "      <td>8.0</td>\n",
       "      <td>10.0</td>\n",
       "    </tr>\n",
       "    <tr>\n",
       "      <th>0</th>\n",
       "      <td>Science Fiction</td>\n",
       "      <td>8.0</td>\n",
       "      <td>10.0</td>\n",
       "    </tr>\n",
       "  </tbody>\n",
       "</table>\n",
       "</div>"
      ],
      "text/plain": [
       "             genre    M     F\n",
       "0         Thriller  8.0  10.0\n",
       "0  Science Fiction  8.0  10.0"
      ]
     },
     "execution_count": 16,
     "metadata": {},
     "output_type": "execute_result"
    }
   ],
   "source": [
    "df_summary_genre = df_movie_genre.join(m_f_counts[['wiki_id', 'total_M_2', 'total_F_2']].set_index('wiki_id'), on='wiki_id').dropna()\n",
    "df_summary_genre = df_summary_genre[['genre', 'total_M_2', 'total_F_2']].rename(columns={'total_M_2': 'M', 'total_F_2':'F'})\n",
    "df_summary_genre.head(2)"
   ]
  },
  {
   "cell_type": "code",
   "execution_count": 17,
   "id": "9b1a7c1a",
   "metadata": {},
   "outputs": [
    {
     "data": {
      "text/html": [
       "<div>\n",
       "<style scoped>\n",
       "    .dataframe tbody tr th:only-of-type {\n",
       "        vertical-align: middle;\n",
       "    }\n",
       "\n",
       "    .dataframe tbody tr th {\n",
       "        vertical-align: top;\n",
       "    }\n",
       "\n",
       "    .dataframe thead th {\n",
       "        text-align: right;\n",
       "    }\n",
       "</style>\n",
       "<table border=\"1\" class=\"dataframe\">\n",
       "  <thead>\n",
       "    <tr style=\"text-align: right;\">\n",
       "      <th></th>\n",
       "      <th>genre</th>\n",
       "      <th>M</th>\n",
       "      <th>F</th>\n",
       "      <th>F_ratio</th>\n",
       "    </tr>\n",
       "  </thead>\n",
       "  <tbody>\n",
       "    <tr>\n",
       "      <th>316</th>\n",
       "      <td>Travel</td>\n",
       "      <td>0.0</td>\n",
       "      <td>2.000000</td>\n",
       "      <td>1.0</td>\n",
       "    </tr>\n",
       "    <tr>\n",
       "      <th>129</th>\n",
       "      <td>Family &amp; Personal Relationships</td>\n",
       "      <td>0.0</td>\n",
       "      <td>3.000000</td>\n",
       "      <td>1.0</td>\n",
       "    </tr>\n",
       "    <tr>\n",
       "      <th>192</th>\n",
       "      <td>Law &amp; Crime</td>\n",
       "      <td>0.0</td>\n",
       "      <td>5.500000</td>\n",
       "      <td>1.0</td>\n",
       "    </tr>\n",
       "    <tr>\n",
       "      <th>142</th>\n",
       "      <td>Filipino</td>\n",
       "      <td>0.0</td>\n",
       "      <td>8.333333</td>\n",
       "      <td>1.0</td>\n",
       "    </tr>\n",
       "    <tr>\n",
       "      <th>225</th>\n",
       "      <td>Operetta</td>\n",
       "      <td>0.0</td>\n",
       "      <td>1.500000</td>\n",
       "      <td>1.0</td>\n",
       "    </tr>\n",
       "    <tr>\n",
       "      <th>312</th>\n",
       "      <td>Tokusatsu</td>\n",
       "      <td>0.0</td>\n",
       "      <td>2.000000</td>\n",
       "      <td>1.0</td>\n",
       "    </tr>\n",
       "    <tr>\n",
       "      <th>268</th>\n",
       "      <td>Sci Fi Pictures original films</td>\n",
       "      <td>0.0</td>\n",
       "      <td>17.000000</td>\n",
       "      <td>1.0</td>\n",
       "    </tr>\n",
       "    <tr>\n",
       "      <th>147</th>\n",
       "      <td>Filmed Play</td>\n",
       "      <td>0.0</td>\n",
       "      <td>1.000000</td>\n",
       "      <td>1.0</td>\n",
       "    </tr>\n",
       "    <tr>\n",
       "      <th>240</th>\n",
       "      <td>Pornography</td>\n",
       "      <td>0.0</td>\n",
       "      <td>9.000000</td>\n",
       "      <td>1.0</td>\n",
       "    </tr>\n",
       "    <tr>\n",
       "      <th>318</th>\n",
       "      <td>War effort</td>\n",
       "      <td>0.0</td>\n",
       "      <td>13.000000</td>\n",
       "      <td>1.0</td>\n",
       "    </tr>\n",
       "  </tbody>\n",
       "</table>\n",
       "</div>"
      ],
      "text/plain": [
       "                               genre    M          F  F_ratio\n",
       "316                           Travel  0.0   2.000000      1.0\n",
       "129  Family & Personal Relationships  0.0   3.000000      1.0\n",
       "192                      Law & Crime  0.0   5.500000      1.0\n",
       "142                         Filipino  0.0   8.333333      1.0\n",
       "225                         Operetta  0.0   1.500000      1.0\n",
       "312                        Tokusatsu  0.0   2.000000      1.0\n",
       "268   Sci Fi Pictures original films  0.0  17.000000      1.0\n",
       "147                      Filmed Play  0.0   1.000000      1.0\n",
       "240                      Pornography  0.0   9.000000      1.0\n",
       "318                       War effort  0.0  13.000000      1.0"
      ]
     },
     "execution_count": 17,
     "metadata": {},
     "output_type": "execute_result"
    }
   ],
   "source": [
    "df_genre_means = df_summary_genre.groupby('genre').mean().reset_index()\n",
    "# Computes the % of women\n",
    "df_genre_means['F_ratio'] = df_genre_means['F']/(df_genre_means['F']+df_genre_means['M'])\n",
    "# Remove unsignificant results with 0 and 0 in M and F\n",
    "df_genre_means = df_genre_means[(df_genre_means.M+df_genre_means.F != 0)]\n",
    "# Sorts by decreasing women representation\n",
    "df_genre_means = df_genre_means.sort_values(by='F_ratio', ascending=False)\n",
    "df_genre_means.head(10)"
   ]
  },
  {
   "cell_type": "code",
   "execution_count": 18,
   "id": "978753ec",
   "metadata": {},
   "outputs": [],
   "source": [
    "#Joins with genre occurences\n",
    "df_genre_means = df_genre_means.merge(genre_occurences, on='genre').dropna()\n",
    "# Drops values <= 100\n",
    "df_genre_means = df_genre_means[df_genre_means['count'] >= 100]\n",
    "\n",
    "df_genre_means['F_ratio'] = df_genre_means['F_ratio']*100"
   ]
  },
  {
   "cell_type": "code",
   "execution_count": 19,
   "id": "0d9f36c2",
   "metadata": {},
   "outputs": [],
   "source": [
    "best_5_genre_summaries = df_genre_means.head(5)[['genre', 'F_ratio']]\n",
    "worst_5_genre_summaries = df_genre_means.tail(5)[['genre', 'F_ratio']]"
   ]
  },
  {
   "cell_type": "code",
   "execution_count": 20,
   "id": "cab5003e",
   "metadata": {},
   "outputs": [
    {
     "data": {
      "text/html": [
       "<div>\n",
       "<style scoped>\n",
       "    .dataframe tbody tr th:only-of-type {\n",
       "        vertical-align: middle;\n",
       "    }\n",
       "\n",
       "    .dataframe tbody tr th {\n",
       "        vertical-align: top;\n",
       "    }\n",
       "\n",
       "    .dataframe thead th {\n",
       "        text-align: right;\n",
       "    }\n",
       "</style>\n",
       "<table border=\"1\" class=\"dataframe\">\n",
       "  <thead>\n",
       "    <tr style=\"text-align: right;\">\n",
       "      <th></th>\n",
       "      <th>genre</th>\n",
       "      <th>F_ratio</th>\n",
       "    </tr>\n",
       "  </thead>\n",
       "  <tbody>\n",
       "    <tr>\n",
       "      <th>12</th>\n",
       "      <td>Social issues</td>\n",
       "      <td>83.333333</td>\n",
       "    </tr>\n",
       "    <tr>\n",
       "      <th>19</th>\n",
       "      <td>Pornographic movie</td>\n",
       "      <td>74.074074</td>\n",
       "    </tr>\n",
       "    <tr>\n",
       "      <th>21</th>\n",
       "      <td>Sexploitation</td>\n",
       "      <td>68.085106</td>\n",
       "    </tr>\n",
       "    <tr>\n",
       "      <th>22</th>\n",
       "      <td>Filipino Movies</td>\n",
       "      <td>67.717996</td>\n",
       "    </tr>\n",
       "    <tr>\n",
       "      <th>26</th>\n",
       "      <td>Culture &amp; Society</td>\n",
       "      <td>64.285714</td>\n",
       "    </tr>\n",
       "  </tbody>\n",
       "</table>\n",
       "</div>"
      ],
      "text/plain": [
       "                 genre    F_ratio\n",
       "12       Social issues  83.333333\n",
       "19  Pornographic movie  74.074074\n",
       "21       Sexploitation  68.085106\n",
       "22     Filipino Movies  67.717996\n",
       "26   Culture & Society  64.285714"
      ]
     },
     "execution_count": 20,
     "metadata": {},
     "output_type": "execute_result"
    }
   ],
   "source": [
    "best_5_genre_summaries"
   ]
  },
  {
   "cell_type": "code",
   "execution_count": 21,
   "id": "743bf20e",
   "metadata": {},
   "outputs": [
    {
     "data": {
      "text/html": [
       "<div>\n",
       "<style scoped>\n",
       "    .dataframe tbody tr th:only-of-type {\n",
       "        vertical-align: middle;\n",
       "    }\n",
       "\n",
       "    .dataframe tbody tr th {\n",
       "        vertical-align: top;\n",
       "    }\n",
       "\n",
       "    .dataframe thead th {\n",
       "        text-align: right;\n",
       "    }\n",
       "</style>\n",
       "<table border=\"1\" class=\"dataframe\">\n",
       "  <thead>\n",
       "    <tr style=\"text-align: right;\">\n",
       "      <th></th>\n",
       "      <th>genre</th>\n",
       "      <th>F_ratio</th>\n",
       "    </tr>\n",
       "  </thead>\n",
       "  <tbody>\n",
       "    <tr>\n",
       "      <th>277</th>\n",
       "      <td>Prison</td>\n",
       "      <td>13.750000</td>\n",
       "    </tr>\n",
       "    <tr>\n",
       "      <th>278</th>\n",
       "      <td>Historical Epic</td>\n",
       "      <td>13.209393</td>\n",
       "    </tr>\n",
       "    <tr>\n",
       "      <th>280</th>\n",
       "      <td>Short Film</td>\n",
       "      <td>13.023583</td>\n",
       "    </tr>\n",
       "    <tr>\n",
       "      <th>281</th>\n",
       "      <td>Historical drama</td>\n",
       "      <td>12.326044</td>\n",
       "    </tr>\n",
       "    <tr>\n",
       "      <th>285</th>\n",
       "      <td>Propaganda film</td>\n",
       "      <td>10.948905</td>\n",
       "    </tr>\n",
       "  </tbody>\n",
       "</table>\n",
       "</div>"
      ],
      "text/plain": [
       "                genre    F_ratio\n",
       "277            Prison  13.750000\n",
       "278   Historical Epic  13.209393\n",
       "280        Short Film  13.023583\n",
       "281  Historical drama  12.326044\n",
       "285   Propaganda film  10.948905"
      ]
     },
     "execution_count": 21,
     "metadata": {},
     "output_type": "execute_result"
    }
   ],
   "source": [
    "worst_5_genre_summaries"
   ]
  },
  {
   "cell_type": "code",
   "execution_count": 22,
   "id": "906bdd6a",
   "metadata": {},
   "outputs": [
    {
     "data": {
      "text/html": [
       "<div>\n",
       "<style scoped>\n",
       "    .dataframe tbody tr th:only-of-type {\n",
       "        vertical-align: middle;\n",
       "    }\n",
       "\n",
       "    .dataframe tbody tr th {\n",
       "        vertical-align: top;\n",
       "    }\n",
       "\n",
       "    .dataframe thead th {\n",
       "        text-align: right;\n",
       "    }\n",
       "</style>\n",
       "<table border=\"1\" class=\"dataframe\">\n",
       "  <thead>\n",
       "    <tr style=\"text-align: right;\">\n",
       "      <th></th>\n",
       "      <th>Wikipedia movie ID</th>\n",
       "      <th>Freebase movie ID</th>\n",
       "      <th>Movie release date</th>\n",
       "      <th>Character name</th>\n",
       "      <th>Actor date of birth</th>\n",
       "      <th>Actor gender</th>\n",
       "      <th>Actor height (in meters)</th>\n",
       "      <th>Actor ethnicity (Freebase ID)</th>\n",
       "      <th>Actor name</th>\n",
       "      <th>Actor age at movie release</th>\n",
       "      <th>Freebase character/actor map ID</th>\n",
       "      <th>Freebase character ID</th>\n",
       "      <th>Freebase actor ID</th>\n",
       "    </tr>\n",
       "  </thead>\n",
       "  <tbody>\n",
       "    <tr>\n",
       "      <th>0</th>\n",
       "      <td>975900</td>\n",
       "      <td>/m/03vyhn</td>\n",
       "      <td>2001-08-24</td>\n",
       "      <td>Akooshay</td>\n",
       "      <td>1958-08-26</td>\n",
       "      <td>F</td>\n",
       "      <td>1.62</td>\n",
       "      <td>NaN</td>\n",
       "      <td>Wanda De Jesus</td>\n",
       "      <td>42.0</td>\n",
       "      <td>/m/0bgchxw</td>\n",
       "      <td>/m/0bgcj3x</td>\n",
       "      <td>/m/03wcfv7</td>\n",
       "    </tr>\n",
       "    <tr>\n",
       "      <th>1</th>\n",
       "      <td>975900</td>\n",
       "      <td>/m/03vyhn</td>\n",
       "      <td>2001-08-24</td>\n",
       "      <td>Lieutenant Melanie Ballard</td>\n",
       "      <td>1974-08-15</td>\n",
       "      <td>F</td>\n",
       "      <td>1.78</td>\n",
       "      <td>/m/044038p</td>\n",
       "      <td>Natasha Henstridge</td>\n",
       "      <td>27.0</td>\n",
       "      <td>/m/0jys3m</td>\n",
       "      <td>/m/0bgchn4</td>\n",
       "      <td>/m/0346l4</td>\n",
       "    </tr>\n",
       "  </tbody>\n",
       "</table>\n",
       "</div>"
      ],
      "text/plain": [
       "   Wikipedia movie ID Freebase movie ID Movie release date  \\\n",
       "0              975900         /m/03vyhn         2001-08-24   \n",
       "1              975900         /m/03vyhn         2001-08-24   \n",
       "\n",
       "               Character name Actor date of birth Actor gender  \\\n",
       "0                    Akooshay          1958-08-26            F   \n",
       "1  Lieutenant Melanie Ballard          1974-08-15            F   \n",
       "\n",
       "   Actor height (in meters) Actor ethnicity (Freebase ID)          Actor name  \\\n",
       "0                      1.62                           NaN      Wanda De Jesus   \n",
       "1                      1.78                    /m/044038p  Natasha Henstridge   \n",
       "\n",
       "   Actor age at movie release Freebase character/actor map ID  \\\n",
       "0                        42.0                      /m/0bgchxw   \n",
       "1                        27.0                       /m/0jys3m   \n",
       "\n",
       "  Freebase character ID Freebase actor ID  \n",
       "0            /m/0bgcj3x        /m/03wcfv7  \n",
       "1            /m/0bgchn4         /m/0346l4  "
      ]
     },
     "execution_count": 22,
     "metadata": {},
     "output_type": "execute_result"
    }
   ],
   "source": [
    "# Character metadata\n",
    "char_md_cols = ['Wikipedia movie ID',\n",
    "'Freebase movie ID',\n",
    "'Movie release date',\n",
    "'Character name',\n",
    "'Actor date of birth',\n",
    "'Actor gender',\n",
    "'Actor height (in meters)',\n",
    "'Actor ethnicity (Freebase ID)',\n",
    "'Actor name',\n",
    "'Actor age at movie release',\n",
    "'Freebase character/actor map ID',\n",
    "'Freebase character ID',\n",
    "'Freebase actor ID',\n",
    "]\n",
    "char_md = pd.read_csv('data/character.metadata.tsv', sep='\\t', names=char_md_cols)\n",
    "char_md.head(2)"
   ]
  },
  {
   "cell_type": "code",
   "execution_count": 23,
   "id": "07be32a0",
   "metadata": {},
   "outputs": [],
   "source": [
    "char_to_gender = char_md[['Wikipedia movie ID', 'Actor gender']].dropna()\n",
    "# 1 if woman, 0 if man\n",
    "char_to_gender = char_to_gender.replace({'Actor gender': {'F': 1,'M': 0}})"
   ]
  },
  {
   "cell_type": "code",
   "execution_count": 24,
   "id": "2fcfccac",
   "metadata": {},
   "outputs": [
    {
     "data": {
      "text/html": [
       "<div>\n",
       "<style scoped>\n",
       "    .dataframe tbody tr th:only-of-type {\n",
       "        vertical-align: middle;\n",
       "    }\n",
       "\n",
       "    .dataframe tbody tr th {\n",
       "        vertical-align: top;\n",
       "    }\n",
       "\n",
       "    .dataframe thead th {\n",
       "        text-align: right;\n",
       "    }\n",
       "</style>\n",
       "<table border=\"1\" class=\"dataframe\">\n",
       "  <thead>\n",
       "    <tr style=\"text-align: right;\">\n",
       "      <th></th>\n",
       "      <th>Wikipedia movie ID</th>\n",
       "      <th>Actor gender</th>\n",
       "    </tr>\n",
       "  </thead>\n",
       "  <tbody>\n",
       "    <tr>\n",
       "      <th>0</th>\n",
       "      <td>975900</td>\n",
       "      <td>1</td>\n",
       "    </tr>\n",
       "    <tr>\n",
       "      <th>1</th>\n",
       "      <td>975900</td>\n",
       "      <td>1</td>\n",
       "    </tr>\n",
       "  </tbody>\n",
       "</table>\n",
       "</div>"
      ],
      "text/plain": [
       "   Wikipedia movie ID  Actor gender\n",
       "0              975900             1\n",
       "1              975900             1"
      ]
     },
     "execution_count": 24,
     "metadata": {},
     "output_type": "execute_result"
    }
   ],
   "source": [
    "char_to_gender.head(2)"
   ]
  },
  {
   "cell_type": "code",
   "execution_count": 25,
   "id": "957680c4",
   "metadata": {},
   "outputs": [],
   "source": [
    "df_ratio_cast = (\n",
    "    char_to_gender.groupby('Wikipedia movie ID', as_index=False)\n",
    "        .agg(f_occ=('Actor gender', 'sum'),\n",
    "             tot_chars=('Actor gender', 'count'))\n",
    ").rename(columns={'Wikipedia movie ID': 'wiki_id'})\n",
    "df_ratio_cast['m_occ'] = df_ratio_cast['tot_chars']-df_ratio_cast['f_occ']"
   ]
  },
  {
   "cell_type": "code",
   "execution_count": 26,
   "id": "2d62f5f4",
   "metadata": {},
   "outputs": [
    {
     "data": {
      "text/html": [
       "<div>\n",
       "<style scoped>\n",
       "    .dataframe tbody tr th:only-of-type {\n",
       "        vertical-align: middle;\n",
       "    }\n",
       "\n",
       "    .dataframe tbody tr th {\n",
       "        vertical-align: top;\n",
       "    }\n",
       "\n",
       "    .dataframe thead th {\n",
       "        text-align: right;\n",
       "    }\n",
       "</style>\n",
       "<table border=\"1\" class=\"dataframe\">\n",
       "  <thead>\n",
       "    <tr style=\"text-align: right;\">\n",
       "      <th></th>\n",
       "      <th>wiki_id</th>\n",
       "      <th>f_occ</th>\n",
       "      <th>tot_chars</th>\n",
       "      <th>m_occ</th>\n",
       "    </tr>\n",
       "  </thead>\n",
       "  <tbody>\n",
       "    <tr>\n",
       "      <th>0</th>\n",
       "      <td>330</td>\n",
       "      <td>4</td>\n",
       "      <td>4</td>\n",
       "      <td>0</td>\n",
       "    </tr>\n",
       "    <tr>\n",
       "      <th>1</th>\n",
       "      <td>3217</td>\n",
       "      <td>3</td>\n",
       "      <td>13</td>\n",
       "      <td>10</td>\n",
       "    </tr>\n",
       "    <tr>\n",
       "      <th>2</th>\n",
       "      <td>3333</td>\n",
       "      <td>6</td>\n",
       "      <td>14</td>\n",
       "      <td>8</td>\n",
       "    </tr>\n",
       "    <tr>\n",
       "      <th>3</th>\n",
       "      <td>3746</td>\n",
       "      <td>3</td>\n",
       "      <td>14</td>\n",
       "      <td>11</td>\n",
       "    </tr>\n",
       "    <tr>\n",
       "      <th>4</th>\n",
       "      <td>3837</td>\n",
       "      <td>2</td>\n",
       "      <td>20</td>\n",
       "      <td>18</td>\n",
       "    </tr>\n",
       "    <tr>\n",
       "      <th>...</th>\n",
       "      <td>...</td>\n",
       "      <td>...</td>\n",
       "      <td>...</td>\n",
       "      <td>...</td>\n",
       "    </tr>\n",
       "    <tr>\n",
       "      <th>63647</th>\n",
       "      <td>37322106</td>\n",
       "      <td>2</td>\n",
       "      <td>3</td>\n",
       "      <td>1</td>\n",
       "    </tr>\n",
       "    <tr>\n",
       "      <th>63648</th>\n",
       "      <td>37373877</td>\n",
       "      <td>3</td>\n",
       "      <td>6</td>\n",
       "      <td>3</td>\n",
       "    </tr>\n",
       "    <tr>\n",
       "      <th>63649</th>\n",
       "      <td>37476824</td>\n",
       "      <td>4</td>\n",
       "      <td>10</td>\n",
       "      <td>6</td>\n",
       "    </tr>\n",
       "    <tr>\n",
       "      <th>63650</th>\n",
       "      <td>37478048</td>\n",
       "      <td>1</td>\n",
       "      <td>4</td>\n",
       "      <td>3</td>\n",
       "    </tr>\n",
       "    <tr>\n",
       "      <th>63651</th>\n",
       "      <td>37501922</td>\n",
       "      <td>1</td>\n",
       "      <td>2</td>\n",
       "      <td>1</td>\n",
       "    </tr>\n",
       "  </tbody>\n",
       "</table>\n",
       "<p>63652 rows × 4 columns</p>\n",
       "</div>"
      ],
      "text/plain": [
       "        wiki_id  f_occ  tot_chars  m_occ\n",
       "0           330      4          4      0\n",
       "1          3217      3         13     10\n",
       "2          3333      6         14      8\n",
       "3          3746      3         14     11\n",
       "4          3837      2         20     18\n",
       "...         ...    ...        ...    ...\n",
       "63647  37322106      2          3      1\n",
       "63648  37373877      3          6      3\n",
       "63649  37476824      4         10      6\n",
       "63650  37478048      1          4      3\n",
       "63651  37501922      1          2      1\n",
       "\n",
       "[63652 rows x 4 columns]"
      ]
     },
     "execution_count": 26,
     "metadata": {},
     "output_type": "execute_result"
    }
   ],
   "source": [
    "df_ratio_cast"
   ]
  },
  {
   "cell_type": "code",
   "execution_count": 27,
   "id": "9f87af43",
   "metadata": {},
   "outputs": [
    {
     "data": {
      "text/html": [
       "<div>\n",
       "<style scoped>\n",
       "    .dataframe tbody tr th:only-of-type {\n",
       "        vertical-align: middle;\n",
       "    }\n",
       "\n",
       "    .dataframe tbody tr th {\n",
       "        vertical-align: top;\n",
       "    }\n",
       "\n",
       "    .dataframe thead th {\n",
       "        text-align: right;\n",
       "    }\n",
       "</style>\n",
       "<table border=\"1\" class=\"dataframe\">\n",
       "  <thead>\n",
       "    <tr style=\"text-align: right;\">\n",
       "      <th></th>\n",
       "      <th>genre</th>\n",
       "      <th>f_occ</th>\n",
       "      <th>m_occ</th>\n",
       "    </tr>\n",
       "  </thead>\n",
       "  <tbody>\n",
       "    <tr>\n",
       "      <th>0</th>\n",
       "      <td>Thriller</td>\n",
       "      <td>6.0</td>\n",
       "      <td>11.0</td>\n",
       "    </tr>\n",
       "    <tr>\n",
       "      <th>0</th>\n",
       "      <td>Science Fiction</td>\n",
       "      <td>6.0</td>\n",
       "      <td>11.0</td>\n",
       "    </tr>\n",
       "  </tbody>\n",
       "</table>\n",
       "</div>"
      ],
      "text/plain": [
       "             genre  f_occ  m_occ\n",
       "0         Thriller    6.0   11.0\n",
       "0  Science Fiction    6.0   11.0"
      ]
     },
     "execution_count": 27,
     "metadata": {},
     "output_type": "execute_result"
    }
   ],
   "source": [
    "df_cast_genre = df_movie_genre.join(df_ratio_cast[['wiki_id', 'f_occ', 'm_occ']].set_index('wiki_id'), on='wiki_id').dropna()\n",
    "df_cast_genre = df_cast_genre[['genre', 'f_occ', 'm_occ']]\n",
    "df_cast_genre.head(2)"
   ]
  },
  {
   "cell_type": "code",
   "execution_count": 28,
   "id": "8f450b75",
   "metadata": {},
   "outputs": [
    {
     "data": {
      "text/html": [
       "<div>\n",
       "<style scoped>\n",
       "    .dataframe tbody tr th:only-of-type {\n",
       "        vertical-align: middle;\n",
       "    }\n",
       "\n",
       "    .dataframe tbody tr th {\n",
       "        vertical-align: top;\n",
       "    }\n",
       "\n",
       "    .dataframe thead th {\n",
       "        text-align: right;\n",
       "    }\n",
       "</style>\n",
       "<table border=\"1\" class=\"dataframe\">\n",
       "  <thead>\n",
       "    <tr style=\"text-align: right;\">\n",
       "      <th></th>\n",
       "      <th>genre</th>\n",
       "      <th>f_occ</th>\n",
       "      <th>m_occ</th>\n",
       "      <th>F_ratio</th>\n",
       "    </tr>\n",
       "  </thead>\n",
       "  <tbody>\n",
       "    <tr>\n",
       "      <th>290</th>\n",
       "      <td>Romantic thriller</td>\n",
       "      <td>1.000000</td>\n",
       "      <td>0.000000</td>\n",
       "      <td>1.000000</td>\n",
       "    </tr>\n",
       "    <tr>\n",
       "      <th>348</th>\n",
       "      <td>War effort</td>\n",
       "      <td>2.000000</td>\n",
       "      <td>1.000000</td>\n",
       "      <td>0.666667</td>\n",
       "    </tr>\n",
       "    <tr>\n",
       "      <th>178</th>\n",
       "      <td>Health &amp; Fitness</td>\n",
       "      <td>2.000000</td>\n",
       "      <td>1.000000</td>\n",
       "      <td>0.666667</td>\n",
       "    </tr>\n",
       "    <tr>\n",
       "      <th>353</th>\n",
       "      <td>Women in prison films</td>\n",
       "      <td>3.764706</td>\n",
       "      <td>2.294118</td>\n",
       "      <td>0.621359</td>\n",
       "    </tr>\n",
       "    <tr>\n",
       "      <th>255</th>\n",
       "      <td>Pinku eiga</td>\n",
       "      <td>2.000000</td>\n",
       "      <td>1.272727</td>\n",
       "      <td>0.611111</td>\n",
       "    </tr>\n",
       "    <tr>\n",
       "      <th>57</th>\n",
       "      <td>C-Movie</td>\n",
       "      <td>12.000000</td>\n",
       "      <td>8.000000</td>\n",
       "      <td>0.600000</td>\n",
       "    </tr>\n",
       "    <tr>\n",
       "      <th>166</th>\n",
       "      <td>Gender Issues</td>\n",
       "      <td>2.035714</td>\n",
       "      <td>1.464286</td>\n",
       "      <td>0.581633</td>\n",
       "    </tr>\n",
       "    <tr>\n",
       "      <th>136</th>\n",
       "      <td>Family &amp; Personal Relationships</td>\n",
       "      <td>1.142857</td>\n",
       "      <td>0.857143</td>\n",
       "      <td>0.571429</td>\n",
       "    </tr>\n",
       "    <tr>\n",
       "      <th>274</th>\n",
       "      <td>Race movie</td>\n",
       "      <td>2.000000</td>\n",
       "      <td>1.500000</td>\n",
       "      <td>0.571429</td>\n",
       "    </tr>\n",
       "    <tr>\n",
       "      <th>311</th>\n",
       "      <td>Softcore Porn</td>\n",
       "      <td>2.524590</td>\n",
       "      <td>2.213115</td>\n",
       "      <td>0.532872</td>\n",
       "    </tr>\n",
       "  </tbody>\n",
       "</table>\n",
       "</div>"
      ],
      "text/plain": [
       "                               genre      f_occ     m_occ   F_ratio\n",
       "290                Romantic thriller   1.000000  0.000000  1.000000\n",
       "348                       War effort   2.000000  1.000000  0.666667\n",
       "178                 Health & Fitness   2.000000  1.000000  0.666667\n",
       "353            Women in prison films   3.764706  2.294118  0.621359\n",
       "255                       Pinku eiga   2.000000  1.272727  0.611111\n",
       "57                           C-Movie  12.000000  8.000000  0.600000\n",
       "166                    Gender Issues   2.035714  1.464286  0.581633\n",
       "136  Family & Personal Relationships   1.142857  0.857143  0.571429\n",
       "274                       Race movie   2.000000  1.500000  0.571429\n",
       "311                    Softcore Porn   2.524590  2.213115  0.532872"
      ]
     },
     "execution_count": 28,
     "metadata": {},
     "output_type": "execute_result"
    }
   ],
   "source": [
    "df_cast_genre_means = df_cast_genre.groupby('genre').mean().reset_index()\n",
    "# Computes the % of women\n",
    "df_cast_genre_means['F_ratio'] = df_cast_genre_means['f_occ']/(df_cast_genre_means['f_occ']+df_cast_genre_means['m_occ'])\n",
    "# Remove unsignificant results with 0 and 0 in M and F\n",
    "df_cast_genre_means = df_cast_genre_means[(df_cast_genre_means.m_occ+df_cast_genre_means.f_occ != 0)]\n",
    "# Sorts by decreasing women representation\n",
    "df_cast_genre_means = df_cast_genre_means.sort_values(by='F_ratio', ascending=False)\n",
    "df_cast_genre_means.head(10)"
   ]
  },
  {
   "cell_type": "code",
   "execution_count": 29,
   "id": "bce55992",
   "metadata": {},
   "outputs": [],
   "source": [
    "#Joins with genre occurences\n",
    "df_cast_genre_means = df_cast_genre_means.merge(df_genre_means['genre'], on='genre').dropna()"
   ]
  },
  {
   "cell_type": "code",
   "execution_count": 30,
   "id": "5d4c21c6",
   "metadata": {},
   "outputs": [],
   "source": [
    "df_cast_genre_means['F_ratio'] = df_cast_genre_means['F_ratio']*100"
   ]
  },
  {
   "cell_type": "code",
   "execution_count": 31,
   "id": "d6e14103",
   "metadata": {},
   "outputs": [],
   "source": [
    "best_5_genre_cast = df_cast_genre_means.head(5)[['genre', 'F_ratio']]\n",
    "worst_5_genre_cast = df_cast_genre_means.tail(5)[['genre', 'F_ratio']]"
   ]
  },
  {
   "cell_type": "code",
   "execution_count": 32,
   "id": "5113696e",
   "metadata": {},
   "outputs": [
    {
     "data": {
      "text/html": [
       "<div>\n",
       "<style scoped>\n",
       "    .dataframe tbody tr th:only-of-type {\n",
       "        vertical-align: middle;\n",
       "    }\n",
       "\n",
       "    .dataframe tbody tr th {\n",
       "        vertical-align: top;\n",
       "    }\n",
       "\n",
       "    .dataframe thead th {\n",
       "        text-align: right;\n",
       "    }\n",
       "</style>\n",
       "<table border=\"1\" class=\"dataframe\">\n",
       "  <thead>\n",
       "    <tr style=\"text-align: right;\">\n",
       "      <th></th>\n",
       "      <th>genre</th>\n",
       "      <th>F_ratio</th>\n",
       "    </tr>\n",
       "  </thead>\n",
       "  <tbody>\n",
       "    <tr>\n",
       "      <th>0</th>\n",
       "      <td>Adult</td>\n",
       "      <td>50.907029</td>\n",
       "    </tr>\n",
       "    <tr>\n",
       "      <th>1</th>\n",
       "      <td>Sexploitation</td>\n",
       "      <td>48.571429</td>\n",
       "    </tr>\n",
       "    <tr>\n",
       "      <th>2</th>\n",
       "      <td>Erotica</td>\n",
       "      <td>48.035230</td>\n",
       "    </tr>\n",
       "    <tr>\n",
       "      <th>3</th>\n",
       "      <td>Pornographic movie</td>\n",
       "      <td>47.759563</td>\n",
       "    </tr>\n",
       "    <tr>\n",
       "      <th>4</th>\n",
       "      <td>Filipino Movies</td>\n",
       "      <td>45.521215</td>\n",
       "    </tr>\n",
       "  </tbody>\n",
       "</table>\n",
       "</div>"
      ],
      "text/plain": [
       "                genre    F_ratio\n",
       "0               Adult  50.907029\n",
       "1       Sexploitation  48.571429\n",
       "2             Erotica  48.035230\n",
       "3  Pornographic movie  47.759563\n",
       "4     Filipino Movies  45.521215"
      ]
     },
     "execution_count": 32,
     "metadata": {},
     "output_type": "execute_result"
    }
   ],
   "source": [
    "best_5_genre_cast"
   ]
  },
  {
   "cell_type": "code",
   "execution_count": 42,
   "id": "37751d23",
   "metadata": {},
   "outputs": [
    {
     "data": {
      "text/html": [
       "<div>\n",
       "<style scoped>\n",
       "    .dataframe tbody tr th:only-of-type {\n",
       "        vertical-align: middle;\n",
       "    }\n",
       "\n",
       "    .dataframe tbody tr th {\n",
       "        vertical-align: top;\n",
       "    }\n",
       "\n",
       "    .dataframe thead th {\n",
       "        text-align: right;\n",
       "    }\n",
       "</style>\n",
       "<table border=\"1\" class=\"dataframe\">\n",
       "  <thead>\n",
       "    <tr style=\"text-align: right;\">\n",
       "      <th></th>\n",
       "      <th>genre</th>\n",
       "      <th>F_ratio</th>\n",
       "    </tr>\n",
       "  </thead>\n",
       "  <tbody>\n",
       "    <tr>\n",
       "      <th>145</th>\n",
       "      <td>Western</td>\n",
       "      <td>20.130698</td>\n",
       "    </tr>\n",
       "    <tr>\n",
       "      <th>146</th>\n",
       "      <td>Costume Adventure</td>\n",
       "      <td>20.022624</td>\n",
       "    </tr>\n",
       "    <tr>\n",
       "      <th>147</th>\n",
       "      <td>Concert film</td>\n",
       "      <td>18.012422</td>\n",
       "    </tr>\n",
       "    <tr>\n",
       "      <th>148</th>\n",
       "      <td>Spaghetti Western</td>\n",
       "      <td>15.447154</td>\n",
       "    </tr>\n",
       "    <tr>\n",
       "      <th>149</th>\n",
       "      <td>Combat Films</td>\n",
       "      <td>9.883721</td>\n",
       "    </tr>\n",
       "  </tbody>\n",
       "</table>\n",
       "</div>"
      ],
      "text/plain": [
       "                 genre    F_ratio\n",
       "145            Western  20.130698\n",
       "146  Costume Adventure  20.022624\n",
       "147       Concert film  18.012422\n",
       "148  Spaghetti Western  15.447154\n",
       "149       Combat Films   9.883721"
      ]
     },
     "execution_count": 42,
     "metadata": {},
     "output_type": "execute_result"
    }
   ],
   "source": [
    "worst_5_genre_cast"
   ]
  },
  {
   "cell_type": "markdown",
   "id": "324b739f",
   "metadata": {},
   "source": [
    "## SECOND PLOT TO SHOW "
   ]
  },
  {
   "cell_type": "code",
   "execution_count": 180,
   "id": "0fc9b7f7",
   "metadata": {},
   "outputs": [
    {
     "data": {
      "application/vnd.plotly.v1+json": {
       "config": {
        "plotlyServerURL": "https://plot.ly"
       },
       "data": [
        {
         "name": "Best 5 Genres",
         "type": "bar",
         "x": [
          "Adult",
          "Sexploitation",
          "Erotica",
          "Pornographic movie",
          "Filipino Movies"
         ],
         "y": [
          50.90702947845804,
          48.57142857142857,
          48.03523035230352,
          47.759562841530055,
          45.52121529596648
         ]
        },
        {
         "name": "Worst 5 Genres",
         "type": "bar",
         "x": [
          "Western",
          "Costume Adventure",
          "Concert film",
          "Spaghetti Western",
          "Combat Films"
         ],
         "y": [
          20.13069811922219,
          20.022624434389144,
          18.012422360248443,
          15.447154471544719,
          9.883720930232558
         ]
        },
        {
         "name": "Best 5 Genres",
         "type": "bar",
         "visible": false,
         "x": [
          "Social issues",
          "Pornographic movie",
          "Sexploitation",
          "Filipino Movies",
          "Culture & Society"
         ],
         "y": [
          83.33333333333334,
          74.07407407407408,
          68.08510638297871,
          67.71799628942486,
          64.28571428571429
         ]
        },
        {
         "name": "Worst 5 Genres",
         "type": "bar",
         "visible": false,
         "x": [
          "Prison",
          "Historical Epic",
          "Short Film",
          "Historical drama",
          "Propaganda film"
         ],
         "y": [
          13.749999999999998,
          13.209393346379647,
          13.023583245336152,
          12.326043737574551,
          10.948905109489052
         ]
        }
       ],
       "layout": {
        "autosize": true,
        "paper_bgcolor": "rgba(0, 0, 0, 0)",
        "plot_bgcolor": "rgba(0, 0, 0, 0)",
        "template": {
         "data": {
          "bar": [
           {
            "error_x": {
             "color": "#2a3f5f"
            },
            "error_y": {
             "color": "#2a3f5f"
            },
            "marker": {
             "line": {
              "color": "#E5ECF6",
              "width": 0.5
             },
             "pattern": {
              "fillmode": "overlay",
              "size": 10,
              "solidity": 0.2
             }
            },
            "type": "bar"
           }
          ],
          "barpolar": [
           {
            "marker": {
             "line": {
              "color": "#E5ECF6",
              "width": 0.5
             },
             "pattern": {
              "fillmode": "overlay",
              "size": 10,
              "solidity": 0.2
             }
            },
            "type": "barpolar"
           }
          ],
          "carpet": [
           {
            "aaxis": {
             "endlinecolor": "#2a3f5f",
             "gridcolor": "white",
             "linecolor": "white",
             "minorgridcolor": "white",
             "startlinecolor": "#2a3f5f"
            },
            "baxis": {
             "endlinecolor": "#2a3f5f",
             "gridcolor": "white",
             "linecolor": "white",
             "minorgridcolor": "white",
             "startlinecolor": "#2a3f5f"
            },
            "type": "carpet"
           }
          ],
          "choropleth": [
           {
            "colorbar": {
             "outlinewidth": 0,
             "ticks": ""
            },
            "type": "choropleth"
           }
          ],
          "contour": [
           {
            "colorbar": {
             "outlinewidth": 0,
             "ticks": ""
            },
            "colorscale": [
             [
              0,
              "#0d0887"
             ],
             [
              0.1111111111111111,
              "#46039f"
             ],
             [
              0.2222222222222222,
              "#7201a8"
             ],
             [
              0.3333333333333333,
              "#9c179e"
             ],
             [
              0.4444444444444444,
              "#bd3786"
             ],
             [
              0.5555555555555556,
              "#d8576b"
             ],
             [
              0.6666666666666666,
              "#ed7953"
             ],
             [
              0.7777777777777778,
              "#fb9f3a"
             ],
             [
              0.8888888888888888,
              "#fdca26"
             ],
             [
              1,
              "#f0f921"
             ]
            ],
            "type": "contour"
           }
          ],
          "contourcarpet": [
           {
            "colorbar": {
             "outlinewidth": 0,
             "ticks": ""
            },
            "type": "contourcarpet"
           }
          ],
          "heatmap": [
           {
            "colorbar": {
             "outlinewidth": 0,
             "ticks": ""
            },
            "colorscale": [
             [
              0,
              "#0d0887"
             ],
             [
              0.1111111111111111,
              "#46039f"
             ],
             [
              0.2222222222222222,
              "#7201a8"
             ],
             [
              0.3333333333333333,
              "#9c179e"
             ],
             [
              0.4444444444444444,
              "#bd3786"
             ],
             [
              0.5555555555555556,
              "#d8576b"
             ],
             [
              0.6666666666666666,
              "#ed7953"
             ],
             [
              0.7777777777777778,
              "#fb9f3a"
             ],
             [
              0.8888888888888888,
              "#fdca26"
             ],
             [
              1,
              "#f0f921"
             ]
            ],
            "type": "heatmap"
           }
          ],
          "heatmapgl": [
           {
            "colorbar": {
             "outlinewidth": 0,
             "ticks": ""
            },
            "colorscale": [
             [
              0,
              "#0d0887"
             ],
             [
              0.1111111111111111,
              "#46039f"
             ],
             [
              0.2222222222222222,
              "#7201a8"
             ],
             [
              0.3333333333333333,
              "#9c179e"
             ],
             [
              0.4444444444444444,
              "#bd3786"
             ],
             [
              0.5555555555555556,
              "#d8576b"
             ],
             [
              0.6666666666666666,
              "#ed7953"
             ],
             [
              0.7777777777777778,
              "#fb9f3a"
             ],
             [
              0.8888888888888888,
              "#fdca26"
             ],
             [
              1,
              "#f0f921"
             ]
            ],
            "type": "heatmapgl"
           }
          ],
          "histogram": [
           {
            "marker": {
             "pattern": {
              "fillmode": "overlay",
              "size": 10,
              "solidity": 0.2
             }
            },
            "type": "histogram"
           }
          ],
          "histogram2d": [
           {
            "colorbar": {
             "outlinewidth": 0,
             "ticks": ""
            },
            "colorscale": [
             [
              0,
              "#0d0887"
             ],
             [
              0.1111111111111111,
              "#46039f"
             ],
             [
              0.2222222222222222,
              "#7201a8"
             ],
             [
              0.3333333333333333,
              "#9c179e"
             ],
             [
              0.4444444444444444,
              "#bd3786"
             ],
             [
              0.5555555555555556,
              "#d8576b"
             ],
             [
              0.6666666666666666,
              "#ed7953"
             ],
             [
              0.7777777777777778,
              "#fb9f3a"
             ],
             [
              0.8888888888888888,
              "#fdca26"
             ],
             [
              1,
              "#f0f921"
             ]
            ],
            "type": "histogram2d"
           }
          ],
          "histogram2dcontour": [
           {
            "colorbar": {
             "outlinewidth": 0,
             "ticks": ""
            },
            "colorscale": [
             [
              0,
              "#0d0887"
             ],
             [
              0.1111111111111111,
              "#46039f"
             ],
             [
              0.2222222222222222,
              "#7201a8"
             ],
             [
              0.3333333333333333,
              "#9c179e"
             ],
             [
              0.4444444444444444,
              "#bd3786"
             ],
             [
              0.5555555555555556,
              "#d8576b"
             ],
             [
              0.6666666666666666,
              "#ed7953"
             ],
             [
              0.7777777777777778,
              "#fb9f3a"
             ],
             [
              0.8888888888888888,
              "#fdca26"
             ],
             [
              1,
              "#f0f921"
             ]
            ],
            "type": "histogram2dcontour"
           }
          ],
          "mesh3d": [
           {
            "colorbar": {
             "outlinewidth": 0,
             "ticks": ""
            },
            "type": "mesh3d"
           }
          ],
          "parcoords": [
           {
            "line": {
             "colorbar": {
              "outlinewidth": 0,
              "ticks": ""
             }
            },
            "type": "parcoords"
           }
          ],
          "pie": [
           {
            "automargin": true,
            "type": "pie"
           }
          ],
          "scatter": [
           {
            "fillpattern": {
             "fillmode": "overlay",
             "size": 10,
             "solidity": 0.2
            },
            "type": "scatter"
           }
          ],
          "scatter3d": [
           {
            "line": {
             "colorbar": {
              "outlinewidth": 0,
              "ticks": ""
             }
            },
            "marker": {
             "colorbar": {
              "outlinewidth": 0,
              "ticks": ""
             }
            },
            "type": "scatter3d"
           }
          ],
          "scattercarpet": [
           {
            "marker": {
             "colorbar": {
              "outlinewidth": 0,
              "ticks": ""
             }
            },
            "type": "scattercarpet"
           }
          ],
          "scattergeo": [
           {
            "marker": {
             "colorbar": {
              "outlinewidth": 0,
              "ticks": ""
             }
            },
            "type": "scattergeo"
           }
          ],
          "scattergl": [
           {
            "marker": {
             "colorbar": {
              "outlinewidth": 0,
              "ticks": ""
             }
            },
            "type": "scattergl"
           }
          ],
          "scattermapbox": [
           {
            "marker": {
             "colorbar": {
              "outlinewidth": 0,
              "ticks": ""
             }
            },
            "type": "scattermapbox"
           }
          ],
          "scatterpolar": [
           {
            "marker": {
             "colorbar": {
              "outlinewidth": 0,
              "ticks": ""
             }
            },
            "type": "scatterpolar"
           }
          ],
          "scatterpolargl": [
           {
            "marker": {
             "colorbar": {
              "outlinewidth": 0,
              "ticks": ""
             }
            },
            "type": "scatterpolargl"
           }
          ],
          "scatterternary": [
           {
            "marker": {
             "colorbar": {
              "outlinewidth": 0,
              "ticks": ""
             }
            },
            "type": "scatterternary"
           }
          ],
          "surface": [
           {
            "colorbar": {
             "outlinewidth": 0,
             "ticks": ""
            },
            "colorscale": [
             [
              0,
              "#0d0887"
             ],
             [
              0.1111111111111111,
              "#46039f"
             ],
             [
              0.2222222222222222,
              "#7201a8"
             ],
             [
              0.3333333333333333,
              "#9c179e"
             ],
             [
              0.4444444444444444,
              "#bd3786"
             ],
             [
              0.5555555555555556,
              "#d8576b"
             ],
             [
              0.6666666666666666,
              "#ed7953"
             ],
             [
              0.7777777777777778,
              "#fb9f3a"
             ],
             [
              0.8888888888888888,
              "#fdca26"
             ],
             [
              1,
              "#f0f921"
             ]
            ],
            "type": "surface"
           }
          ],
          "table": [
           {
            "cells": {
             "fill": {
              "color": "#EBF0F8"
             },
             "line": {
              "color": "white"
             }
            },
            "header": {
             "fill": {
              "color": "#C8D4E3"
             },
             "line": {
              "color": "white"
             }
            },
            "type": "table"
           }
          ]
         },
         "layout": {
          "annotationdefaults": {
           "arrowcolor": "#2a3f5f",
           "arrowhead": 0,
           "arrowwidth": 1
          },
          "autotypenumbers": "strict",
          "coloraxis": {
           "colorbar": {
            "outlinewidth": 0,
            "ticks": ""
           }
          },
          "colorscale": {
           "diverging": [
            [
             0,
             "#8e0152"
            ],
            [
             0.1,
             "#c51b7d"
            ],
            [
             0.2,
             "#de77ae"
            ],
            [
             0.3,
             "#f1b6da"
            ],
            [
             0.4,
             "#fde0ef"
            ],
            [
             0.5,
             "#f7f7f7"
            ],
            [
             0.6,
             "#e6f5d0"
            ],
            [
             0.7,
             "#b8e186"
            ],
            [
             0.8,
             "#7fbc41"
            ],
            [
             0.9,
             "#4d9221"
            ],
            [
             1,
             "#276419"
            ]
           ],
           "sequential": [
            [
             0,
             "#0d0887"
            ],
            [
             0.1111111111111111,
             "#46039f"
            ],
            [
             0.2222222222222222,
             "#7201a8"
            ],
            [
             0.3333333333333333,
             "#9c179e"
            ],
            [
             0.4444444444444444,
             "#bd3786"
            ],
            [
             0.5555555555555556,
             "#d8576b"
            ],
            [
             0.6666666666666666,
             "#ed7953"
            ],
            [
             0.7777777777777778,
             "#fb9f3a"
            ],
            [
             0.8888888888888888,
             "#fdca26"
            ],
            [
             1,
             "#f0f921"
            ]
           ],
           "sequentialminus": [
            [
             0,
             "#0d0887"
            ],
            [
             0.1111111111111111,
             "#46039f"
            ],
            [
             0.2222222222222222,
             "#7201a8"
            ],
            [
             0.3333333333333333,
             "#9c179e"
            ],
            [
             0.4444444444444444,
             "#bd3786"
            ],
            [
             0.5555555555555556,
             "#d8576b"
            ],
            [
             0.6666666666666666,
             "#ed7953"
            ],
            [
             0.7777777777777778,
             "#fb9f3a"
            ],
            [
             0.8888888888888888,
             "#fdca26"
            ],
            [
             1,
             "#f0f921"
            ]
           ]
          },
          "colorway": [
           "#636efa",
           "#EF553B",
           "#00cc96",
           "#ab63fa",
           "#FFA15A",
           "#19d3f3",
           "#FF6692",
           "#B6E880",
           "#FF97FF",
           "#FECB52"
          ],
          "font": {
           "color": "#2a3f5f"
          },
          "geo": {
           "bgcolor": "white",
           "lakecolor": "white",
           "landcolor": "#E5ECF6",
           "showlakes": true,
           "showland": true,
           "subunitcolor": "white"
          },
          "hoverlabel": {
           "align": "left"
          },
          "hovermode": "closest",
          "mapbox": {
           "style": "light"
          },
          "paper_bgcolor": "white",
          "plot_bgcolor": "#E5ECF6",
          "polar": {
           "angularaxis": {
            "gridcolor": "white",
            "linecolor": "white",
            "ticks": ""
           },
           "bgcolor": "#E5ECF6",
           "radialaxis": {
            "gridcolor": "white",
            "linecolor": "white",
            "ticks": ""
           }
          },
          "scene": {
           "xaxis": {
            "backgroundcolor": "#E5ECF6",
            "gridcolor": "white",
            "gridwidth": 2,
            "linecolor": "white",
            "showbackground": true,
            "ticks": "",
            "zerolinecolor": "white"
           },
           "yaxis": {
            "backgroundcolor": "#E5ECF6",
            "gridcolor": "white",
            "gridwidth": 2,
            "linecolor": "white",
            "showbackground": true,
            "ticks": "",
            "zerolinecolor": "white"
           },
           "zaxis": {
            "backgroundcolor": "#E5ECF6",
            "gridcolor": "white",
            "gridwidth": 2,
            "linecolor": "white",
            "showbackground": true,
            "ticks": "",
            "zerolinecolor": "white"
           }
          },
          "shapedefaults": {
           "line": {
            "color": "#2a3f5f"
           }
          },
          "ternary": {
           "aaxis": {
            "gridcolor": "white",
            "linecolor": "white",
            "ticks": ""
           },
           "baxis": {
            "gridcolor": "white",
            "linecolor": "white",
            "ticks": ""
           },
           "bgcolor": "#E5ECF6",
           "caxis": {
            "gridcolor": "white",
            "linecolor": "white",
            "ticks": ""
           }
          },
          "title": {
           "x": 0.05
          },
          "xaxis": {
           "automargin": true,
           "gridcolor": "white",
           "linecolor": "white",
           "ticks": "",
           "title": {
            "standoff": 15
           },
           "zerolinecolor": "white",
           "zerolinewidth": 2
          },
          "yaxis": {
           "automargin": true,
           "gridcolor": "white",
           "linecolor": "white",
           "ticks": "",
           "title": {
            "standoff": 15
           },
           "zerolinecolor": "white",
           "zerolinewidth": 2
          }
         }
        },
        "title": {
         "text": "Women's representation in movie casts",
         "x": 0.5
        },
        "updatemenus": [
         {
          "active": 0,
          "buttons": [
           {
            "args": [
             {
              "visible": [
               true,
               true,
               false,
               false
              ]
             },
             {
              "title": "Women's representation in movie casts"
             }
            ],
            "label": "In the cast",
            "method": "update"
           },
           {
            "args": [
             {
              "visible": [
               false,
               false,
               true,
               true
              ]
             },
             {
              "title": "Women's representation in movie summaries"
             }
            ],
            "label": "In the summaries",
            "method": "update"
           }
          ],
          "direction": "down",
          "pad": {
           "r": 10,
           "t": 10
          },
          "showactive": true,
          "x": 0.1,
          "xanchor": "left",
          "y": 1.1,
          "yanchor": "top"
         }
        ],
        "xaxis": {
         "autorange": true,
         "range": [
          -0.5,
          9.5
         ],
         "type": "category"
        },
        "yaxis": {
         "gridcolor": "black",
         "range": [
          1,
          100
         ],
         "title": {
          "text": "% of women"
         },
         "type": "linear"
        }
       }
      },
      "image/png": "[encoded data removed]",
      "text/html": [
       "<div>                            <div id=\"11cd194e-0477-44ba-a298-a877580ccc8c\" class=\"plotly-graph-div\" style=\"height:525px; width:100%;\"></div>            <script type=\"text/javascript\">                require([\"plotly\"], function(Plotly) {                    window.PLOTLYENV=window.PLOTLYENV || {};                                    if (document.getElementById(\"11cd194e-0477-44ba-a298-a877580ccc8c\")) {                    Plotly.newPlot(                        \"11cd194e-0477-44ba-a298-a877580ccc8c\",                        [{\"name\":\"Best 5 Genres\",\"x\":[\"Adult\",\"Sexploitation\",\"Erotica\",\"Pornographic movie\",\"Filipino Movies\"],\"y\":[50.90702947845804,48.57142857142857,48.03523035230352,47.759562841530055,45.52121529596648],\"type\":\"bar\"},{\"name\":\"Worst 5 Genres\",\"x\":[\"Western\",\"Costume Adventure\",\"Concert film\",\"Spaghetti Western\",\"Combat Films\"],\"y\":[20.13069811922219,20.022624434389144,18.012422360248443,15.447154471544719,9.883720930232558],\"type\":\"bar\"},{\"name\":\"Best 5 Genres\",\"visible\":false,\"x\":[\"Social issues\",\"Pornographic movie\",\"Sexploitation\",\"Filipino Movies\",\"Culture & Society\"],\"y\":[83.33333333333334,74.07407407407408,68.08510638297871,67.71799628942486,64.28571428571429],\"type\":\"bar\"},{\"name\":\"Worst 5 Genres\",\"visible\":false,\"x\":[\"Prison\",\"Historical Epic\",\"Short Film\",\"Historical drama\",\"Propaganda film\"],\"y\":[13.749999999999998,13.209393346379647,13.023583245336152,12.326043737574551,10.948905109489052],\"type\":\"bar\"}],                        {\"template\":{\"data\":{\"histogram2dcontour\":[{\"type\":\"histogram2dcontour\",\"colorbar\":{\"outlinewidth\":0,\"ticks\":\"\"},\"colorscale\":[[0.0,\"#0d0887\"],[0.1111111111111111,\"#46039f\"],[0.2222222222222222,\"#7201a8\"],[0.3333333333333333,\"#9c179e\"],[0.4444444444444444,\"#bd3786\"],[0.5555555555555556,\"#d8576b\"],[0.6666666666666666,\"#ed7953\"],[0.7777777777777778,\"#fb9f3a\"],[0.8888888888888888,\"#fdca26\"],[1.0,\"#f0f921\"]]}],\"choropleth\":[{\"type\":\"choropleth\",\"colorbar\":{\"outlinewidth\":0,\"ticks\":\"\"}}],\"histogram2d\":[{\"type\":\"histogram2d\",\"colorbar\":{\"outlinewidth\":0,\"ticks\":\"\"},\"colorscale\":[[0.0,\"#0d0887\"],[0.1111111111111111,\"#46039f\"],[0.2222222222222222,\"#7201a8\"],[0.3333333333333333,\"#9c179e\"],[0.4444444444444444,\"#bd3786\"],[0.5555555555555556,\"#d8576b\"],[0.6666666666666666,\"#ed7953\"],[0.7777777777777778,\"#fb9f3a\"],[0.8888888888888888,\"#fdca26\"],[1.0,\"#f0f921\"]]}],\"heatmap\":[{\"type\":\"heatmap\",\"colorbar\":{\"outlinewidth\":0,\"ticks\":\"\"},\"colorscale\":[[0.0,\"#0d0887\"],[0.1111111111111111,\"#46039f\"],[0.2222222222222222,\"#7201a8\"],[0.3333333333333333,\"#9c179e\"],[0.4444444444444444,\"#bd3786\"],[0.5555555555555556,\"#d8576b\"],[0.6666666666666666,\"#ed7953\"],[0.7777777777777778,\"#fb9f3a\"],[0.8888888888888888,\"#fdca26\"],[1.0,\"#f0f921\"]]}],\"heatmapgl\":[{\"type\":\"heatmapgl\",\"colorbar\":{\"outlinewidth\":0,\"ticks\":\"\"},\"colorscale\":[[0.0,\"#0d0887\"],[0.1111111111111111,\"#46039f\"],[0.2222222222222222,\"#7201a8\"],[0.3333333333333333,\"#9c179e\"],[0.4444444444444444,\"#bd3786\"],[0.5555555555555556,\"#d8576b\"],[0.6666666666666666,\"#ed7953\"],[0.7777777777777778,\"#fb9f3a\"],[0.8888888888888888,\"#fdca26\"],[1.0,\"#f0f921\"]]}],\"contourcarpet\":[{\"type\":\"contourcarpet\",\"colorbar\":{\"outlinewidth\":0,\"ticks\":\"\"}}],\"contour\":[{\"type\":\"contour\",\"colorbar\":{\"outlinewidth\":0,\"ticks\":\"\"},\"colorscale\":[[0.0,\"#0d0887\"],[0.1111111111111111,\"#46039f\"],[0.2222222222222222,\"#7201a8\"],[0.3333333333333333,\"#9c179e\"],[0.4444444444444444,\"#bd3786\"],[0.5555555555555556,\"#d8576b\"],[0.6666666666666666,\"#ed7953\"],[0.7777777777777778,\"#fb9f3a\"],[0.8888888888888888,\"#fdca26\"],[1.0,\"#f0f921\"]]}],\"surface\":[{\"type\":\"surface\",\"colorbar\":{\"outlinewidth\":0,\"ticks\":\"\"},\"colorscale\":[[0.0,\"#0d0887\"],[0.1111111111111111,\"#46039f\"],[0.2222222222222222,\"#7201a8\"],[0.3333333333333333,\"#9c179e\"],[0.4444444444444444,\"#bd3786\"],[0.5555555555555556,\"#d8576b\"],[0.6666666666666666,\"#ed7953\"],[0.7777777777777778,\"#fb9f3a\"],[0.8888888888888888,\"#fdca26\"],[1.0,\"#f0f921\"]]}],\"mesh3d\":[{\"type\":\"mesh3d\",\"colorbar\":{\"outlinewidth\":0,\"ticks\":\"\"}}],\"scatter\":[{\"fillpattern\":{\"fillmode\":\"overlay\",\"size\":10,\"solidity\":0.2},\"type\":\"scatter\"}],\"parcoords\":[{\"type\":\"parcoords\",\"line\":{\"colorbar\":{\"outlinewidth\":0,\"ticks\":\"\"}}}],\"scatterpolargl\":[{\"type\":\"scatterpolargl\",\"marker\":{\"colorbar\":{\"outlinewidth\":0,\"ticks\":\"\"}}}],\"bar\":[{\"error_x\":{\"color\":\"#2a3f5f\"},\"error_y\":{\"color\":\"#2a3f5f\"},\"marker\":{\"line\":{\"color\":\"#E5ECF6\",\"width\":0.5},\"pattern\":{\"fillmode\":\"overlay\",\"size\":10,\"solidity\":0.2}},\"type\":\"bar\"}],\"scattergeo\":[{\"type\":\"scattergeo\",\"marker\":{\"colorbar\":{\"outlinewidth\":0,\"ticks\":\"\"}}}],\"scatterpolar\":[{\"type\":\"scatterpolar\",\"marker\":{\"colorbar\":{\"outlinewidth\":0,\"ticks\":\"\"}}}],\"histogram\":[{\"marker\":{\"pattern\":{\"fillmode\":\"overlay\",\"size\":10,\"solidity\":0.2}},\"type\":\"histogram\"}],\"scattergl\":[{\"type\":\"scattergl\",\"marker\":{\"colorbar\":{\"outlinewidth\":0,\"ticks\":\"\"}}}],\"scatter3d\":[{\"type\":\"scatter3d\",\"line\":{\"colorbar\":{\"outlinewidth\":0,\"ticks\":\"\"}},\"marker\":{\"colorbar\":{\"outlinewidth\":0,\"ticks\":\"\"}}}],\"scattermapbox\":[{\"type\":\"scattermapbox\",\"marker\":{\"colorbar\":{\"outlinewidth\":0,\"ticks\":\"\"}}}],\"scatterternary\":[{\"type\":\"scatterternary\",\"marker\":{\"colorbar\":{\"outlinewidth\":0,\"ticks\":\"\"}}}],\"scattercarpet\":[{\"type\":\"scattercarpet\",\"marker\":{\"colorbar\":{\"outlinewidth\":0,\"ticks\":\"\"}}}],\"carpet\":[{\"aaxis\":{\"endlinecolor\":\"#2a3f5f\",\"gridcolor\":\"white\",\"linecolor\":\"white\",\"minorgridcolor\":\"white\",\"startlinecolor\":\"#2a3f5f\"},\"baxis\":{\"endlinecolor\":\"#2a3f5f\",\"gridcolor\":\"white\",\"linecolor\":\"white\",\"minorgridcolor\":\"white\",\"startlinecolor\":\"#2a3f5f\"},\"type\":\"carpet\"}],\"table\":[{\"cells\":{\"fill\":{\"color\":\"#EBF0F8\"},\"line\":{\"color\":\"white\"}},\"header\":{\"fill\":{\"color\":\"#C8D4E3\"},\"line\":{\"color\":\"white\"}},\"type\":\"table\"}],\"barpolar\":[{\"marker\":{\"line\":{\"color\":\"#E5ECF6\",\"width\":0.5},\"pattern\":{\"fillmode\":\"overlay\",\"size\":10,\"solidity\":0.2}},\"type\":\"barpolar\"}],\"pie\":[{\"automargin\":true,\"type\":\"pie\"}]},\"layout\":{\"autotypenumbers\":\"strict\",\"colorway\":[\"#636efa\",\"#EF553B\",\"#00cc96\",\"#ab63fa\",\"#FFA15A\",\"#19d3f3\",\"#FF6692\",\"#B6E880\",\"#FF97FF\",\"#FECB52\"],\"font\":{\"color\":\"#2a3f5f\"},\"hovermode\":\"closest\",\"hoverlabel\":{\"align\":\"left\"},\"paper_bgcolor\":\"white\",\"plot_bgcolor\":\"#E5ECF6\",\"polar\":{\"bgcolor\":\"#E5ECF6\",\"angularaxis\":{\"gridcolor\":\"white\",\"linecolor\":\"white\",\"ticks\":\"\"},\"radialaxis\":{\"gridcolor\":\"white\",\"linecolor\":\"white\",\"ticks\":\"\"}},\"ternary\":{\"bgcolor\":\"#E5ECF6\",\"aaxis\":{\"gridcolor\":\"white\",\"linecolor\":\"white\",\"ticks\":\"\"},\"baxis\":{\"gridcolor\":\"white\",\"linecolor\":\"white\",\"ticks\":\"\"},\"caxis\":{\"gridcolor\":\"white\",\"linecolor\":\"white\",\"ticks\":\"\"}},\"coloraxis\":{\"colorbar\":{\"outlinewidth\":0,\"ticks\":\"\"}},\"colorscale\":{\"sequential\":[[0.0,\"#0d0887\"],[0.1111111111111111,\"#46039f\"],[0.2222222222222222,\"#7201a8\"],[0.3333333333333333,\"#9c179e\"],[0.4444444444444444,\"#bd3786\"],[0.5555555555555556,\"#d8576b\"],[0.6666666666666666,\"#ed7953\"],[0.7777777777777778,\"#fb9f3a\"],[0.8888888888888888,\"#fdca26\"],[1.0,\"#f0f921\"]],\"sequentialminus\":[[0.0,\"#0d0887\"],[0.1111111111111111,\"#46039f\"],[0.2222222222222222,\"#7201a8\"],[0.3333333333333333,\"#9c179e\"],[0.4444444444444444,\"#bd3786\"],[0.5555555555555556,\"#d8576b\"],[0.6666666666666666,\"#ed7953\"],[0.7777777777777778,\"#fb9f3a\"],[0.8888888888888888,\"#fdca26\"],[1.0,\"#f0f921\"]],\"diverging\":[[0,\"#8e0152\"],[0.1,\"#c51b7d\"],[0.2,\"#de77ae\"],[0.3,\"#f1b6da\"],[0.4,\"#fde0ef\"],[0.5,\"#f7f7f7\"],[0.6,\"#e6f5d0\"],[0.7,\"#b8e186\"],[0.8,\"#7fbc41\"],[0.9,\"#4d9221\"],[1,\"#276419\"]]},\"xaxis\":{\"gridcolor\":\"white\",\"linecolor\":\"white\",\"ticks\":\"\",\"title\":{\"standoff\":15},\"zerolinecolor\":\"white\",\"automargin\":true,\"zerolinewidth\":2},\"yaxis\":{\"gridcolor\":\"white\",\"linecolor\":\"white\",\"ticks\":\"\",\"title\":{\"standoff\":15},\"zerolinecolor\":\"white\",\"automargin\":true,\"zerolinewidth\":2},\"scene\":{\"xaxis\":{\"backgroundcolor\":\"#E5ECF6\",\"gridcolor\":\"white\",\"linecolor\":\"white\",\"showbackground\":true,\"ticks\":\"\",\"zerolinecolor\":\"white\",\"gridwidth\":2},\"yaxis\":{\"backgroundcolor\":\"#E5ECF6\",\"gridcolor\":\"white\",\"linecolor\":\"white\",\"showbackground\":true,\"ticks\":\"\",\"zerolinecolor\":\"white\",\"gridwidth\":2},\"zaxis\":{\"backgroundcolor\":\"#E5ECF6\",\"gridcolor\":\"white\",\"linecolor\":\"white\",\"showbackground\":true,\"ticks\":\"\",\"zerolinecolor\":\"white\",\"gridwidth\":2}},\"shapedefaults\":{\"line\":{\"color\":\"#2a3f5f\"}},\"annotationdefaults\":{\"arrowcolor\":\"#2a3f5f\",\"arrowhead\":0,\"arrowwidth\":1},\"geo\":{\"bgcolor\":\"white\",\"landcolor\":\"#E5ECF6\",\"subunitcolor\":\"white\",\"showland\":true,\"showlakes\":true,\"lakecolor\":\"white\"},\"title\":{\"x\":0.05},\"mapbox\":{\"style\":\"light\"}}},\"yaxis\":{\"title\":{\"text\":\"% of women\"},\"range\":[1,100],\"gridcolor\":\"black\"},\"title\":{\"text\":\"Women's representation in movie casts\",\"x\":0.5},\"updatemenus\":[{\"active\":0,\"buttons\":[{\"args\":[{\"visible\":[true,true,false,false]},{\"title\":\"Women's representation in movie casts\"}],\"label\":\"In the cast\",\"method\":\"update\"},{\"args\":[{\"visible\":[false,false,true,true]},{\"title\":\"Women's representation in movie summaries\"}],\"label\":\"In the summaries\",\"method\":\"update\"}],\"direction\":\"down\",\"pad\":{\"r\":10,\"t\":10},\"showactive\":true,\"x\":0.1,\"xanchor\":\"left\",\"y\":1.1,\"yanchor\":\"top\"}],\"paper_bgcolor\":\"rgba(0,0,0,0)\",\"plot_bgcolor\":\"rgba(0,0,0,0)\"},                        {\"responsive\": true}                    ).then(function(){\n",
       "                            \n",
       "var gd = document.getElementById('11cd194e-0477-44ba-a298-a877580ccc8c');\n",
       "var x = new MutationObserver(function (mutations, observer) {{\n",
       "        var display = window.getComputedStyle(gd).display;\n",
       "        if (!display || display === 'none') {{\n",
       "            console.log([gd, 'removed!']);\n",
       "            Plotly.purge(gd);\n",
       "            observer.disconnect();\n",
       "        }}\n",
       "}});\n",
       "\n",
       "// Listen for the removal of the full notebook cells\n",
       "var notebookContainer = gd.closest('#notebook-container');\n",
       "if (notebookContainer) {{\n",
       "    x.observe(notebookContainer, {childList: true});\n",
       "}}\n",
       "\n",
       "// Listen for the clearing of the current output cell\n",
       "var outputEl = gd.closest('.output');\n",
       "if (outputEl) {{\n",
       "    x.observe(outputEl, {childList: true});\n",
       "}}\n",
       "\n",
       "                        })                };                });            </script>        </div>"
      ]
     },
     "metadata": {},
     "output_type": "display_data"
    }
   ],
   "source": [
    "\n",
    "fig = go.Figure(data=[go.Bar(\n",
    "    name='Best 5 Genres',\n",
    "    x=best_5_genre_cast['genre'],\n",
    "    y=best_5_genre_cast['F_ratio']\n",
    "),\n",
    "    go.Bar(\n",
    "    name='Worst 5 Genres',\n",
    "    x=worst_5_genre_cast['genre'],\n",
    "    y=worst_5_genre_cast['F_ratio']\n",
    "),\n",
    "    go.Bar(\n",
    "    name='Best 5 Genres',\n",
    "    x=best_5_genre_summaries['genre'],\n",
    "    y=best_5_genre_summaries['F_ratio'],\n",
    "    visible=False\n",
    "),\n",
    "    go.Bar(\n",
    "    name='Worst 5 Genres',\n",
    "    x=worst_5_genre_summaries['genre'],\n",
    "    y=worst_5_genre_summaries['F_ratio'],\n",
    "    visible=False\n",
    ")\n",
    "])\n",
    "\n",
    "fig.update_yaxes(title_text=\"% of women\", range=[1, 100])\n",
    "\n",
    "\n",
    "# Add dropdown\n",
    "fig.update_layout(\n",
    "    title=\"Women's representation in movie casts\",\n",
    "    title_x = 0.5,\n",
    "    updatemenus=[\n",
    "        dict(\n",
    "            active=0,\n",
    "            buttons=list([\n",
    "                dict(\n",
    "                    label=\"In the cast\",\n",
    "                    method=\"update\",\n",
    "                    args=[{\"visible\": [True, True, False, False]},\n",
    "                          {\"title\": \"Women's representation in movie casts\"}]),\n",
    "                dict(\n",
    "                    label=\"In the summaries\",\n",
    "                    method=\"update\",\n",
    "                    args=[{\"visible\": [False, False, True, True]},\n",
    "                          {\"title\": \"Women's representation in movie summaries\",}])\n",
    "            ]),\n",
    "            direction=\"down\",\n",
    "            pad={\"r\": 10, \"t\": 10},\n",
    "            showactive=True,\n",
    "            x=0.1,\n",
    "            xanchor=\"left\",\n",
    "            y=1.1,\n",
    "            yanchor=\"top\"\n",
    "        ),\n",
    "    ],\n",
    "    paper_bgcolor='rgba(0,0,0,0)',\n",
    "    plot_bgcolor='rgba(0,0,0,0)',\n",
    ")\n",
    "\n",
    "fig.update_yaxes(gridcolor='black')\n",
    "\n",
    "\n",
    "fig.show()"
   ]
  },
  {
   "cell_type": "code",
   "execution_count": 109,
   "id": "6f8d669e",
   "metadata": {},
   "outputs": [
    {
     "data": {
      "text/html": [
       "<div>\n",
       "<style scoped>\n",
       "    .dataframe tbody tr th:only-of-type {\n",
       "        vertical-align: middle;\n",
       "    }\n",
       "\n",
       "    .dataframe tbody tr th {\n",
       "        vertical-align: top;\n",
       "    }\n",
       "\n",
       "    .dataframe thead th {\n",
       "        text-align: right;\n",
       "    }\n",
       "</style>\n",
       "<table border=\"1\" class=\"dataframe\">\n",
       "  <thead>\n",
       "    <tr style=\"text-align: right;\">\n",
       "      <th></th>\n",
       "      <th>Movie release year</th>\n",
       "      <th>F_ratio_c</th>\n",
       "    </tr>\n",
       "  </thead>\n",
       "  <tbody>\n",
       "    <tr>\n",
       "      <th>0</th>\n",
       "      <td>1888.0</td>\n",
       "      <td>0.5</td>\n",
       "    </tr>\n",
       "    <tr>\n",
       "      <th>1</th>\n",
       "      <td>1891.0</td>\n",
       "      <td>0.0</td>\n",
       "    </tr>\n",
       "  </tbody>\n",
       "</table>\n",
       "</div>"
      ],
      "text/plain": [
       "   Movie release year  F_ratio_c\n",
       "0              1888.0        0.5\n",
       "1              1891.0        0.0"
      ]
     },
     "execution_count": 109,
     "metadata": {},
     "output_type": "execute_result"
    }
   ],
   "source": [
    "year_ratio_cast = df_ratio_cast\n",
    "# Compute the ratio\n",
    "year_ratio_cast['F_ratio_c'] = df_ratio_cast['f_occ']/df_ratio_cast['tot_chars']\n",
    "year_ratio_cast = year_ratio_cast[['wiki_id', 'F_ratio_c']].dropna()\n",
    "# Merge to get movie release year\n",
    "year_ratio_cast = year_ratio_cast.merge(movie_md, left_on='wiki_id', right_on='Wikipedia movie ID')[['F_ratio_c', 'Movie release year']]\n",
    "# Take the mean per year\n",
    "year_ratio_cast = year_ratio_cast.groupby('Movie release year').mean().reset_index()\n",
    "year_ratio_cast.head(2)"
   ]
  },
  {
   "cell_type": "code",
   "execution_count": 117,
   "id": "4bc1830d",
   "metadata": {},
   "outputs": [
    {
     "data": {
      "text/html": [
       "<div>\n",
       "<style scoped>\n",
       "    .dataframe tbody tr th:only-of-type {\n",
       "        vertical-align: middle;\n",
       "    }\n",
       "\n",
       "    .dataframe tbody tr th {\n",
       "        vertical-align: top;\n",
       "    }\n",
       "\n",
       "    .dataframe thead th {\n",
       "        text-align: right;\n",
       "    }\n",
       "</style>\n",
       "<table border=\"1\" class=\"dataframe\">\n",
       "  <thead>\n",
       "    <tr style=\"text-align: right;\">\n",
       "      <th></th>\n",
       "      <th>Movie release year</th>\n",
       "      <th>F_ratio_s</th>\n",
       "    </tr>\n",
       "  </thead>\n",
       "  <tbody>\n",
       "    <tr>\n",
       "      <th>0</th>\n",
       "      <td>1896.0</td>\n",
       "      <td>0.0</td>\n",
       "    </tr>\n",
       "    <tr>\n",
       "      <th>1</th>\n",
       "      <td>1900.0</td>\n",
       "      <td>0.0</td>\n",
       "    </tr>\n",
       "  </tbody>\n",
       "</table>\n",
       "</div>"
      ],
      "text/plain": [
       "   Movie release year  F_ratio_s\n",
       "0              1896.0        0.0\n",
       "1              1900.0        0.0"
      ]
     },
     "execution_count": 117,
     "metadata": {},
     "output_type": "execute_result"
    }
   ],
   "source": [
    "year_ratio_summaries = m_f_counts[['wiki_id', 'total_M_2', 'total_F_2']].rename(\n",
    "                                                                        columns={'total_M_2': 'M', 'total_F_2':'F'})\n",
    "# Compute ratio\n",
    "year_ratio_summaries['F_ratio_s'] = year_ratio_summaries['F']/(year_ratio_summaries['F']+year_ratio_summaries['M'])\n",
    "year_ratio_summaries = year_ratio_summaries[['wiki_id', 'F_ratio_s']].dropna()\n",
    "# Merge to get movie release year\n",
    "year_ratio_summaries = year_ratio_summaries.merge(movie_md, left_on='wiki_id', right_on='Wikipedia movie ID')[['F_ratio_s', 'Movie release year']]\n",
    "year_ratio_summaries = year_ratio_summaries.groupby('Movie release year').mean().reset_index()\n",
    "year_ratio_summaries.head(2)"
   ]
  },
  {
   "cell_type": "code",
   "execution_count": 196,
   "id": "e2e33610",
   "metadata": {},
   "outputs": [],
   "source": [
    "y_r_c_cropped = year_ratio_cast[(year_ratio_cast['Movie release year'] >= 1941)]\n",
    "y_r_c_cropped = y_r_c_cropped[y_r_c_cropped['Movie release year'] <= 2012]\n",
    "y_r_c_cropped['F_ratio_c'] = y_r_c_cropped['F_ratio_c']*100"
   ]
  },
  {
   "cell_type": "code",
   "execution_count": 198,
   "id": "c3881662",
   "metadata": {},
   "outputs": [],
   "source": [
    "y_r_s_cropped = year_ratio_summaries[year_ratio_summaries['Movie release year'] >= 1941]\n",
    "y_r_s_cropped = y_r_s_cropped[y_r_s_cropped['Movie release year'] <= 2012]\n",
    "y_r_s_cropped['F_ratio_s'] = y_r_s_cropped['F_ratio_s']*100"
   ]
  },
  {
   "cell_type": "code",
   "execution_count": 1,
   "id": "88428e85",
   "metadata": {
    "scrolled": true
   },
   "outputs": [
    {
     "ename": "NameError",
     "evalue": "name 'go' is not defined",
     "output_type": "error",
     "traceback": [
      "\u001b[1;31m---------------------------------------------------------------------------\u001b[0m",
      "\u001b[1;31mNameError\u001b[0m                                 Traceback (most recent call last)",
      "Input \u001b[1;32mIn [1]\u001b[0m, in \u001b[0;36m<cell line: 1>\u001b[1;34m()\u001b[0m\n\u001b[1;32m----> 1\u001b[0m fig \u001b[38;5;241m=\u001b[39m \u001b[43mgo\u001b[49m\u001b[38;5;241m.\u001b[39mFigure(\n\u001b[0;32m      2\u001b[0m     data\u001b[38;5;241m=\u001b[39m[\n\u001b[0;32m      3\u001b[0m         go\u001b[38;5;241m.\u001b[39mScatter(\n\u001b[0;32m      4\u001b[0m             name\u001b[38;5;241m=\u001b[39m\u001b[38;5;124m'\u001b[39m\u001b[38;5;124mWomen in the cast\u001b[39m\u001b[38;5;124m'\u001b[39m,\n\u001b[0;32m      5\u001b[0m             x\u001b[38;5;241m=\u001b[39my_r_c_cropped[\u001b[38;5;124m'\u001b[39m\u001b[38;5;124mMovie release year\u001b[39m\u001b[38;5;124m'\u001b[39m],\n\u001b[0;32m      6\u001b[0m             y\u001b[38;5;241m=\u001b[39my_r_c_cropped[\u001b[38;5;124m'\u001b[39m\u001b[38;5;124mF_ratio_c\u001b[39m\u001b[38;5;124m'\u001b[39m]\n\u001b[0;32m      7\u001b[0m         ),\n\u001b[0;32m      8\u001b[0m         go\u001b[38;5;241m.\u001b[39mScatter(\n\u001b[0;32m      9\u001b[0m             name\u001b[38;5;241m=\u001b[39m\u001b[38;5;124m'\u001b[39m\u001b[38;5;124mWomen in the summaries\u001b[39m\u001b[38;5;124m'\u001b[39m,\n\u001b[0;32m     10\u001b[0m             x\u001b[38;5;241m=\u001b[39my_r_s_cropped[\u001b[38;5;124m'\u001b[39m\u001b[38;5;124mMovie release year\u001b[39m\u001b[38;5;124m'\u001b[39m],\n\u001b[0;32m     11\u001b[0m             y\u001b[38;5;241m=\u001b[39my_r_s_cropped[\u001b[38;5;124m'\u001b[39m\u001b[38;5;124mF_ratio_s\u001b[39m\u001b[38;5;124m'\u001b[39m]\n\u001b[0;32m     12\u001b[0m         )])\n\u001b[0;32m     14\u001b[0m fig\u001b[38;5;241m.\u001b[39mupdate_layout(\n\u001b[0;32m     15\u001b[0m     paper_bgcolor\u001b[38;5;241m=\u001b[39m\u001b[38;5;124m'\u001b[39m\u001b[38;5;124mrgba(0,0,0,0)\u001b[39m\u001b[38;5;124m'\u001b[39m,\n\u001b[0;32m     16\u001b[0m     plot_bgcolor\u001b[38;5;241m=\u001b[39m\u001b[38;5;124m'\u001b[39m\u001b[38;5;124mrgba(0,0,0,0)\u001b[39m\u001b[38;5;124m'\u001b[39m,\n\u001b[0;32m     17\u001b[0m     title\u001b[38;5;241m=\u001b[39m\u001b[38;5;124m\"\u001b[39m\u001b[38;5;124mWomen\u001b[39m\u001b[38;5;124m'\u001b[39m\u001b[38;5;124ms representation through the years\u001b[39m\u001b[38;5;124m\"\u001b[39m,\n\u001b[0;32m     18\u001b[0m     title_x \u001b[38;5;241m=\u001b[39m \u001b[38;5;241m0.5\u001b[39m,\n\u001b[0;32m     19\u001b[0m )\n\u001b[0;32m     22\u001b[0m fig\u001b[38;5;241m.\u001b[39mupdate_xaxes(title_text\u001b[38;5;241m=\u001b[39m\u001b[38;5;124m'\u001b[39m\u001b[38;5;124myear\u001b[39m\u001b[38;5;124m'\u001b[39m, showline\u001b[38;5;241m=\u001b[39m\u001b[38;5;28;01mTrue\u001b[39;00m, linewidth\u001b[38;5;241m=\u001b[39m\u001b[38;5;241m2\u001b[39m, linecolor\u001b[38;5;241m=\u001b[39m\u001b[38;5;124m'\u001b[39m\u001b[38;5;124mblack\u001b[39m\u001b[38;5;124m'\u001b[39m)\n",
      "\u001b[1;31mNameError\u001b[0m: name 'go' is not defined"
     ]
    }
   ],
   "source": [
    "fig = go.Figure(\n",
    "    data=[\n",
    "        go.Scatter(\n",
    "            name='Women in the cast',\n",
    "            x=y_r_c_cropped['Movie release year'],\n",
    "            y=y_r_c_cropped['F_ratio_c']\n",
    "        ),\n",
    "        go.Scatter(\n",
    "            name='Women in the summaries',\n",
    "            x=y_r_s_cropped['Movie release year'],\n",
    "            y=y_r_s_cropped['F_ratio_s']\n",
    "        )])\n",
    "\n",
    "fig.update_layout(\n",
    "    paper_bgcolor='rgba(0,0,0,0)',\n",
    "    plot_bgcolor='rgba(0,0,0,0)',\n",
    "    title=\"Women's representation through the years\",\n",
    "    title_x = 0.5,\n",
    ")\n",
    "\n",
    "\n",
    "fig.update_xaxes(title_text='year', showline=True, linewidth=2, linecolor='black')\n",
    "fig.update_yaxes(title_text=\"% of women\", range=[1, 50], showline=True, linewidth=2, linecolor='black', gridcolor='black')\n",
    "\n",
    "fig.show()"
   ]
  },
  {
   "cell_type": "code",
   "execution_count": null,
   "id": "e45009ab-ceaf-4247-96c9-839257ac8395",
   "metadata": {},
   "outputs": [],
   "source": []
  }
 ],
 "metadata": {
  "kernelspec": {
   "display_name": "Python 3 (ipykernel)",
   "language": "python",
   "name": "python3"
  },
  "language_info": {
   "codemirror_mode": {
    "name": "ipython",
    "version": 3
   },
   "file_extension": ".py",
   "mimetype": "text/x-python",
   "name": "python",
   "nbconvert_exporter": "python",
   "pygments_lexer": "ipython3",
   "version": "3.9.15"
  }
 },
 "nbformat": 4,
 "nbformat_minor": 5
}
